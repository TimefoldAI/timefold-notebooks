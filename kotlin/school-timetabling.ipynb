{
 "cells": [
  {
   "cell_type": "markdown",
   "source": [
    "# School timetabling kotlin notebook\n",
    "\n",
    "This Kotlin Notebook solves the school timetabling problem with [Timefold](https://timefold.ai], the open source planning solver AI.\n",
    "\n",
    "![School timetabling input output](https://timefold.ai/docs/timefold-solver/latest/_images/quickstart/school-timetabling/schoolTimetablingInputOutput.png)\n",
    "\n",
    "## Dependencies\n",
    "\n",
    "Add the Timefold solver dependency:"
   ],
   "metadata": {
    "collapsed": false
   }
  },
  {
   "cell_type": "code",
   "execution_count": 1,
   "outputs": [],
   "source": [
    "@file:DependsOn(\"ai.timefold.solver:timefold-solver-core:1.5.0\")"
   ],
   "metadata": {
    "collapsed": false,
    "ExecuteTime": {
     "end_time": "2023-12-31T14:40:39.015555085Z",
     "start_time": "2023-12-31T14:40:37.605426719Z"
    }
   }
  },
  {
   "cell_type": "markdown",
   "source": [
    "\n",
    "## Domain\n",
    "\n",
    "Create the domain classes:\n",
    "\n",
    "### Room\n",
    "\n",
    "A school has rooms."
   ],
   "metadata": {
    "collapsed": false
   }
  },
  {
   "cell_type": "code",
   "execution_count": 2,
   "outputs": [],
   "source": [
    "class Room {\n",
    "\n",
    "    var name: String\n",
    "\n",
    "    constructor(name: String) {\n",
    "        this.name = name\n",
    "    }\n",
    "\n",
    "    override fun toString(): String = name\n",
    "\n",
    "}"
   ],
   "metadata": {
    "collapsed": false,
    "ExecuteTime": {
     "end_time": "2023-12-31T14:40:39.237410679Z",
     "start_time": "2023-12-31T14:40:39.022123135Z"
    }
   }
  },
  {
   "cell_type": "markdown",
   "source": [
    "### Timeslot\n",
    "\n",
    "A school timetable has timeslots."
   ],
   "metadata": {
    "collapsed": false
   }
  },
  {
   "cell_type": "code",
   "execution_count": 3,
   "outputs": [],
   "source": [
    "import java.time.DayOfWeek\n",
    "import java.time.LocalTime\n",
    "\n",
    "class Timeslot {\n",
    "\n",
    "    var dayOfWeek: DayOfWeek\n",
    "    var startTime: LocalTime\n",
    "    var endTime: LocalTime\n",
    "\n",
    "    constructor(dayOfWeek: DayOfWeek, startTime: LocalTime, endTime: LocalTime) {\n",
    "        this.dayOfWeek = dayOfWeek\n",
    "        this.startTime = startTime\n",
    "        this.endTime = endTime\n",
    "    }\n",
    "\n",
    "    override fun toString(): String = \"$dayOfWeek $startTime\"\n",
    "\n",
    "}"
   ],
   "metadata": {
    "collapsed": false,
    "ExecuteTime": {
     "end_time": "2023-12-31T14:40:39.438584158Z",
     "start_time": "2023-12-31T14:40:39.241062967Z"
    }
   }
  },
  {
   "cell_type": "markdown",
   "source": [
    "### Lesson\n",
    "\n",
    "Each lesson must be assigned to a timeslot and to a room by the solver."
   ],
   "metadata": {
    "collapsed": false
   }
  },
  {
   "cell_type": "code",
   "execution_count": null,
   "outputs": [],
   "source": [
    "import ai.timefold.solver.core.api.domain.entity.PlanningEntity\n",
    "import ai.timefold.solver.core.api.domain.lookup.PlanningId\n",
    "import ai.timefold.solver.core.api.domain.variable.PlanningVariable\n",
    "\n",
    "@PlanningEntity\n",
    "class Lesson {\n",
    "\n",
    "    @PlanningId\n",
    "    var id: Long? = null\n",
    "    lateinit var subject: String\n",
    "    lateinit var teacher: String\n",
    "    lateinit var studentGroup: String\n",
    "\n",
    "    @PlanningVariable\n",
    "    var timeslot: Timeslot? = null\n",
    "    @PlanningVariable\n",
    "    var room: Room? = null\n",
    "\n",
    "    // No-arg constructor required for Timefold\n",
    "    constructor()\n",
    "\n",
    "    constructor(id: Long, subject: String, teacher: String, studentGroup: String) {\n",
    "        this.id = id\n",
    "        this.subject = subject\n",
    "        this.teacher = teacher\n",
    "        this.studentGroup = studentGroup\n",
    "    }\n",
    "\n",
    "\n",
    "    override fun toString(): String = \"$subject\"\n",
    "\n",
    "}"
   ],
   "metadata": {
    "collapsed": false,
    "is_executing": true,
    "ExecuteTime": {
     "start_time": "2023-12-31T14:40:39.442265864Z"
    }
   }
  },
  {
   "cell_type": "markdown",
   "source": [
    "## Constraints\n",
    "\n",
    "The solver must take into account hard and soft constraints:"
   ],
   "metadata": {
    "collapsed": false
   }
  },
  {
   "cell_type": "code",
   "execution_count": null,
   "outputs": [],
   "source": [
    "import ai.timefold.solver.core.api.score.buildin.hardsoft.HardSoftScore\n",
    "import ai.timefold.solver.core.api.score.stream.Constraint\n",
    "import ai.timefold.solver.core.api.score.stream.ConstraintFactory\n",
    "import ai.timefold.solver.core.api.score.stream.ConstraintProvider\n",
    "import ai.timefold.solver.core.api.score.stream.Joiners\n",
    "import java.time.Duration\n",
    "\n",
    "class TimeTableConstraintProvider : ConstraintProvider {\n",
    "\n",
    "    override fun defineConstraints(constraintFactory: ConstraintFactory): Array<Constraint>? {\n",
    "        return arrayOf(\n",
    "            // Hard constraints\n",
    "            roomConflict(constraintFactory),\n",
    "            teacherConflict(constraintFactory),\n",
    "            studentGroupConflict(constraintFactory),\n",
    "            // Soft constraints\n",
    "            teacherRoomStability(constraintFactory),\n",
    "            teacherTimeEfficiency(constraintFactory),\n",
    "            studentGroupSubjectVariety(constraintFactory)\n",
    "        )\n",
    "    }\n",
    "\n",
    "    fun roomConflict(constraintFactory: ConstraintFactory): Constraint {\n",
    "        // A room can accommodate at most one lesson at the same time.\n",
    "        return constraintFactory\n",
    "            // Select each pair of 2 different lessons ...\n",
    "            .forEachUniquePair(\n",
    "                Lesson::class.java,\n",
    "                // ... in the same timeslot ...\n",
    "                Joiners.equal(Lesson::timeslot),\n",
    "                // ... in the same room ...\n",
    "                Joiners.equal(Lesson::room)\n",
    "            )\n",
    "            // ... and penalize each pair with a hard weight.\n",
    "            .penalize(HardSoftScore.ONE_HARD)\n",
    "            .asConstraint(\"Room conflict\");\n",
    "    }\n",
    "\n",
    "    fun teacherConflict(constraintFactory: ConstraintFactory): Constraint {\n",
    "        // A teacher can teach at most one lesson at the same time.\n",
    "        return constraintFactory\n",
    "            .forEachUniquePair(\n",
    "                Lesson::class.java,\n",
    "                Joiners.equal(Lesson::timeslot),\n",
    "                Joiners.equal(Lesson::teacher)\n",
    "            )\n",
    "            .penalize(HardSoftScore.ONE_HARD)\n",
    "            .asConstraint(\"Teacher conflict\");\n",
    "    }\n",
    "\n",
    "    fun studentGroupConflict(constraintFactory: ConstraintFactory): Constraint {\n",
    "        // A student can attend at most one lesson at the same time.\n",
    "        return constraintFactory\n",
    "            .forEachUniquePair(\n",
    "                Lesson::class.java,\n",
    "                Joiners.equal(Lesson::timeslot),\n",
    "                Joiners.equal(Lesson::studentGroup)\n",
    "            )\n",
    "            .penalize(HardSoftScore.ONE_HARD)\n",
    "            .asConstraint(\"Student group conflict\");\n",
    "    }\n",
    "\n",
    "    fun teacherRoomStability(constraintFactory: ConstraintFactory): Constraint {\n",
    "        // A teacher prefers to teach in a single room.\n",
    "        return constraintFactory\n",
    "            .forEachUniquePair(\n",
    "                Lesson::class.java,\n",
    "                Joiners.equal(Lesson::teacher)\n",
    "            )\n",
    "            .filter { lesson1: Lesson, lesson2: Lesson -> lesson1.room !== lesson2.room }\n",
    "            .penalize(HardSoftScore.ONE_SOFT)\n",
    "            .asConstraint(\"Teacher room stability\");\n",
    "    }\n",
    "\n",
    "    fun teacherTimeEfficiency(constraintFactory: ConstraintFactory): Constraint {\n",
    "        // A teacher prefers to teach sequential lessons and dislikes gaps between lessons.\n",
    "        return constraintFactory\n",
    "            .forEach(Lesson::class.java)\n",
    "            .join(Lesson::class.java,\n",
    "                Joiners.equal(Lesson::teacher),\n",
    "                Joiners.equal { lesson: Lesson -> lesson.timeslot?.dayOfWeek })\n",
    "            .filter { lesson1: Lesson, lesson2: Lesson ->\n",
    "                val between = Duration.between(\n",
    "                    lesson1.timeslot?.endTime,\n",
    "                    lesson2.timeslot?.startTime\n",
    "                )\n",
    "                !between.isNegative && between.compareTo(Duration.ofMinutes(30)) <= 0\n",
    "            }\n",
    "            .reward(HardSoftScore.ONE_SOFT)\n",
    "            .asConstraint(\"Teacher time efficiency\");\n",
    "    }\n",
    "\n",
    "    fun studentGroupSubjectVariety(constraintFactory: ConstraintFactory): Constraint {\n",
    "        // A student group dislikes sequential lessons on the same subject.\n",
    "        return constraintFactory\n",
    "            .forEach(Lesson::class.java)\n",
    "            .join(Lesson::class.java,\n",
    "                Joiners.equal(Lesson::subject),\n",
    "                Joiners.equal(Lesson::studentGroup),\n",
    "                Joiners.equal { lesson: Lesson -> lesson.timeslot?.dayOfWeek })\n",
    "            .filter { lesson1: Lesson, lesson2: Lesson ->\n",
    "                val between = Duration.between(\n",
    "                    lesson1.timeslot?.endTime,\n",
    "                    lesson2.timeslot?.startTime\n",
    "                )\n",
    "                !between.isNegative && between.compareTo(Duration.ofMinutes(30)) <= 0\n",
    "            }\n",
    "            .penalize(HardSoftScore.ONE_SOFT)\n",
    "            .asConstraint(\"Student group subject variety\");\n",
    "    }\n",
    "\n",
    "}"
   ],
   "metadata": {
    "collapsed": false,
    "is_executing": true,
    "ExecuteTime": {
     "start_time": "2023-12-31T14:40:39.789654818Z"
    }
   }
  },
  {
   "cell_type": "markdown",
   "source": [
    "### TimeTable\n",
    "\n",
    "The timetable class represents a single dataset, typically a single school:"
   ],
   "metadata": {
    "collapsed": false
   }
  },
  {
   "cell_type": "code",
   "execution_count": null,
   "outputs": [],
   "source": [
    "import ai.timefold.solver.core.api.domain.solution.PlanningEntityCollectionProperty\n",
    "import ai.timefold.solver.core.api.domain.solution.PlanningScore\n",
    "import ai.timefold.solver.core.api.domain.solution.PlanningSolution\n",
    "import ai.timefold.solver.core.api.domain.solution.ProblemFactCollectionProperty\n",
    "import ai.timefold.solver.core.api.domain.valuerange.ValueRangeProvider\n",
    "import ai.timefold.solver.core.api.score.buildin.hardsoft.HardSoftScore\n",
    "\n",
    "@PlanningSolution\n",
    "class TimeTable {\n",
    "\n",
    "    @ProblemFactCollectionProperty\n",
    "    @ValueRangeProvider\n",
    "    lateinit var timeslots: List<Timeslot>\n",
    "    @ProblemFactCollectionProperty\n",
    "    @ValueRangeProvider\n",
    "    lateinit var rooms: List<Room>\n",
    "    @PlanningEntityCollectionProperty\n",
    "    lateinit var lessons: List<Lesson>\n",
    "\n",
    "    @PlanningScore\n",
    "    var score: HardSoftScore? = null\n",
    "\n",
    "    // No-arg constructor required for Timefold\n",
    "    constructor() {}\n",
    "\n",
    "    constructor(timeslots: List<Timeslot>, rooms: List<Room>, lessons: List<Lesson>) {\n",
    "        this.timeslots = timeslots\n",
    "        this.rooms = rooms\n",
    "        this.lessons = lessons\n",
    "    }\n",
    "\n",
    "}"
   ],
   "metadata": {
    "collapsed": false,
    "is_executing": true,
    "ExecuteTime": {
     "start_time": "2023-12-31T14:40:41.286710162Z"
    }
   }
  },
  {
   "cell_type": "markdown",
   "source": [
    "## Data generator\n",
    "\n",
    "Generate some data for a small school timetable:"
   ],
   "metadata": {
    "collapsed": false
   }
  },
  {
   "cell_type": "code",
   "execution_count": null,
   "outputs": [],
   "source": [
    "fun generateDemoData(): TimeTable {\n",
    "    val timeslots: MutableList<Timeslot> = mutableListOf(\n",
    "            Timeslot(DayOfWeek.MONDAY, LocalTime.of(8, 30), LocalTime.of(9, 30)),\n",
    "            Timeslot(DayOfWeek.MONDAY, LocalTime.of(9, 30), LocalTime.of(10, 30)),\n",
    "            Timeslot(DayOfWeek.MONDAY, LocalTime.of(10, 30), LocalTime.of(11, 30)),\n",
    "            Timeslot(DayOfWeek.MONDAY, LocalTime.of(13, 30), LocalTime.of(14, 30)),\n",
    "            Timeslot(DayOfWeek.MONDAY, LocalTime.of(14, 30), LocalTime.of(15, 30)),\n",
    "    \n",
    "            Timeslot(DayOfWeek.TUESDAY, LocalTime.of(8, 30), LocalTime.of(9, 30)),\n",
    "            Timeslot(DayOfWeek.TUESDAY, LocalTime.of(9, 30), LocalTime.of(10, 30)),\n",
    "            Timeslot(DayOfWeek.TUESDAY, LocalTime.of(10, 30), LocalTime.of(11, 30)),\n",
    "            Timeslot(DayOfWeek.TUESDAY, LocalTime.of(13, 30), LocalTime.of(14, 30)),\n",
    "            Timeslot(DayOfWeek.TUESDAY, LocalTime.of(14, 30), LocalTime.of(15, 30)))\n",
    "    \n",
    "    \n",
    "    val rooms: MutableList<Room> = mutableListOf(\n",
    "            Room(\"Room A\"),\n",
    "            Room(\"Room B\"),\n",
    "            Room(\"Room C\"))\n",
    "    \n",
    "    var nextId: Long = 0\n",
    "    val lessons: MutableList<Lesson> = mutableListOf(\n",
    "            Lesson(nextId++, \"Math\", \"A. Turing\", \"9th grade\"),\n",
    "            Lesson(nextId++, \"Math\", \"A. Turing\", \"9th grade\"),\n",
    "            Lesson(nextId++, \"Physics\", \"M. Curie\", \"9th grade\"),\n",
    "            Lesson(nextId++, \"Chemistry\", \"M. Curie\", \"9th grade\"),\n",
    "            Lesson(nextId++, \"Biology\", \"C. Darwin\", \"9th grade\"),\n",
    "            Lesson(nextId++, \"History\", \"I. Jones\", \"9th grade\"),\n",
    "            Lesson(nextId++, \"English\", \"I. Jones\", \"9th grade\"),\n",
    "            Lesson(nextId++, \"English\", \"I. Jones\", \"9th grade\"),\n",
    "            Lesson(nextId++, \"Spanish\", \"P. Cruz\", \"9th grade\"),\n",
    "            Lesson(nextId++, \"Spanish\", \"P. Cruz\", \"9th grade\"),\n",
    "            Lesson(nextId++, \"Math\", \"A. Turing\", \"10th grade\"),\n",
    "            Lesson(nextId++, \"Math\", \"A. Turing\", \"10th grade\"),\n",
    "            Lesson(nextId++, \"Math\", \"A. Turing\", \"10th grade\"),\n",
    "            Lesson(nextId++, \"Physics\", \"M. Curie\", \"10th grade\"),\n",
    "            Lesson(nextId++, \"Chemistry\", \"M. Curie\", \"10th grade\"),\n",
    "            Lesson(nextId++, \"French\", \"M. Curie\", \"10th grade\"),\n",
    "            Lesson(nextId++, \"Geography\", \"C. Darwin\", \"10th grade\"),\n",
    "            Lesson(nextId++, \"History\", \"I. Jones\", \"10th grade\"),\n",
    "            Lesson(nextId++, \"English\", \"P. Cruz\", \"10th grade\"),\n",
    "            Lesson(nextId++, \"Spanish\", \"P. Cruz\", \"10th grade\"))\n",
    "    return TimeTable(timeslots, rooms, lessons)\n",
    "}"
   ],
   "metadata": {
    "collapsed": false,
    "is_executing": true,
    "ExecuteTime": {
     "start_time": "2023-12-31T14:40:41.405917091Z"
    }
   }
  },
  {
   "cell_type": "markdown",
   "source": [
    "## Visualize the result\n",
    "\n",
    "Print the timetable to the console:"
   ],
   "metadata": {
    "collapsed": false
   }
  },
  {
   "cell_type": "code",
   "execution_count": null,
   "outputs": [],
   "source": [
    "fun printTimeTable(timeTable: TimeTable) {\n",
    "    println(\"\")\n",
    "\n",
    "    val lessonMap = timeTable.lessons.groupBy { lesson -> Pair(lesson.timeslot, lesson.room) }\n",
    "\n",
    "    print(\"|            \")\n",
    "    for (room in timeTable.rooms) {\n",
    "        print(\"| \" + String.format(\"%-10s\", room.name) + \" \")    \n",
    "    }\n",
    "    println(\"|\") \n",
    "    println(\"|\" + \"------------|\".repeat(timeTable.rooms.size + 1))  \n",
    "    \n",
    "    for (timeslot in timeTable.timeslots) {\n",
    "        print(\"| \" + String.format(\"%-10s\", \"\" + timeslot.dayOfWeek.toString().subSequence(0, 3) + \" \" + timeslot.startTime) + \" \")\n",
    "        for (room in timeTable.rooms) {\n",
    "            print(\"| \")   \n",
    "            val cellLessons = lessonMap.get(Pair(timeslot, room)) ?: emptyList()\n",
    "            print(String.format(\"%-10s\", cellLessons.map { lesson -> lesson.subject }.joinToString(\", \")))\n",
    "            print(\" \")\n",
    "        }\n",
    "        println(\"|\")\n",
    "        print(\"| \" + String.format(\"%-10s\", \"\") + \" \")\n",
    "        for (room in timeTable.rooms) {\n",
    "            print(\"| \")   \n",
    "            val cellLessons = lessonMap.get(Pair(timeslot, room)) ?: emptyList()\n",
    "            print(String.format(\"%-10s\", cellLessons.map { lesson -> lesson.teacher }.joinToString(\", \")))\n",
    "            print(\" \")\n",
    "        }\n",
    "        println(\"|\")\n",
    "        print(\"| \" + String.format(\"%-10s\", \"\") + \" \")\n",
    "        for (room in timeTable.rooms) {\n",
    "            print(\"| \")   \n",
    "            val cellLessons = lessonMap.get(Pair(timeslot, room)) ?: emptyList()\n",
    "            print(String.format(\"%-10s\", cellLessons.map { lesson -> lesson.studentGroup }.joinToString(\", \")))\n",
    "            print(\" \")\n",
    "        }\n",
    "        println(\"|\") \n",
    "        println(\"|\" + \"------------|\".repeat(timeTable.rooms.size + 1)) \n",
    "    }\n",
    "    val unassignedLessons = lessonMap.get(Pair(null, null))\n",
    "    if (unassignedLessons != null && unassignedLessons.isNotEmpty()) {\n",
    "        println(\"\")\n",
    "        println(\"Unassigned lessons\")\n",
    "        for (lesson: Lesson in unassignedLessons) {\n",
    "            println(\"  \" + lesson.subject + \" - \" + lesson.teacher + \" - \" + lesson.studentGroup)\n",
    "        }\n",
    "    }\n",
    "}"
   ],
   "metadata": {
    "collapsed": false,
    "is_executing": true,
    "ExecuteTime": {
     "start_time": "2023-12-31T14:40:41.872394535Z"
    }
   }
  },
  {
   "cell_type": "markdown",
   "source": [
    "## Solve it\n",
    "\n",
    "Configure and run the solver:"
   ],
   "metadata": {
    "collapsed": false
   }
  },
  {
   "cell_type": "code",
   "execution_count": null,
   "outputs": [],
   "source": [
    "import ai.timefold.solver.core.config.solver.SolverConfig\n",
    "import ai.timefold.solver.core.api.solver.SolverFactory\n",
    "import ai.timefold.solver.core.api.solver.Solver\n",
    "\n",
    "val solverFactory: SolverFactory<TimeTable> = SolverFactory.create(SolverConfig()\n",
    "        .withSolutionClass(TimeTable::class.java)\n",
    "        .withEntityClasses(Lesson::class.java)\n",
    "        .withConstraintProviderClass(TimeTableConstraintProvider::class.java)\n",
    "        // The solver runs only for 5 seconds on this small dataset.\n",
    "        // It's recommended to run for at least 5 minutes (\"5m\") otherwise.\n",
    "        .withTerminationSpentLimit(Duration.ofSeconds(5)))\n",
    "\n",
    "println(\"Loading the problem ...\")\n",
    "val problem: TimeTable = generateDemoData()\n",
    "\n",
    "println(\"Solving the problem ...\")\n",
    "val solver: Solver<TimeTable> = solverFactory.buildSolver()\n",
    "val solution: TimeTable = solver.solve(problem)\n",
    "\n",
    "println(\"Visualizing the solution ...\")\n",
    "printTimeTable(solution)\n"
   ],
   "metadata": {
    "collapsed": false,
    "is_executing": true,
    "ExecuteTime": {
     "start_time": "2023-12-31T14:40:42.703688921Z"
    }
   }
  },
  {
   "cell_type": "markdown",
   "source": [
    "To learn more, visit [timefold.ai](https://timefold.ai)."
   ],
   "metadata": {
    "collapsed": false
   }
  }
 ],
 "metadata": {
  "kernelspec": {
   "display_name": "Kotlin",
   "language": "kotlin",
   "name": "kotlin"
  },
  "language_info": {
   "name": "kotlin",
   "version": "1.9.0",
   "mimetype": "text/x-kotlin",
   "file_extension": ".kt",
   "pygments_lexer": "kotlin",
   "codemirror_mode": "text/x-kotlin",
   "nbconvert_exporter": ""
  }
 },
 "nbformat": 4,
 "nbformat_minor": 0
}
