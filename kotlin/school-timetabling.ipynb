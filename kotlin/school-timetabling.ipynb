{
 "cells": [
  {
   "cell_type": "markdown",
   "source": [
    "# School timetabling with Timefold in a Kotlin Notebook\n",
    "\n",
    "This Kotlin Jupyter Notebook solves a school timetabling problem with [Timefold](https://timefold.ai), the open source planning solver AI.\n",
    "It optimizes the school schedule for students and teachers.\n",
    "\n",
    "![School timetabling input output](https://timefold.ai/docs/timefold-solver/latest/_images/quickstart/school-timetabling/schoolTimetablingInputOutput.png)\n",
    "\n",
    "This Notebook automatically assigns each lesson to a timeslot and a room, while adhering to hard and soft constraints: \n",
    "\n",
    "* A room can have at most one lesson at the same time.\n",
    "* A teacher can teach at most one lesson at the same time.\n",
    "* A student can attend at most one lesson at the same time.\n",
    "* A teacher prefers to teach all lessons in the same room.\n",
    "* A teacher prefers to teach sequential lessons and dislikes gaps between lessons.\n",
    "* A student dislikes sequential lessons on the same subject.\n",
    "\n",
    "## Dependencies\n",
    "\n",
    "Add the Timefold solver dependency:"
   ],
   "metadata": {
    "collapsed": false
   }
  },
  {
   "cell_type": "code",
   "execution_count": 1,
   "outputs": [],
   "source": [
    "@file:DependsOn(\"ai.timefold.solver:timefold-solver-core:1.5.0\")"
   ],
   "metadata": {
    "collapsed": false,
    "ExecuteTime": {
     "end_time": "2024-02-13T06:48:08.978258687Z",
     "start_time": "2024-02-13T06:48:05.918476945Z"
    }
   }
  },
  {
   "cell_type": "markdown",
   "source": [
    "\n",
    "## Domain\n",
    "\n",
    "Create the domain data classes:\n",
    "\n",
    "### Room\n",
    "\n",
    "The `Room` class represents a location where lessons are taught, for example, `Room A` or `Room B`. For simplicity’s sake, all rooms are without capacity limits and they can accommodate all lessons."
   ],
   "metadata": {
    "collapsed": false
   }
  },
  {
   "cell_type": "code",
   "execution_count": 2,
   "outputs": [],
   "source": [
    "data class Room(\n",
    "    val name: String\n",
    ")"
   ],
   "metadata": {
    "collapsed": false,
    "ExecuteTime": {
     "end_time": "2024-02-13T06:48:09.276780824Z",
     "start_time": "2024-02-13T06:48:08.942678219Z"
    }
   }
  },
  {
   "cell_type": "markdown",
   "source": [
    "### Timeslot\n",
    "\n",
    "The `Timeslot` class represents a time interval when lessons are taught, for example, `Monday 10:30 - 11:30` or `Tuesday 13:30 - 14:30`. For simplicity’s sake, all time slots have the same duration and there are no time slots during lunch or other breaks."
   ],
   "metadata": {
    "collapsed": false
   }
  },
  {
   "cell_type": "code",
   "execution_count": 3,
   "outputs": [],
   "source": [
    "import java.time.DayOfWeek\n",
    "import java.time.LocalTime\n",
    "\n",
    "data class Timeslot(\n",
    "    val dayOfWeek: DayOfWeek,\n",
    "    val startTime: LocalTime,\n",
    "    val endTime: LocalTime\n",
    ")"
   ],
   "metadata": {
    "collapsed": false,
    "ExecuteTime": {
     "end_time": "2024-02-13T06:48:09.483074536Z",
     "start_time": "2024-02-13T06:48:09.279404091Z"
    }
   }
  },
  {
   "cell_type": "markdown",
   "source": [
    "### Lesson\n",
    "\n",
    "During a lesson, represented by the `Lesson` class, a teacher teaches a subject to a group of students, for example, `Math` by `A.Turing` for `9th grade` or `Chemistry` by `M.Curie` for `10th grade`. If a subject is taught multiple times per week by the same teacher to the same student group, there are multiple `Lesson` instances that are only distinguishable by `id`. For example, the 9th grade has six math lessons a week.\n",
    "\n",
    "During solving, Timefold Solver changes the `timeslot` and `room` fields of the `Lesson` class, to assign each lesson to a time slot and a room. Therefore, those fields are annnoted with `@PlanningVariable` and the class with `@PlanningEntity`:"
   ],
   "metadata": {
    "collapsed": false
   }
  },
  {
   "cell_type": "code",
   "execution_count": 4,
   "outputs": [],
   "source": [
    "import ai.timefold.solver.core.api.domain.entity.PlanningEntity\n",
    "import ai.timefold.solver.core.api.domain.lookup.PlanningId\n",
    "import ai.timefold.solver.core.api.domain.variable.PlanningVariable\n",
    "\n",
    "@PlanningEntity\n",
    "data class Lesson(\n",
    "\n",
    "    @PlanningId\n",
    "    val id: Long,\n",
    "    val subject: String,\n",
    "    val teacher: String,\n",
    "    val studentGroup: String) {\n",
    "\n",
    "    @PlanningVariable\n",
    "    var timeslot: Timeslot? = null\n",
    "    @PlanningVariable\n",
    "    var room: Room? = null\n",
    "\n",
    "    // No-arg constructor required for Timefold\n",
    "    constructor() : this(0, \"\", \"\", \"\")\n",
    "\n",
    "    override fun toString(): String = \"$subject\"\n",
    "\n",
    "}"
   ],
   "metadata": {
    "collapsed": false,
    "ExecuteTime": {
     "end_time": "2024-02-13T06:48:09.715109731Z",
     "start_time": "2024-02-13T06:48:09.455766448Z"
    }
   }
  },
  {
   "cell_type": "markdown",
   "source": [
    "## Constraints\n",
    "\n",
    "The solver takes into account hard and soft constraints:"
   ],
   "metadata": {
    "collapsed": false
   }
  },
  {
   "cell_type": "code",
   "execution_count": 5,
   "outputs": [],
   "source": [
    "import ai.timefold.solver.core.api.score.buildin.hardsoft.HardSoftScore\n",
    "import ai.timefold.solver.core.api.score.stream.Constraint\n",
    "import ai.timefold.solver.core.api.score.stream.ConstraintFactory\n",
    "import ai.timefold.solver.core.api.score.stream.ConstraintProvider\n",
    "import ai.timefold.solver.core.api.score.stream.Joiners\n",
    "import java.time.Duration\n",
    "\n",
    "class TimeTableConstraintProvider : ConstraintProvider {\n",
    "\n",
    "    override fun defineConstraints(constraintFactory: ConstraintFactory): Array<Constraint>? {\n",
    "        return arrayOf(\n",
    "            // Hard constraints\n",
    "            roomConflict(constraintFactory),\n",
    "            teacherConflict(constraintFactory),\n",
    "            studentGroupConflict(constraintFactory),\n",
    "            // Soft constraints\n",
    "            teacherRoomStability(constraintFactory),\n",
    "            teacherTimeEfficiency(constraintFactory),\n",
    "            studentGroupSubjectVariety(constraintFactory)\n",
    "        )\n",
    "    }\n",
    "\n",
    "    fun roomConflict(constraintFactory: ConstraintFactory): Constraint {\n",
    "        // A room can accommodate at most one lesson at the same time.\n",
    "        return constraintFactory\n",
    "            // Select each pair of 2 different lessons ...\n",
    "            .forEachUniquePair(\n",
    "                Lesson::class.java,\n",
    "                // ... in the same timeslot ...\n",
    "                Joiners.equal(Lesson::timeslot),\n",
    "                // ... in the same room ...\n",
    "                Joiners.equal(Lesson::room)\n",
    "            )\n",
    "            // ... and penalize each pair with a hard weight.\n",
    "            .penalize(HardSoftScore.ONE_HARD)\n",
    "            .asConstraint(\"school-timetabling\", \"Room conflict\");\n",
    "    }\n",
    "\n",
    "    fun teacherConflict(constraintFactory: ConstraintFactory): Constraint {\n",
    "        // A teacher can teach at most one lesson at the same time.\n",
    "        return constraintFactory\n",
    "            .forEachUniquePair(\n",
    "                Lesson::class.java,\n",
    "                Joiners.equal(Lesson::timeslot),\n",
    "                Joiners.equal(Lesson::teacher)\n",
    "            )\n",
    "            .penalize(HardSoftScore.ONE_HARD)\n",
    "            .asConstraint(\"school-timetabling\", \"Teacher conflict\");\n",
    "    }\n",
    "\n",
    "    fun studentGroupConflict(constraintFactory: ConstraintFactory): Constraint {\n",
    "        // A student can attend at most one lesson at the same time.\n",
    "        return constraintFactory\n",
    "            .forEachUniquePair(\n",
    "                Lesson::class.java,\n",
    "                Joiners.equal(Lesson::timeslot),\n",
    "                Joiners.equal(Lesson::studentGroup)\n",
    "            )\n",
    "            .penalize(HardSoftScore.ONE_HARD)\n",
    "            .asConstraint(\"school-timetabling\", \"Student group conflict\");\n",
    "    }\n",
    "\n",
    "    fun teacherRoomStability(constraintFactory: ConstraintFactory): Constraint {\n",
    "        // A teacher prefers to teach in a single room.\n",
    "        return constraintFactory\n",
    "            .forEachUniquePair(\n",
    "                Lesson::class.java,\n",
    "                Joiners.equal(Lesson::teacher)\n",
    "            )\n",
    "            .filter { lesson1: Lesson, lesson2: Lesson -> lesson1.room !== lesson2.room }\n",
    "            .penalize(HardSoftScore.ONE_SOFT)\n",
    "            .asConstraint(\"school-timetabling\", \"Teacher room stability\");\n",
    "    }\n",
    "\n",
    "    fun teacherTimeEfficiency(constraintFactory: ConstraintFactory): Constraint {\n",
    "        // A teacher prefers to teach sequential lessons and dislikes gaps between lessons.\n",
    "        return constraintFactory\n",
    "            .forEach(Lesson::class.java)\n",
    "            .join(Lesson::class.java,\n",
    "                Joiners.equal(Lesson::teacher),\n",
    "                Joiners.equal { lesson: Lesson -> lesson.timeslot?.dayOfWeek })\n",
    "            .filter { lesson1: Lesson, lesson2: Lesson ->\n",
    "                val between = Duration.between(\n",
    "                    lesson1.timeslot?.endTime,\n",
    "                    lesson2.timeslot?.startTime\n",
    "                )\n",
    "                !between.isNegative && between.compareTo(Duration.ofMinutes(30)) <= 0\n",
    "            }\n",
    "            .reward(HardSoftScore.ONE_SOFT)\n",
    "            .asConstraint(\"school-timetabling\", \"Teacher time efficiency\");\n",
    "    }\n",
    "\n",
    "    fun studentGroupSubjectVariety(constraintFactory: ConstraintFactory): Constraint {\n",
    "        // A student group dislikes sequential lessons on the same subject.\n",
    "        return constraintFactory\n",
    "            .forEach(Lesson::class.java)\n",
    "            .join(Lesson::class.java,\n",
    "                Joiners.equal(Lesson::subject),\n",
    "                Joiners.equal(Lesson::studentGroup),\n",
    "                Joiners.equal { lesson: Lesson -> lesson.timeslot?.dayOfWeek })\n",
    "            .filter { lesson1: Lesson, lesson2: Lesson ->\n",
    "                val between = Duration.between(\n",
    "                    lesson1.timeslot?.endTime,\n",
    "                        lesson2.timeslot?.startTime\n",
    "                )\n",
    "                !between.isNegative && between.compareTo(Duration.ofMinutes(30)) <= 0\n",
    "            }\n",
    "            .penalize(HardSoftScore.ONE_SOFT)\n",
    "            .asConstraint(\"school-timetabling\", \"Student group subject variety\");\n",
    "    }\n",
    "\n",
    "}"
   ],
   "metadata": {
    "collapsed": false,
    "ExecuteTime": {
     "end_time": "2024-02-13T06:48:11.695535801Z",
     "start_time": "2024-02-13T06:48:09.717903092Z"
    }
   }
  },
  {
   "cell_type": "markdown",
   "source": [
    "### TimeTable\n",
    "\n",
    "The `TimeTable` class represents a single dataset. It wraps all `Timeslot`, `Room`, and `Lesson` instances. Furthermore, because it contains all lessons, each with a specific planning variable state, it is a planning solution, and it has a `score` field:"
   ],
   "metadata": {
    "collapsed": false
   }
  },
  {
   "cell_type": "code",
   "execution_count": 6,
   "outputs": [],
   "source": [
    "import ai.timefold.solver.core.api.domain.solution.PlanningEntityCollectionProperty\n",
    "import ai.timefold.solver.core.api.domain.solution.PlanningScore\n",
    "import ai.timefold.solver.core.api.domain.solution.PlanningSolution\n",
    "import ai.timefold.solver.core.api.domain.solution.ProblemFactCollectionProperty\n",
    "import ai.timefold.solver.core.api.domain.valuerange.ValueRangeProvider\n",
    "import ai.timefold.solver.core.api.score.buildin.hardsoft.HardSoftScore\n",
    "\n",
    "@PlanningSolution\n",
    "data class TimeTable(\n",
    "\n",
    "    @ProblemFactCollectionProperty\n",
    "    @ValueRangeProvider\n",
    "    val timeslots: List<Timeslot>,\n",
    "    @ProblemFactCollectionProperty\n",
    "    @ValueRangeProvider\n",
    "    val rooms: List<Room>,\n",
    "    @PlanningEntityCollectionProperty\n",
    "    val lessons: List<Lesson>) {\n",
    "\n",
    "    @PlanningScore\n",
    "    var score: HardSoftScore? = null\n",
    "\n",
    "    // No-arg constructor required for Timefold\n",
    "    constructor() : this(emptyList(), emptyList(), emptyList())\n",
    "\n",
    "}"
   ],
   "metadata": {
    "collapsed": false,
    "ExecuteTime": {
     "end_time": "2024-02-13T06:48:11.928534879Z",
     "start_time": "2024-02-13T06:48:11.679248584Z"
    }
   }
  },
  {
   "cell_type": "markdown",
   "source": [
    "## Data generator\n",
    "\n",
    "Generate some data for a small school timetable:"
   ],
   "metadata": {
    "collapsed": false
   }
  },
  {
   "cell_type": "code",
   "execution_count": 7,
   "outputs": [],
   "source": [
    "fun generateDemoData(): TimeTable {\n",
    "    val timeslots: MutableList<Timeslot> = mutableListOf(\n",
    "            Timeslot(DayOfWeek.MONDAY, LocalTime.of(8, 30), LocalTime.of(9, 30)),\n",
    "            Timeslot(DayOfWeek.MONDAY, LocalTime.of(9, 30), LocalTime.of(10, 30)),\n",
    "            Timeslot(DayOfWeek.MONDAY, LocalTime.of(10, 30), LocalTime.of(11, 30)),\n",
    "            Timeslot(DayOfWeek.MONDAY, LocalTime.of(13, 30), LocalTime.of(14, 30)),\n",
    "            Timeslot(DayOfWeek.MONDAY, LocalTime.of(14, 30), LocalTime.of(15, 30)),\n",
    "    \n",
    "            Timeslot(DayOfWeek.TUESDAY, LocalTime.of(8, 30), LocalTime.of(9, 30)),\n",
    "            Timeslot(DayOfWeek.TUESDAY, LocalTime.of(9, 30), LocalTime.of(10, 30)),\n",
    "            Timeslot(DayOfWeek.TUESDAY, LocalTime.of(10, 30), LocalTime.of(11, 30)),\n",
    "            Timeslot(DayOfWeek.TUESDAY, LocalTime.of(13, 30), LocalTime.of(14, 30)),\n",
    "            Timeslot(DayOfWeek.TUESDAY, LocalTime.of(14, 30), LocalTime.of(15, 30)))\n",
    "    \n",
    "    val rooms: MutableList<Room> = mutableListOf(\n",
    "            Room(\"Room A\"),\n",
    "            Room(\"Room B\"),\n",
    "            Room(\"Room C\"))\n",
    "    \n",
    "    var nextId: Long = 0\n",
    "    val lessons: MutableList<Lesson> = mutableListOf(\n",
    "            Lesson(nextId++, \"Math\", \"A. Turing\", \"9th grade\"),\n",
    "            Lesson(nextId++, \"Math\", \"A. Turing\", \"9th grade\"),\n",
    "            Lesson(nextId++, \"Physics\", \"M. Curie\", \"9th grade\"),\n",
    "            Lesson(nextId++, \"Chemistry\", \"M. Curie\", \"9th grade\"),\n",
    "            Lesson(nextId++, \"Biology\", \"C. Darwin\", \"9th grade\"),\n",
    "            Lesson(nextId++, \"History\", \"I. Jones\", \"9th grade\"),\n",
    "            Lesson(nextId++, \"English\", \"I. Jones\", \"9th grade\"),\n",
    "            Lesson(nextId++, \"English\", \"I. Jones\", \"9th grade\"),\n",
    "            Lesson(nextId++, \"Spanish\", \"P. Cruz\", \"9th grade\"),\n",
    "            Lesson(nextId++, \"Spanish\", \"P. Cruz\", \"9th grade\"),\n",
    "            Lesson(nextId++, \"Math\", \"A. Turing\", \"10th grade\"),\n",
    "            Lesson(nextId++, \"Math\", \"A. Turing\", \"10th grade\"),\n",
    "            Lesson(nextId++, \"Math\", \"A. Turing\", \"10th grade\"),\n",
    "            Lesson(nextId++, \"Physics\", \"M. Curie\", \"10th grade\"),\n",
    "            Lesson(nextId++, \"Chemistry\", \"M. Curie\", \"10th grade\"),\n",
    "            Lesson(nextId++, \"French\", \"M. Curie\", \"10th grade\"),\n",
    "            Lesson(nextId++, \"Geography\", \"C. Darwin\", \"10th grade\"),\n",
    "            Lesson(nextId++, \"History\", \"I. Jones\", \"10th grade\"),\n",
    "            Lesson(nextId++, \"English\", \"P. Cruz\", \"10th grade\"),\n",
    "            Lesson(nextId++, \"Spanish\", \"P. Cruz\", \"10th grade\"))\n",
    "    return TimeTable(timeslots, rooms, lessons)\n",
    "}"
   ],
   "metadata": {
    "collapsed": false,
    "ExecuteTime": {
     "end_time": "2024-02-13T06:48:12.610835713Z",
     "start_time": "2024-02-13T06:48:11.882763595Z"
    }
   }
  },
  {
   "cell_type": "markdown",
   "source": [
    "## Solve it\n",
    "\n",
    "Configure and run the solver:"
   ],
   "metadata": {
    "collapsed": false
   }
  },
  {
   "cell_type": "code",
   "execution_count": 8,
   "outputs": [
    {
     "name": "stdout",
     "output_type": "stream",
     "text": [
      "Solving the problem ...\n",
      "Solving finished with score (0hard/10soft).\n"
     ]
    }
   ],
   "source": [
    "import ai.timefold.solver.core.config.solver.SolverConfig\n",
    "import ai.timefold.solver.core.api.solver.SolverFactory\n",
    "import ai.timefold.solver.core.api.solver.Solver\n",
    "\n",
    "val solverFactory: SolverFactory<TimeTable> = SolverFactory.create(SolverConfig()\n",
    "        .withSolutionClass(TimeTable::class.java)\n",
    "        .withEntityClasses(Lesson::class.java)\n",
    "        .withConstraintProviderClass(TimeTableConstraintProvider::class.java)\n",
    "        // The solver runs only for 5 seconds on this small dataset.\n",
    "        // It's recommended to run for at least 5 minutes (\"5m\") otherwise.\n",
    "        .withTerminationSpentLimit(Duration.ofSeconds(5)))\n",
    "\n",
    "val problem: TimeTable = generateDemoData()\n",
    "\n",
    "println(\"Solving the problem ...\")\n",
    "val solver: Solver<TimeTable> = solverFactory.buildSolver()\n",
    "val solution: TimeTable = solver.solve(problem)\n",
    "println(\"Solving finished with score (${solution.score}).\")"
   ],
   "metadata": {
    "collapsed": false,
    "ExecuteTime": {
     "end_time": "2024-02-13T06:48:18.180953636Z",
     "start_time": "2024-02-13T06:48:12.595713784Z"
    }
   }
  },
  {
   "cell_type": "markdown",
   "source": [
    "## Visualize the schedule\n",
    "\n",
    "Show the timetable:"
   ],
   "metadata": {
    "collapsed": false
   }
  },
  {
   "cell_type": "code",
   "execution_count": 9,
   "outputs": [
    {
     "data": {
      "text/html": "<p style='font-size: x-large'>Score: 0hard/10soft</p><table><tr><th/><th>Room A</th><th>Room B</th><th>Room C</th></tr><tr><th>MONDAY 08:30 - 09:30</th><td>Math<br/>A. Turing<br/>10th grade</td><td><br/><br/></td><td>Physics<br/>M. Curie<br/>9th grade</td></tr><tr><th>MONDAY 09:30 - 10:30</th><td>Math<br/>A. Turing<br/>9th grade</td><td>Geography<br/>C. Darwin<br/>10th grade</td><td><br/><br/></td></tr><tr><th>MONDAY 10:30 - 11:30</th><td>Math<br/>A. Turing<br/>10th grade</td><td>Biology<br/>C. Darwin<br/>9th grade</td><td><br/><br/></td></tr><tr><th>MONDAY 13:30 - 14:30</th><td>Math<br/>A. Turing<br/>9th grade</td><td><br/><br/></td><td>Physics<br/>M. Curie<br/>10th grade</td></tr><tr><th>MONDAY 14:30 - 15:30</th><td>Math<br/>A. Turing<br/>10th grade</td><td><br/><br/></td><td>Chemistry<br/>M. Curie<br/>9th grade</td></tr><tr><th>TUESDAY 08:30 - 09:30</th><td>History<br/>I. Jones<br/>10th grade</td><td>Spanish<br/>P. Cruz<br/>9th grade</td><td><br/><br/></td></tr><tr><th>TUESDAY 09:30 - 10:30</th><td>History<br/>I. Jones<br/>9th grade</td><td>Spanish<br/>P. Cruz<br/>10th grade</td><td><br/><br/></td></tr><tr><th>TUESDAY 10:30 - 11:30</th><td>English<br/>I. Jones<br/>9th grade</td><td>English<br/>P. Cruz<br/>10th grade</td><td><br/><br/></td></tr><tr><th>TUESDAY 13:30 - 14:30</th><td><br/><br/></td><td>Spanish<br/>P. Cruz<br/>9th grade</td><td>Chemistry<br/>M. Curie<br/>10th grade</td></tr><tr><th>TUESDAY 14:30 - 15:30</th><td>English<br/>I. Jones<br/>9th grade</td><td><br/><br/></td><td>French<br/>M. Curie<br/>10th grade</td></tr></table>"
     },
     "execution_count": 9,
     "metadata": {},
     "output_type": "execute_result"
    }
   ],
   "source": [
    "val lessonMap = solution.lessons.groupBy { lesson -> Pair(lesson.timeslot, lesson.room) }\n",
    "HTML(buildString {\n",
    "    append(\"<p style='font-size: x-large'>Score: ${solution.score}</p>\")\n",
    "    append(\"<table><tr><th/>\")\n",
    "    for (room in solution.rooms) {\n",
    "        append(\"<th>${room.name}</th>\")\n",
    "    }\n",
    "    append(\"</tr>\")\n",
    "    for (timeslot in solution.timeslots) {\n",
    "        append(\"<tr><th>${timeslot.dayOfWeek} ${timeslot.startTime} - ${timeslot.endTime}</th>\")\n",
    "        for (room in solution.rooms) {\n",
    "            val cellLessons = lessonMap.get(Pair(timeslot, room)) ?: emptyList()\n",
    "            append(\"<td>\")\n",
    "            append(cellLessons.map { it.subject }.joinToString(\", \"))\n",
    "            append(\"<br/>\")\n",
    "            append(cellLessons.map { it.teacher }.joinToString(\", \"))\n",
    "            append(\"<br/>\")\n",
    "            append(cellLessons.map { it.studentGroup }.joinToString(\", \"))\n",
    "            append(\"</td>\")\n",
    "        }\n",
    "        append(\"</tr>\")\n",
    "    }\n",
    "    append(\"</table>\")\n",
    "\n",
    "    val unassignedLessons = lessonMap.get(Pair(null, null))\n",
    "    if (unassignedLessons != null && unassignedLessons.isNotEmpty()) {\n",
    "        append(\"<p>Unassigned lessons</p>\")\n",
    "        append(\"<ul>\")\n",
    "        for (lesson in unassignedLessons) {\n",
    "            append(\"<li>${lesson.subject} - ${lesson.teacher} - ${lesson.studentGroup}</li>\")\n",
    "        }\n",
    "        append(\"</ul>\")\n",
    "    }\n",
    "})"
   ],
   "metadata": {
    "collapsed": false,
    "ExecuteTime": {
     "end_time": "2024-02-13T06:48:19.202951001Z",
     "start_time": "2024-02-13T06:48:18.180275411Z"
    }
   }
  },
  {
   "cell_type": "markdown",
   "source": [
    "## Analyze the score\n",
    "\n",
    "Let's break down the score per constraint:"
   ],
   "metadata": {
    "collapsed": false
   }
  },
  {
   "cell_type": "code",
   "execution_count": 10,
   "outputs": [],
   "source": [
    "import ai.timefold.solver.core.api.solver.SolutionManager\n",
    "\n",
    "val solutionManager = SolutionManager.create(solverFactory)\n",
    "val scoreAnalysis = solutionManager.analyze(solution)"
   ],
   "metadata": {
    "collapsed": false,
    "ExecuteTime": {
     "end_time": "2024-02-13T06:48:19.336124933Z",
     "start_time": "2024-02-13T06:48:19.163691899Z"
    }
   }
  },
  {
   "cell_type": "markdown",
   "source": [
    "And visualize it:"
   ],
   "metadata": {
    "collapsed": false
   }
  },
  {
   "cell_type": "code",
   "execution_count": 11,
   "outputs": [
    {
     "data": {
      "text/html": "<p style='font-size: x-large'>Score: 0hard/10soft</p><ul><li>Teacher time efficiency: 10soft</li><li>Student group subject variety: 0</li><li>Teacher room stability: 0</li><li>Room conflict: 0</li><li>Student group conflict: 0</li><li>Teacher conflict: 0</li></ul>"
     },
     "execution_count": 11,
     "metadata": {},
     "output_type": "execute_result"
    }
   ],
   "source": [
    "HTML(buildString {\n",
    "    append(\"<p style='font-size: x-large'>Score: ${scoreAnalysis.score}</p>\")\n",
    "    append(\"<ul>\")\n",
    "    for (constraint in scoreAnalysis.constraintMap().values) {\n",
    "        append(\"<li>${constraint.constraintRef().constraintName}: ${constraint.score.toShortString()}</li>\")\n",
    "    }\n",
    "    append(\"</ul>\")\n",
    "})"
   ],
   "metadata": {
    "collapsed": false,
    "ExecuteTime": {
     "end_time": "2024-02-13T06:48:19.529650630Z",
     "start_time": "2024-02-13T06:48:19.314847388Z"
    }
   }
  },
  {
   "cell_type": "markdown",
   "source": [
    "## Statistics\n",
    "\n",
    "For a big dataset, a schedule visualization is often too verbose.\n",
    "Let's visualize the solution through statistics:"
   ],
   "metadata": {
    "collapsed": false
   }
  },
  {
   "cell_type": "code",
   "outputs": [],
   "source": [
    "%use kandy"
   ],
   "metadata": {
    "collapsed": false,
    "ExecuteTime": {
     "end_time": "2024-02-13T06:48:23.693584241Z",
     "start_time": "2024-02-13T06:48:19.524254646Z"
    }
   },
   "execution_count": 12
  },
  {
   "cell_type": "markdown",
   "source": [
    "### Lessons per teacher per weekday"
   ],
   "metadata": {
    "collapsed": false
   }
  },
  {
   "cell_type": "code",
   "outputs": [
    {
     "data": {
      "text/html": "            <iframe src='about:blank' style='border:none !important;' width='600' height='400' srcdoc=\"&lt;html lang=&quot;en&quot;>\n   &lt;head>\n       &lt;style> html, body { margin: 0; overflow: hidden; } &lt;/style>\n       &lt;script type=&quot;text/javascript&quot; data-lets-plot-script=&quot;library&quot; src=&quot;https://cdn.jsdelivr.net/gh/JetBrains/lets-plot@v4.0.1/js-package/distr/lets-plot.min.js&quot;>&lt;/script>\n   &lt;/head>\n   &lt;body>\n          &lt;div id=&quot;g2DdOE&quot;>&lt;/div>\n   &lt;script type=&quot;text/javascript&quot; data-lets-plot-script=&quot;plot&quot;>\n       var plotSpec={\n&quot;ggtitle&quot;:{\n&quot;text&quot;:&quot;Lessons per teacher per weekday&quot;\n},\n&quot;mapping&quot;:{\n},\n&quot;data&quot;:{\n},\n&quot;kind&quot;:&quot;plot&quot;,\n&quot;scales&quot;:[{\n&quot;aesthetic&quot;:&quot;y&quot;,\n&quot;discrete&quot;:true\n},{\n&quot;aesthetic&quot;:&quot;x&quot;,\n&quot;limits&quot;:[null,null]\n},{\n&quot;aesthetic&quot;:&quot;fill&quot;,\n&quot;scale_mapper_kind&quot;:&quot;color_hue&quot;\n}],\n&quot;layers&quot;:[{\n&quot;mapping&quot;:{\n&quot;y&quot;:&quot;Teacher&quot;,\n&quot;x&quot;:&quot;Lessons&quot;,\n&quot;fill&quot;:&quot;Weekday&quot;,\n&quot;group&quot;:&quot;&amp;merged_groups&quot;\n},\n&quot;stat&quot;:&quot;identity&quot;,\n&quot;orientation&quot;:&quot;y&quot;,\n&quot;data&quot;:{\n&quot;Weekday&quot;:[&quot;MONDAY&quot;,&quot;MONDAY&quot;,&quot;MONDAY&quot;,&quot;MONDAY&quot;,&quot;MONDAY&quot;,&quot;TUESDAY&quot;,&quot;TUESDAY&quot;,&quot;TUESDAY&quot;,&quot;TUESDAY&quot;,&quot;TUESDAY&quot;,&quot;WEDNESDAY&quot;,&quot;WEDNESDAY&quot;,&quot;WEDNESDAY&quot;,&quot;WEDNESDAY&quot;,&quot;WEDNESDAY&quot;,&quot;THURSDAY&quot;,&quot;THURSDAY&quot;,&quot;THURSDAY&quot;,&quot;THURSDAY&quot;,&quot;THURSDAY&quot;,&quot;FRIDAY&quot;,&quot;FRIDAY&quot;,&quot;FRIDAY&quot;,&quot;FRIDAY&quot;,&quot;FRIDAY&quot;,&quot;SATURDAY&quot;,&quot;SATURDAY&quot;,&quot;SATURDAY&quot;,&quot;SATURDAY&quot;,&quot;SATURDAY&quot;,&quot;SUNDAY&quot;,&quot;SUNDAY&quot;,&quot;SUNDAY&quot;,&quot;SUNDAY&quot;,&quot;SUNDAY&quot;],\n&quot;&amp;merged_groups&quot;:[&quot;MONDAY&quot;,&quot;MONDAY&quot;,&quot;MONDAY&quot;,&quot;MONDAY&quot;,&quot;MONDAY&quot;,&quot;TUESDAY&quot;,&quot;TUESDAY&quot;,&quot;TUESDAY&quot;,&quot;TUESDAY&quot;,&quot;TUESDAY&quot;,&quot;WEDNESDAY&quot;,&quot;WEDNESDAY&quot;,&quot;WEDNESDAY&quot;,&quot;WEDNESDAY&quot;,&quot;WEDNESDAY&quot;,&quot;THURSDAY&quot;,&quot;THURSDAY&quot;,&quot;THURSDAY&quot;,&quot;THURSDAY&quot;,&quot;THURSDAY&quot;,&quot;FRIDAY&quot;,&quot;FRIDAY&quot;,&quot;FRIDAY&quot;,&quot;FRIDAY&quot;,&quot;FRIDAY&quot;,&quot;SATURDAY&quot;,&quot;SATURDAY&quot;,&quot;SATURDAY&quot;,&quot;SATURDAY&quot;,&quot;SATURDAY&quot;,&quot;SUNDAY&quot;,&quot;SUNDAY&quot;,&quot;SUNDAY&quot;,&quot;SUNDAY&quot;,&quot;SUNDAY&quot;],\n&quot;Lessons&quot;:[5.0,3.0,2.0,0.0,0.0,0.0,2.0,0.0,4.0,4.0,0.0,0.0,0.0,0.0,0.0,0.0,0.0,0.0,0.0,0.0,0.0,0.0,0.0,0.0,0.0,0.0,0.0,0.0,0.0,0.0,0.0,0.0,0.0,0.0,0.0],\n&quot;Teacher&quot;:[&quot;A. Turing&quot;,&quot;M. Curie&quot;,&quot;C. Darwin&quot;,&quot;I. Jones&quot;,&quot;P. Cruz&quot;,&quot;A. Turing&quot;,&quot;M. Curie&quot;,&quot;C. Darwin&quot;,&quot;I. Jones&quot;,&quot;P. Cruz&quot;,&quot;A. Turing&quot;,&quot;M. Curie&quot;,&quot;C. Darwin&quot;,&quot;I. Jones&quot;,&quot;P. Cruz&quot;,&quot;A. Turing&quot;,&quot;M. Curie&quot;,&quot;C. Darwin&quot;,&quot;I. Jones&quot;,&quot;P. Cruz&quot;,&quot;A. Turing&quot;,&quot;M. Curie&quot;,&quot;C. Darwin&quot;,&quot;I. Jones&quot;,&quot;P. Cruz&quot;,&quot;A. Turing&quot;,&quot;M. Curie&quot;,&quot;C. Darwin&quot;,&quot;I. Jones&quot;,&quot;P. Cruz&quot;,&quot;A. Turing&quot;,&quot;M. Curie&quot;,&quot;C. Darwin&quot;,&quot;I. Jones&quot;,&quot;P. Cruz&quot;]\n},\n&quot;sampling&quot;:&quot;none&quot;,\n&quot;position&quot;:&quot;stack&quot;,\n&quot;geom&quot;:&quot;bar&quot;\n}]\n};\n       var plotContainer = document.getElementById(&quot;g2DdOE&quot;);\n       LetsPlot.buildPlotFromProcessedSpecs(plotSpec, -1, -1, plotContainer);\n   &lt;/script>\n   &lt;/body>\n&lt;/html>\"></iframe>            \n        <svg id=582d19de-8efb-4f38-aa2a-f849e9bf165e xmlns=\"http://www.w3.org/2000/svg\" xmlns:xlink=\"http://www.w3.org/1999/xlink\" class=\"plt-container\" width=\"600.0\" height=\"400.0\">\n  <style type=\"text/css\">\n  .plt-container {\n   font-family: Lucida Grande, sans-serif;\n   user-select: none;\n   -webkit-user-select: none;\n   -moz-user-select: none;\n   -ms-user-select: none;\n}\ntext {\n   text-rendering: optimizeLegibility;\n}\n#p2Oaz1l .plot-title {\n   fill: #474747;\n   font-family: Lucida Grande, sans-serif;\n   font-size: 16.0px;\n   font-weight: normal;\n   font-style: normal;   \n}\n#p2Oaz1l .plot-subtitle {\n   fill: #474747;\n   font-family: Lucida Grande, sans-serif;\n   font-size: 15.0px;\n   font-weight: normal;\n   font-style: normal;   \n}\n#p2Oaz1l .plot-caption {\n   fill: #474747;\n   font-family: Lucida Grande, sans-serif;\n   font-size: 13.0px;\n   font-weight: normal;\n   font-style: normal;   \n}\n#p2Oaz1l .legend-title {\n   fill: #474747;\n   font-family: Lucida Grande, sans-serif;\n   font-size: 15.0px;\n   font-weight: normal;\n   font-style: normal;   \n}\n#p2Oaz1l .legend-item {\n   fill: #474747;\n   font-family: Lucida Grande, sans-serif;\n   font-size: 13.0px;\n   font-weight: normal;\n   font-style: normal;   \n}\n#p2Oaz1l .axis-title-x {\n   fill: #474747;\n   font-family: Lucida Grande, sans-serif;\n   font-size: 15.0px;\n   font-weight: normal;\n   font-style: normal;   \n}\n#p2Oaz1l .axis-text-x {\n   fill: #474747;\n   font-family: Lucida Grande, sans-serif;\n   font-size: 13.0px;\n   font-weight: normal;\n   font-style: normal;   \n}\n#dIKWLui .axis-tooltip-text-x {\n   fill: #ffffff;\n   font-family: Lucida Grande, sans-serif;\n   font-size: 13.0px;\n   font-weight: normal;\n   font-style: normal;   \n}\n#p2Oaz1l .axis-title-y {\n   fill: #474747;\n   font-family: Lucida Grande, sans-serif;\n   font-size: 15.0px;\n   font-weight: normal;\n   font-style: normal;   \n}\n#p2Oaz1l .axis-text-y {\n   fill: #474747;\n   font-family: Lucida Grande, sans-serif;\n   font-size: 13.0px;\n   font-weight: normal;\n   font-style: normal;   \n}\n#dIKWLui .axis-tooltip-text-y {\n   fill: #ffffff;\n   font-family: Lucida Grande, sans-serif;\n   font-size: 13.0px;\n   font-weight: normal;\n   font-style: normal;   \n}\n#p2Oaz1l .facet-strip-text-x {\n   fill: #474747;\n   font-family: Lucida Grande, sans-serif;\n   font-size: 13.0px;\n   font-weight: normal;\n   font-style: normal;   \n}\n#p2Oaz1l .facet-strip-text-y {\n   fill: #474747;\n   font-family: Lucida Grande, sans-serif;\n   font-size: 13.0px;\n   font-weight: normal;\n   font-style: normal;   \n}\n#dIKWLui .tooltip-text {\n   fill: #474747;\n   font-family: Lucida Grande, sans-serif;\n   font-size: 13.0px;\n   font-weight: normal;\n   font-style: normal;   \n}\n#dIKWLui .tooltip-title {\n   fill: #474747;\n   font-family: Lucida Grande, sans-serif;\n   font-size: 13.0px;\n   font-weight: bold;\n   font-style: normal;   \n}\n#dIKWLui .tooltip-label {\n   fill: #474747;\n   font-family: Lucida Grande, sans-serif;\n   font-size: 13.0px;\n   font-weight: bold;\n   font-style: normal;   \n}\n\n  </style>\n  <g id=\"p2Oaz1l\">\n    <path fill-rule=\"evenodd\" fill=\"rgb(255,255,255)\" fill-opacity=\"1.0\" d=\"M0.0 0.0 L0.0 400.0 L600.0 400.0 L600.0 0.0 Z\">\n    </path>\n    <g transform=\"translate(23.0 34.0 ) \">\n      <g transform=\"translate(74.83369294583221 320.0 ) \">\n        <line x1=\"66.57613399867253\" y1=\"-0.0\" x2=\"66.57613399867253\" y2=\"-320.0\" stroke=\"rgb(233,233,233)\" stroke-opacity=\"1.0\" stroke-width=\"1.0\">\n        </line>\n        <line x1=\"133.15226799734506\" y1=\"-0.0\" x2=\"133.15226799734506\" y2=\"-320.0\" stroke=\"rgb(233,233,233)\" stroke-opacity=\"1.0\" stroke-width=\"1.0\">\n        </line>\n        <line x1=\"199.7284019960176\" y1=\"-0.0\" x2=\"199.7284019960176\" y2=\"-320.0\" stroke=\"rgb(233,233,233)\" stroke-opacity=\"1.0\" stroke-width=\"1.0\">\n        </line>\n        <line x1=\"266.3045359946901\" y1=\"-0.0\" x2=\"266.3045359946901\" y2=\"-320.0\" stroke=\"rgb(233,233,233)\" stroke-opacity=\"1.0\" stroke-width=\"1.0\">\n        </line>\n        <line x1=\"332.88066999336263\" y1=\"-0.0\" x2=\"332.88066999336263\" y2=\"-320.0\" stroke=\"rgb(233,233,233)\" stroke-opacity=\"1.0\" stroke-width=\"1.0\">\n        </line>\n        <g transform=\"translate(0.0 0.0 ) \">\n          <line stroke-width=\"1.0\" stroke=\"rgb(71,71,71)\" stroke-opacity=\"1.0\" x2=\"0.0\" y2=\"4.0\">\n          </line>\n          <g transform=\"translate(0.0 7.0 ) \">\n            <text class=\"axis-text-x\" text-anchor=\"middle\" dy=\"0.7em\">\n            0\n            </text>\n          </g>\n        </g>\n        <g transform=\"translate(66.57613399867253 0.0 ) \">\n          <line stroke-width=\"1.0\" stroke=\"rgb(71,71,71)\" stroke-opacity=\"1.0\" x2=\"0.0\" y2=\"4.0\">\n          </line>\n          <g transform=\"translate(0.0 7.0 ) \">\n            <text class=\"axis-text-x\" text-anchor=\"middle\" dy=\"0.7em\">\n            1\n            </text>\n          </g>\n        </g>\n        <g transform=\"translate(133.15226799734506 0.0 ) \">\n          <line stroke-width=\"1.0\" stroke=\"rgb(71,71,71)\" stroke-opacity=\"1.0\" x2=\"0.0\" y2=\"4.0\">\n          </line>\n          <g transform=\"translate(0.0 7.0 ) \">\n            <text class=\"axis-text-x\" text-anchor=\"middle\" dy=\"0.7em\">\n            2\n            </text>\n          </g>\n        </g>\n        <g transform=\"translate(199.7284019960176 0.0 ) \">\n          <line stroke-width=\"1.0\" stroke=\"rgb(71,71,71)\" stroke-opacity=\"1.0\" x2=\"0.0\" y2=\"4.0\">\n          </line>\n          <g transform=\"translate(0.0 7.0 ) \">\n            <text class=\"axis-text-x\" text-anchor=\"middle\" dy=\"0.7em\">\n            3\n            </text>\n          </g>\n        </g>\n        <g transform=\"translate(266.3045359946901 0.0 ) \">\n          <line stroke-width=\"1.0\" stroke=\"rgb(71,71,71)\" stroke-opacity=\"1.0\" x2=\"0.0\" y2=\"4.0\">\n          </line>\n          <g transform=\"translate(0.0 7.0 ) \">\n            <text class=\"axis-text-x\" text-anchor=\"middle\" dy=\"0.7em\">\n            4\n            </text>\n          </g>\n        </g>\n        <g transform=\"translate(332.88066999336263 0.0 ) \">\n          <line stroke-width=\"1.0\" stroke=\"rgb(71,71,71)\" stroke-opacity=\"1.0\" x2=\"0.0\" y2=\"4.0\">\n          </line>\n          <g transform=\"translate(0.0 7.0 ) \">\n            <text class=\"axis-text-x\" text-anchor=\"middle\" dy=\"0.7em\">\n            5\n            </text>\n          </g>\n        </g>\n        <line x1=\"0.0\" y1=\"0.0\" x2=\"349.52470349303076\" y2=\"0.0\" stroke-width=\"1.0\" stroke=\"rgb(71,71,71)\" stroke-opacity=\"1.0\">\n        </line>\n      </g>\n      <g transform=\"translate(74.83369294583221 0.0 ) \">\n        <line x1=\"0.0\" y1=\"280.7547169811321\" x2=\"349.52470349303076\" y2=\"280.7547169811321\" stroke=\"rgb(233,233,233)\" stroke-opacity=\"1.0\" stroke-width=\"1.0\">\n        </line>\n        <line x1=\"0.0\" y1=\"220.37735849056608\" x2=\"349.52470349303076\" y2=\"220.37735849056608\" stroke=\"rgb(233,233,233)\" stroke-opacity=\"1.0\" stroke-width=\"1.0\">\n        </line>\n        <line x1=\"0.0\" y1=\"160.00000000000006\" x2=\"349.52470349303076\" y2=\"160.00000000000006\" stroke=\"rgb(233,233,233)\" stroke-opacity=\"1.0\" stroke-width=\"1.0\">\n        </line>\n        <line x1=\"0.0\" y1=\"99.622641509434\" x2=\"349.52470349303076\" y2=\"99.622641509434\" stroke=\"rgb(233,233,233)\" stroke-opacity=\"1.0\" stroke-width=\"1.0\">\n        </line>\n        <line x1=\"0.0\" y1=\"39.24528301886798\" x2=\"349.52470349303076\" y2=\"39.24528301886798\" stroke=\"rgb(233,233,233)\" stroke-opacity=\"1.0\" stroke-width=\"1.0\">\n        </line>\n        <g transform=\"translate(0.0 280.7547169811321 ) \">\n          <g transform=\"translate(-3.0 0.0 ) \">\n            <text class=\"axis-text-y\" text-anchor=\"end\" dy=\"0.35em\">\n            A. Turing\n            </text>\n          </g>\n        </g>\n        <g transform=\"translate(0.0 220.37735849056608 ) \">\n          <g transform=\"translate(-3.0 0.0 ) \">\n            <text class=\"axis-text-y\" text-anchor=\"end\" dy=\"0.35em\">\n            M. Curie\n            </text>\n          </g>\n        </g>\n        <g transform=\"translate(0.0 160.00000000000006 ) \">\n          <g transform=\"translate(-3.0 0.0 ) \">\n            <text class=\"axis-text-y\" text-anchor=\"end\" dy=\"0.35em\">\n            C. Darwin\n            </text>\n          </g>\n        </g>\n        <g transform=\"translate(0.0 99.622641509434 ) \">\n          <g transform=\"translate(-3.0 0.0 ) \">\n            <text class=\"axis-text-y\" text-anchor=\"end\" dy=\"0.35em\">\n            I. Jones\n            </text>\n          </g>\n        </g>\n        <g transform=\"translate(0.0 39.24528301886798 ) \">\n          <g transform=\"translate(-3.0 0.0 ) \">\n            <text class=\"axis-text-y\" text-anchor=\"end\" dy=\"0.35em\">\n            P. Cruz\n            </text>\n          </g>\n        </g>\n      </g>\n      <g transform=\"translate(74.83369294583221 0.0 ) \" clip-path=\"url(#c6dmKMb)\" clip-bounds-jfx=\"[rect (0.0, 0.0), (349.52470349303076, 320.0)]\">\n        <defs>\n          <clipPath id=\"c6dmKMb\">\n            <rect x=\"0.0\" y=\"0.0\" width=\"349.52470349303076\" height=\"320.0\">\n            </rect>\n          </clipPath>\n        </defs>\n        <rect x=\"266.3045359946901\" y=\"11.075471698113233\" height=\"56.339622641509465\" width=\"0.10000000000002274\" stroke=\"rgb(255,255,255)\" stroke-opacity=\"1.0\" fill=\"rgb(230,115,135)\" fill-opacity=\"1.0\" stroke-width=\"1.6500000000000001\">\n        </rect>\n        <rect x=\"266.3045359946901\" y=\"71.45283018867931\" height=\"56.33962264150941\" width=\"0.10000000000002274\" stroke=\"rgb(255,255,255)\" stroke-opacity=\"1.0\" fill=\"rgb(230,115,135)\" fill-opacity=\"1.0\" stroke-width=\"1.6500000000000001\">\n        </rect>\n        <rect x=\"133.15226799734506\" y=\"131.8301886792453\" height=\"56.339622641509465\" width=\"0.09999999999999432\" stroke=\"rgb(255,255,255)\" stroke-opacity=\"1.0\" fill=\"rgb(230,115,135)\" fill-opacity=\"1.0\" stroke-width=\"1.6500000000000001\">\n        </rect>\n        <rect x=\"332.88066999336263\" y=\"192.20754716981133\" height=\"56.339622641509436\" width=\"0.10000000000002274\" stroke=\"rgb(255,255,255)\" stroke-opacity=\"1.0\" fill=\"rgb(230,115,135)\" fill-opacity=\"1.0\" stroke-width=\"1.6500000000000001\">\n        </rect>\n        <rect x=\"332.88066999336263\" y=\"252.5849056603774\" height=\"56.339622641509436\" width=\"0.10000000000002274\" stroke=\"rgb(255,255,255)\" stroke-opacity=\"1.0\" fill=\"rgb(230,115,135)\" fill-opacity=\"1.0\" stroke-width=\"1.6500000000000001\">\n        </rect>\n        <rect x=\"266.3045359946901\" y=\"11.075471698113233\" height=\"56.339622641509465\" width=\"0.10000000000002274\" stroke=\"rgb(255,255,255)\" stroke-opacity=\"1.0\" fill=\"rgb(225,115,230)\" fill-opacity=\"1.0\" stroke-width=\"1.6500000000000001\">\n        </rect>\n        <rect x=\"266.3045359946901\" y=\"71.45283018867931\" height=\"56.33962264150941\" width=\"0.10000000000002274\" stroke=\"rgb(255,255,255)\" stroke-opacity=\"1.0\" fill=\"rgb(225,115,230)\" fill-opacity=\"1.0\" stroke-width=\"1.6500000000000001\">\n        </rect>\n        <rect x=\"133.15226799734506\" y=\"131.8301886792453\" height=\"56.339622641509465\" width=\"0.09999999999999432\" stroke=\"rgb(255,255,255)\" stroke-opacity=\"1.0\" fill=\"rgb(225,115,230)\" fill-opacity=\"1.0\" stroke-width=\"1.6500000000000001\">\n        </rect>\n        <rect x=\"332.88066999336263\" y=\"192.20754716981133\" height=\"56.339622641509436\" width=\"0.10000000000002274\" stroke=\"rgb(255,255,255)\" stroke-opacity=\"1.0\" fill=\"rgb(225,115,230)\" fill-opacity=\"1.0\" stroke-width=\"1.6500000000000001\">\n        </rect>\n        <rect x=\"332.88066999336263\" y=\"252.5849056603774\" height=\"56.339622641509436\" width=\"0.10000000000002274\" stroke=\"rgb(255,255,255)\" stroke-opacity=\"1.0\" fill=\"rgb(225,115,230)\" fill-opacity=\"1.0\" stroke-width=\"1.6500000000000001\">\n        </rect>\n        <rect x=\"266.3045359946901\" y=\"11.075471698113233\" height=\"56.339622641509465\" width=\"0.10000000000002274\" stroke=\"rgb(255,255,255)\" stroke-opacity=\"1.0\" fill=\"rgb(127,115,230)\" fill-opacity=\"1.0\" stroke-width=\"1.6500000000000001\">\n        </rect>\n        <rect x=\"266.3045359946901\" y=\"71.45283018867931\" height=\"56.33962264150941\" width=\"0.10000000000002274\" stroke=\"rgb(255,255,255)\" stroke-opacity=\"1.0\" fill=\"rgb(127,115,230)\" fill-opacity=\"1.0\" stroke-width=\"1.6500000000000001\">\n        </rect>\n        <rect x=\"133.15226799734506\" y=\"131.8301886792453\" height=\"56.339622641509465\" width=\"0.09999999999999432\" stroke=\"rgb(255,255,255)\" stroke-opacity=\"1.0\" fill=\"rgb(127,115,230)\" fill-opacity=\"1.0\" stroke-width=\"1.6500000000000001\">\n        </rect>\n        <rect x=\"332.88066999336263\" y=\"192.20754716981133\" height=\"56.339622641509436\" width=\"0.10000000000002274\" stroke=\"rgb(255,255,255)\" stroke-opacity=\"1.0\" fill=\"rgb(127,115,230)\" fill-opacity=\"1.0\" stroke-width=\"1.6500000000000001\">\n        </rect>\n        <rect x=\"332.88066999336263\" y=\"252.5849056603774\" height=\"56.339622641509436\" width=\"0.10000000000002274\" stroke=\"rgb(255,255,255)\" stroke-opacity=\"1.0\" fill=\"rgb(127,115,230)\" fill-opacity=\"1.0\" stroke-width=\"1.6500000000000001\">\n        </rect>\n        <rect x=\"266.3045359946901\" y=\"11.075471698113233\" height=\"56.339622641509465\" width=\"0.10000000000002274\" stroke=\"rgb(255,255,255)\" stroke-opacity=\"1.0\" fill=\"rgb(115,201,230)\" fill-opacity=\"1.0\" stroke-width=\"1.6500000000000001\">\n        </rect>\n        <rect x=\"266.3045359946901\" y=\"71.45283018867931\" height=\"56.33962264150941\" width=\"0.10000000000002274\" stroke=\"rgb(255,255,255)\" stroke-opacity=\"1.0\" fill=\"rgb(115,201,230)\" fill-opacity=\"1.0\" stroke-width=\"1.6500000000000001\">\n        </rect>\n        <rect x=\"133.15226799734506\" y=\"131.8301886792453\" height=\"56.339622641509465\" width=\"0.09999999999999432\" stroke=\"rgb(255,255,255)\" stroke-opacity=\"1.0\" fill=\"rgb(115,201,230)\" fill-opacity=\"1.0\" stroke-width=\"1.6500000000000001\">\n        </rect>\n        <rect x=\"332.88066999336263\" y=\"192.20754716981133\" height=\"56.339622641509436\" width=\"0.10000000000002274\" stroke=\"rgb(255,255,255)\" stroke-opacity=\"1.0\" fill=\"rgb(115,201,230)\" fill-opacity=\"1.0\" stroke-width=\"1.6500000000000001\">\n        </rect>\n        <rect x=\"332.88066999336263\" y=\"252.5849056603774\" height=\"56.339622641509436\" width=\"0.10000000000002274\" stroke=\"rgb(255,255,255)\" stroke-opacity=\"1.0\" fill=\"rgb(115,201,230)\" fill-opacity=\"1.0\" stroke-width=\"1.6500000000000001\">\n        </rect>\n        <rect x=\"266.3045359946901\" y=\"11.075471698113233\" height=\"56.339622641509465\" width=\"0.10000000000002274\" stroke=\"rgb(255,255,255)\" stroke-opacity=\"1.0\" fill=\"rgb(115,230,160)\" fill-opacity=\"1.0\" stroke-width=\"1.6500000000000001\">\n        </rect>\n        <rect x=\"266.3045359946901\" y=\"71.45283018867931\" height=\"56.33962264150941\" width=\"0.10000000000002274\" stroke=\"rgb(255,255,255)\" stroke-opacity=\"1.0\" fill=\"rgb(115,230,160)\" fill-opacity=\"1.0\" stroke-width=\"1.6500000000000001\">\n        </rect>\n        <rect x=\"133.15226799734506\" y=\"131.8301886792453\" height=\"56.339622641509465\" width=\"0.09999999999999432\" stroke=\"rgb(255,255,255)\" stroke-opacity=\"1.0\" fill=\"rgb(115,230,160)\" fill-opacity=\"1.0\" stroke-width=\"1.6500000000000001\">\n        </rect>\n        <rect x=\"332.88066999336263\" y=\"192.20754716981133\" height=\"56.339622641509436\" width=\"0.10000000000002274\" stroke=\"rgb(255,255,255)\" stroke-opacity=\"1.0\" fill=\"rgb(115,230,160)\" fill-opacity=\"1.0\" stroke-width=\"1.6500000000000001\">\n        </rect>\n        <rect x=\"332.88066999336263\" y=\"252.5849056603774\" height=\"56.339622641509436\" width=\"0.10000000000002274\" stroke=\"rgb(255,255,255)\" stroke-opacity=\"1.0\" fill=\"rgb(115,230,160)\" fill-opacity=\"1.0\" stroke-width=\"1.6500000000000001\">\n        </rect>\n        <rect x=\"0.0\" y=\"12.075471698113233\" height=\"54.339622641509465\" width=\"266.3045359946901\" stroke=\"rgb(255,255,255)\" stroke-opacity=\"1.0\" fill=\"rgb(168,230,115)\" fill-opacity=\"1.0\" stroke-width=\"1.6500000000000001\">\n        </rect>\n        <rect x=\"0.0\" y=\"72.45283018867931\" height=\"54.33962264150941\" width=\"266.3045359946901\" stroke=\"rgb(255,255,255)\" stroke-opacity=\"1.0\" fill=\"rgb(168,230,115)\" fill-opacity=\"1.0\" stroke-width=\"1.6500000000000001\">\n        </rect>\n        <rect x=\"133.15226799734506\" y=\"131.8301886792453\" height=\"56.339622641509465\" width=\"0.09999999999999432\" stroke=\"rgb(255,255,255)\" stroke-opacity=\"1.0\" fill=\"rgb(168,230,115)\" fill-opacity=\"1.0\" stroke-width=\"1.6500000000000001\">\n        </rect>\n        <rect x=\"199.7284019960176\" y=\"193.20754716981133\" height=\"54.339622641509436\" width=\"133.15226799734504\" stroke=\"rgb(255,255,255)\" stroke-opacity=\"1.0\" fill=\"rgb(168,230,115)\" fill-opacity=\"1.0\" stroke-width=\"1.6500000000000001\">\n        </rect>\n        <rect x=\"332.88066999336263\" y=\"252.5849056603774\" height=\"56.339622641509436\" width=\"0.10000000000002274\" stroke=\"rgb(255,255,255)\" stroke-opacity=\"1.0\" fill=\"rgb(168,230,115)\" fill-opacity=\"1.0\" stroke-width=\"1.6500000000000001\">\n        </rect>\n        <rect x=\"0.0\" y=\"11.075471698113233\" height=\"56.339622641509465\" width=\"0.1\" stroke=\"rgb(255,255,255)\" stroke-opacity=\"1.0\" fill=\"rgb(230,193,115)\" fill-opacity=\"1.0\" stroke-width=\"1.6500000000000001\">\n        </rect>\n        <rect x=\"0.0\" y=\"71.45283018867931\" height=\"56.33962264150941\" width=\"0.1\" stroke=\"rgb(255,255,255)\" stroke-opacity=\"1.0\" fill=\"rgb(230,193,115)\" fill-opacity=\"1.0\" stroke-width=\"1.6500000000000001\">\n        </rect>\n        <rect x=\"0.0\" y=\"132.8301886792453\" height=\"54.339622641509465\" width=\"133.15226799734506\" stroke=\"rgb(255,255,255)\" stroke-opacity=\"1.0\" fill=\"rgb(230,193,115)\" fill-opacity=\"1.0\" stroke-width=\"1.6500000000000001\">\n        </rect>\n        <rect x=\"0.0\" y=\"193.20754716981133\" height=\"54.339622641509436\" width=\"199.7284019960176\" stroke=\"rgb(255,255,255)\" stroke-opacity=\"1.0\" fill=\"rgb(230,193,115)\" fill-opacity=\"1.0\" stroke-width=\"1.6500000000000001\">\n        </rect>\n        <rect x=\"0.0\" y=\"253.5849056603774\" height=\"54.339622641509436\" width=\"332.88066999336263\" stroke=\"rgb(255,255,255)\" stroke-opacity=\"1.0\" fill=\"rgb(230,193,115)\" fill-opacity=\"1.0\" stroke-width=\"1.6500000000000001\">\n        </rect>\n      </g>\n    </g>\n    <g transform=\"translate(97.83369294583221 15.2 ) \">\n      <text class=\"plot-title\" y=\"0.0\">\n      Lessons per teacher per weekday\n      </text>\n    </g>\n    <g transform=\"translate(14.5 194.0 ) rotate(-90.0 ) \">\n      <text class=\"axis-title-y\" y=\"0.0\" text-anchor=\"middle\">\n      Teacher\n      </text>\n    </g>\n    <g transform=\"translate(272.5960446923476 391.5 ) \">\n      <text class=\"axis-title-x\" y=\"0.0\" text-anchor=\"middle\">\n      Lessons\n      </text>\n    </g>\n    <g transform=\"translate(457.35839643886294 92.25 ) \">\n      <rect x=\"5.0\" y=\"5.0\" height=\"193.5\" width=\"132.64160356113706\" stroke=\"rgb(71,71,71)\" stroke-opacity=\"1.0\" stroke-width=\"0.0\" fill=\"rgb(255,255,255)\" fill-opacity=\"1.0\">\n      </rect>\n      <g transform=\"translate(10.0 10.0 ) \">\n        <g transform=\"translate(0.0 10.5 ) \">\n          <text class=\"legend-title\" y=\"0.0\">\n          Weekday\n          </text>\n        </g>\n        <g transform=\"translate(0.0 22.5 ) \">\n          <g transform=\"\">\n            <g>\n              <rect x=\"0.0\" y=\"0.0\" height=\"23.0\" width=\"23.0\" stroke-width=\"0.0\" fill=\"rgb(255,255,255)\" fill-opacity=\"1.0\">\n              </rect>\n              <g transform=\"translate(1.0 1.0 ) \">\n                <g>\n                  <rect x=\"0.0\" y=\"0.0\" height=\"21.0\" width=\"21.0\" stroke=\"rgb(255,255,255)\" stroke-opacity=\"1.0\" fill=\"rgb(230,193,115)\" fill-opacity=\"1.0\" stroke-width=\"1.5\">\n                  </rect>\n                </g>\n              </g>\n              <rect x=\"0.0\" y=\"0.0\" height=\"23.0\" width=\"23.0\" stroke=\"rgb(255,255,255)\" stroke-opacity=\"1.0\" stroke-width=\"1.0\" fill-opacity=\"0.0\">\n              </rect>\n            </g>\n            <g transform=\"translate(26.9903027277341 16.05 ) \">\n              <text class=\"legend-item\" y=\"0.0\">\n              MONDAY\n              </text>\n            </g>\n          </g>\n          <g transform=\"translate(0.0 23.0 ) \">\n            <g>\n              <rect x=\"0.0\" y=\"0.0\" height=\"23.0\" width=\"23.0\" stroke-width=\"0.0\" fill=\"rgb(255,255,255)\" fill-opacity=\"1.0\">\n              </rect>\n              <g transform=\"translate(1.0 1.0 ) \">\n                <g>\n                  <rect x=\"0.0\" y=\"0.0\" height=\"21.0\" width=\"21.0\" stroke=\"rgb(255,255,255)\" stroke-opacity=\"1.0\" fill=\"rgb(168,230,115)\" fill-opacity=\"1.0\" stroke-width=\"1.5\">\n                  </rect>\n                </g>\n              </g>\n              <rect x=\"0.0\" y=\"0.0\" height=\"23.0\" width=\"23.0\" stroke=\"rgb(255,255,255)\" stroke-opacity=\"1.0\" stroke-width=\"1.0\" fill-opacity=\"0.0\">\n              </rect>\n            </g>\n            <g transform=\"translate(26.9903027277341 16.05 ) \">\n              <text class=\"legend-item\" y=\"0.0\">\n              TUESDAY\n              </text>\n            </g>\n          </g>\n          <g transform=\"translate(0.0 46.0 ) \">\n            <g>\n              <rect x=\"0.0\" y=\"0.0\" height=\"23.0\" width=\"23.0\" stroke-width=\"0.0\" fill=\"rgb(255,255,255)\" fill-opacity=\"1.0\">\n              </rect>\n              <g transform=\"translate(1.0 1.0 ) \">\n                <g>\n                  <rect x=\"0.0\" y=\"0.0\" height=\"21.0\" width=\"21.0\" stroke=\"rgb(255,255,255)\" stroke-opacity=\"1.0\" fill=\"rgb(115,230,160)\" fill-opacity=\"1.0\" stroke-width=\"1.5\">\n                  </rect>\n                </g>\n              </g>\n              <rect x=\"0.0\" y=\"0.0\" height=\"23.0\" width=\"23.0\" stroke=\"rgb(255,255,255)\" stroke-opacity=\"1.0\" stroke-width=\"1.0\" fill-opacity=\"0.0\">\n              </rect>\n            </g>\n            <g transform=\"translate(26.9903027277341 16.05 ) \">\n              <text class=\"legend-item\" y=\"0.0\">\n              WEDNESDAY\n              </text>\n            </g>\n          </g>\n          <g transform=\"translate(0.0 69.0 ) \">\n            <g>\n              <rect x=\"0.0\" y=\"0.0\" height=\"23.0\" width=\"23.0\" stroke-width=\"0.0\" fill=\"rgb(255,255,255)\" fill-opacity=\"1.0\">\n              </rect>\n              <g transform=\"translate(1.0 1.0 ) \">\n                <g>\n                  <rect x=\"0.0\" y=\"0.0\" height=\"21.0\" width=\"21.0\" stroke=\"rgb(255,255,255)\" stroke-opacity=\"1.0\" fill=\"rgb(115,201,230)\" fill-opacity=\"1.0\" stroke-width=\"1.5\">\n                  </rect>\n                </g>\n              </g>\n              <rect x=\"0.0\" y=\"0.0\" height=\"23.0\" width=\"23.0\" stroke=\"rgb(255,255,255)\" stroke-opacity=\"1.0\" stroke-width=\"1.0\" fill-opacity=\"0.0\">\n              </rect>\n            </g>\n            <g transform=\"translate(26.9903027277341 16.05 ) \">\n              <text class=\"legend-item\" y=\"0.0\">\n              THURSDAY\n              </text>\n            </g>\n          </g>\n          <g transform=\"translate(0.0 92.0 ) \">\n            <g>\n              <rect x=\"0.0\" y=\"0.0\" height=\"23.0\" width=\"23.0\" stroke-width=\"0.0\" fill=\"rgb(255,255,255)\" fill-opacity=\"1.0\">\n              </rect>\n              <g transform=\"translate(1.0 1.0 ) \">\n                <g>\n                  <rect x=\"0.0\" y=\"0.0\" height=\"21.0\" width=\"21.0\" stroke=\"rgb(255,255,255)\" stroke-opacity=\"1.0\" fill=\"rgb(127,115,230)\" fill-opacity=\"1.0\" stroke-width=\"1.5\">\n                  </rect>\n                </g>\n              </g>\n              <rect x=\"0.0\" y=\"0.0\" height=\"23.0\" width=\"23.0\" stroke=\"rgb(255,255,255)\" stroke-opacity=\"1.0\" stroke-width=\"1.0\" fill-opacity=\"0.0\">\n              </rect>\n            </g>\n            <g transform=\"translate(26.9903027277341 16.05 ) \">\n              <text class=\"legend-item\" y=\"0.0\">\n              FRIDAY\n              </text>\n            </g>\n          </g>\n          <g transform=\"translate(0.0 115.0 ) \">\n            <g>\n              <rect x=\"0.0\" y=\"0.0\" height=\"23.0\" width=\"23.0\" stroke-width=\"0.0\" fill=\"rgb(255,255,255)\" fill-opacity=\"1.0\">\n              </rect>\n              <g transform=\"translate(1.0 1.0 ) \">\n                <g>\n                  <rect x=\"0.0\" y=\"0.0\" height=\"21.0\" width=\"21.0\" stroke=\"rgb(255,255,255)\" stroke-opacity=\"1.0\" fill=\"rgb(225,115,230)\" fill-opacity=\"1.0\" stroke-width=\"1.5\">\n                  </rect>\n                </g>\n              </g>\n              <rect x=\"0.0\" y=\"0.0\" height=\"23.0\" width=\"23.0\" stroke=\"rgb(255,255,255)\" stroke-opacity=\"1.0\" stroke-width=\"1.0\" fill-opacity=\"0.0\">\n              </rect>\n            </g>\n            <g transform=\"translate(26.9903027277341 16.05 ) \">\n              <text class=\"legend-item\" y=\"0.0\">\n              SATURDAY\n              </text>\n            </g>\n          </g>\n          <g transform=\"translate(0.0 138.0 ) \">\n            <g>\n              <rect x=\"0.0\" y=\"0.0\" height=\"23.0\" width=\"23.0\" stroke-width=\"0.0\" fill=\"rgb(255,255,255)\" fill-opacity=\"1.0\">\n              </rect>\n              <g transform=\"translate(1.0 1.0 ) \">\n                <g>\n                  <rect x=\"0.0\" y=\"0.0\" height=\"21.0\" width=\"21.0\" stroke=\"rgb(255,255,255)\" stroke-opacity=\"1.0\" fill=\"rgb(230,115,135)\" fill-opacity=\"1.0\" stroke-width=\"1.5\">\n                  </rect>\n                </g>\n              </g>\n              <rect x=\"0.0\" y=\"0.0\" height=\"23.0\" width=\"23.0\" stroke=\"rgb(255,255,255)\" stroke-opacity=\"1.0\" stroke-width=\"1.0\" fill-opacity=\"0.0\">\n              </rect>\n            </g>\n            <g transform=\"translate(26.9903027277341 16.05 ) \">\n              <text class=\"legend-item\" y=\"0.0\">\n              SUNDAY\n              </text>\n            </g>\n          </g>\n        </g>\n      </g>\n    </g>\n    <path fill=\"rgb(0,0,0)\" fill-opacity=\"0.0\" stroke=\"rgb(71,71,71)\" stroke-opacity=\"1.0\" stroke-width=\"0.0\" d=\"M0.0 0.0 L0.0 400.0 L600.0 400.0 L600.0 0.0 Z\">\n    </path>\n  </g>\n  <g id=\"dIKWLui\">\n  </g>\n</svg>\n        <script>document.getElementById(\"582d19de-8efb-4f38-aa2a-f849e9bf165e\").style.display = \"none\";</script>",
      "application/plot+json": {
       "output_type": "lets_plot_spec",
       "output": {
        "ggtitle": {
         "text": "Lessons per teacher per weekday"
        },
        "mapping": {},
        "data": {},
        "kind": "plot",
        "scales": [
         {
          "aesthetic": "y",
          "discrete": true
         },
         {
          "aesthetic": "x",
          "limits": [
           null,
           null
          ]
         },
         {
          "aesthetic": "fill",
          "scale_mapper_kind": "color_hue"
         }
        ],
        "layers": [
         {
          "mapping": {
           "y": "Teacher",
           "x": "Lessons",
           "fill": "Weekday",
           "group": "&merged_groups"
          },
          "stat": "identity",
          "orientation": "y",
          "data": {
           "Weekday": [
            "MONDAY",
            "MONDAY",
            "MONDAY",
            "MONDAY",
            "MONDAY",
            "TUESDAY",
            "TUESDAY",
            "TUESDAY",
            "TUESDAY",
            "TUESDAY",
            "WEDNESDAY",
            "WEDNESDAY",
            "WEDNESDAY",
            "WEDNESDAY",
            "WEDNESDAY",
            "THURSDAY",
            "THURSDAY",
            "THURSDAY",
            "THURSDAY",
            "THURSDAY",
            "FRIDAY",
            "FRIDAY",
            "FRIDAY",
            "FRIDAY",
            "FRIDAY",
            "SATURDAY",
            "SATURDAY",
            "SATURDAY",
            "SATURDAY",
            "SATURDAY",
            "SUNDAY",
            "SUNDAY",
            "SUNDAY",
            "SUNDAY",
            "SUNDAY"
           ],
           "&merged_groups": [
            "MONDAY",
            "MONDAY",
            "MONDAY",
            "MONDAY",
            "MONDAY",
            "TUESDAY",
            "TUESDAY",
            "TUESDAY",
            "TUESDAY",
            "TUESDAY",
            "WEDNESDAY",
            "WEDNESDAY",
            "WEDNESDAY",
            "WEDNESDAY",
            "WEDNESDAY",
            "THURSDAY",
            "THURSDAY",
            "THURSDAY",
            "THURSDAY",
            "THURSDAY",
            "FRIDAY",
            "FRIDAY",
            "FRIDAY",
            "FRIDAY",
            "FRIDAY",
            "SATURDAY",
            "SATURDAY",
            "SATURDAY",
            "SATURDAY",
            "SATURDAY",
            "SUNDAY",
            "SUNDAY",
            "SUNDAY",
            "SUNDAY",
            "SUNDAY"
           ],
           "Lessons": [
            5.0,
            3.0,
            2.0,
            0.0,
            0.0,
            0.0,
            2.0,
            0.0,
            4.0,
            4.0,
            0.0,
            0.0,
            0.0,
            0.0,
            0.0,
            0.0,
            0.0,
            0.0,
            0.0,
            0.0,
            0.0,
            0.0,
            0.0,
            0.0,
            0.0,
            0.0,
            0.0,
            0.0,
            0.0,
            0.0,
            0.0,
            0.0,
            0.0,
            0.0,
            0.0
           ],
           "Teacher": [
            "A. Turing",
            "M. Curie",
            "C. Darwin",
            "I. Jones",
            "P. Cruz",
            "A. Turing",
            "M. Curie",
            "C. Darwin",
            "I. Jones",
            "P. Cruz",
            "A. Turing",
            "M. Curie",
            "C. Darwin",
            "I. Jones",
            "P. Cruz",
            "A. Turing",
            "M. Curie",
            "C. Darwin",
            "I. Jones",
            "P. Cruz",
            "A. Turing",
            "M. Curie",
            "C. Darwin",
            "I. Jones",
            "P. Cruz",
            "A. Turing",
            "M. Curie",
            "C. Darwin",
            "I. Jones",
            "P. Cruz",
            "A. Turing",
            "M. Curie",
            "C. Darwin",
            "I. Jones",
            "P. Cruz"
           ]
          },
          "sampling": "none",
          "position": "stack",
          "geom": "bar"
         }
        ]
       },
       "apply_color_scheme": true,
       "swing_enabled": true
      }
     },
     "execution_count": 13,
     "metadata": {},
     "output_type": "execute_result"
    }
   ],
   "source": [
    "val teacherToLessonsMap = solution.lessons.groupBy {it.teacher}\n",
    "val teachers = teacherToLessonsMap.keys.distinct()\n",
    "val dayOfWeeks = enumValues<DayOfWeek>().toList()\n",
    "val lessonCounts = dayOfWeeks.flatMap { dayOfWeek ->\n",
    "    teachers.map { teacher ->\n",
    "        (teacherToLessonsMap[teacher] ?: emptyList())\n",
    "            .count { it.timeslot?.dayOfWeek == dayOfWeek }\n",
    "    }\n",
    "}\n",
    "\n",
    "val dataset = mapOf(\n",
    "    \"Teacher\" to List(dayOfWeeks.size) { teachers }.flatten(),\n",
    "    \"Lessons\" to lessonCounts,\n",
    "    \"Weekday\" to dayOfWeeks.flatMap { dayOfWeek -> List(teachers.size) { dayOfWeek } }\n",
    ")\n",
    "\n",
    "dataset.plot {\n",
    "    layout.title = \"Lessons per teacher per weekday\"\n",
    "    groupBy(\"Weekday\") {\n",
    "        barsH {\n",
    "            y(\"Teacher\")\n",
    "            x(\"Lessons\")\n",
    "            fillColor(\"Weekday\") {\n",
    "                scale = categoricalColorHue()\n",
    "            }\n",
    "            position = Position.stack()\n",
    "        }\n",
    "    }\n",
    "}"
   ],
   "metadata": {
    "collapsed": false,
    "ExecuteTime": {
     "end_time": "2024-02-13T06:48:24.911044828Z",
     "start_time": "2024-02-13T06:48:23.663517829Z"
    }
   },
   "execution_count": 13
  },
  {
   "cell_type": "markdown",
   "source": [
    "## Conclusion\n",
    "\n",
    "To learn more about planning optimization, visit [timefold.ai](https://timefold.ai)."
   ],
   "metadata": {
    "collapsed": false
   }
  }
 ],
 "metadata": {
  "kernelspec": {
   "display_name": "Kotlin",
   "language": "kotlin",
   "name": "kotlin"
  },
  "language_info": {
   "name": "kotlin",
   "version": "1.9.0",
   "mimetype": "text/x-kotlin",
   "file_extension": ".kt",
   "pygments_lexer": "kotlin",
   "codemirror_mode": "text/x-kotlin",
   "nbconvert_exporter": ""
  }
 },
 "nbformat": 4,
 "nbformat_minor": 0
}
