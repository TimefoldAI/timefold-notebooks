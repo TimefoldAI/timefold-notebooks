{
 "cells": [
  {
   "cell_type": "markdown",
   "source": [
    "# School timetabling kotlin notebook\n",
    "\n",
    "This Kotlin Notebook solves a school timetabling problem with [Timefold](https://timefold.ai), the open source planning solver AI.\n",
    "\n",
    "![School timetabling input output](https://timefold.ai/docs/timefold-solver/latest/_images/quickstart/school-timetabling/schoolTimetablingInputOutput.png)\n",
    "\n",
    "## Dependencies\n",
    "\n",
    "Add the Timefold solver dependency:"
   ],
   "metadata": {
    "collapsed": false
   }
  },
  {
   "cell_type": "code",
   "execution_count": 1,
   "outputs": [],
   "source": [
    "@file:DependsOn(\"ai.timefold.solver:timefold-solver-core:1.5.0\")\n",
    "@file:DependsOn(\"ch.qos.logback:logback-classic:1.4.14\")"
   ],
   "metadata": {
    "collapsed": false,
    "ExecuteTime": {
     "end_time": "2024-01-03T05:23:33.266325323Z",
     "start_time": "2024-01-03T05:23:31.288325133Z"
    }
   }
  },
  {
   "cell_type": "markdown",
   "source": [
    "\n",
    "## Domain\n",
    "\n",
    "Create the domain classes:\n",
    "\n",
    "### Room\n",
    "\n",
    "A school has rooms."
   ],
   "metadata": {
    "collapsed": false
   }
  },
  {
   "cell_type": "code",
   "execution_count": 2,
   "outputs": [],
   "source": [
    "class Room {\n",
    "\n",
    "    var name: String\n",
    "\n",
    "    constructor(name: String) {\n",
    "        this.name = name\n",
    "    }\n",
    "\n",
    "    override fun toString(): String = name\n",
    "\n",
    "}"
   ],
   "metadata": {
    "collapsed": false,
    "ExecuteTime": {
     "end_time": "2024-01-03T05:23:33.464275875Z",
     "start_time": "2024-01-03T05:23:33.266688258Z"
    }
   }
  },
  {
   "cell_type": "markdown",
   "source": [
    "### Timeslot\n",
    "\n",
    "A school timetable has timeslots."
   ],
   "metadata": {
    "collapsed": false
   }
  },
  {
   "cell_type": "code",
   "execution_count": 3,
   "outputs": [],
   "source": [
    "import java.time.DayOfWeek\n",
    "import java.time.LocalTime\n",
    "\n",
    "class Timeslot {\n",
    "\n",
    "    var dayOfWeek: DayOfWeek\n",
    "    var startTime: LocalTime\n",
    "    var endTime: LocalTime\n",
    "\n",
    "    constructor(dayOfWeek: DayOfWeek, startTime: LocalTime, endTime: LocalTime) {\n",
    "        this.dayOfWeek = dayOfWeek\n",
    "        this.startTime = startTime\n",
    "        this.endTime = endTime\n",
    "    }\n",
    "\n",
    "    override fun toString(): String = \"$dayOfWeek $startTime\"\n",
    "\n",
    "}"
   ],
   "metadata": {
    "collapsed": false,
    "ExecuteTime": {
     "end_time": "2024-01-03T05:23:33.684789190Z",
     "start_time": "2024-01-03T05:23:33.467183871Z"
    }
   }
  },
  {
   "cell_type": "markdown",
   "source": [
    "### Lesson\n",
    "\n",
    "Each lesson must be assigned to a timeslot and to a room by the solver."
   ],
   "metadata": {
    "collapsed": false
   }
  },
  {
   "cell_type": "code",
   "execution_count": 4,
   "outputs": [],
   "source": [
    "import ai.timefold.solver.core.api.domain.entity.PlanningEntity\n",
    "import ai.timefold.solver.core.api.domain.lookup.PlanningId\n",
    "import ai.timefold.solver.core.api.domain.variable.PlanningVariable\n",
    "\n",
    "@PlanningEntity\n",
    "class Lesson {\n",
    "\n",
    "    @PlanningId\n",
    "    var id: Long? = null\n",
    "    lateinit var subject: String\n",
    "    lateinit var teacher: String\n",
    "    lateinit var studentGroup: String\n",
    "\n",
    "    @PlanningVariable\n",
    "    var timeslot: Timeslot? = null\n",
    "    @PlanningVariable\n",
    "    var room: Room? = null\n",
    "\n",
    "    // No-arg constructor required for Timefold\n",
    "    constructor()\n",
    "\n",
    "    constructor(id: Long, subject: String, teacher: String, studentGroup: String) {\n",
    "        this.id = id\n",
    "        this.subject = subject\n",
    "        this.teacher = teacher\n",
    "        this.studentGroup = studentGroup\n",
    "    }\n",
    "\n",
    "\n",
    "    override fun toString(): String = \"$subject\"\n",
    "\n",
    "}"
   ],
   "metadata": {
    "collapsed": false,
    "ExecuteTime": {
     "end_time": "2024-01-03T05:23:34.004140021Z",
     "start_time": "2024-01-03T05:23:33.669659691Z"
    }
   }
  },
  {
   "cell_type": "markdown",
   "source": [
    "## Constraints\n",
    "\n",
    "The solver must take into account hard and soft constraints:"
   ],
   "metadata": {
    "collapsed": false
   }
  },
  {
   "cell_type": "code",
   "execution_count": 5,
   "outputs": [],
   "source": [
    "import ai.timefold.solver.core.api.score.buildin.hardsoft.HardSoftScore\n",
    "import ai.timefold.solver.core.api.score.stream.Constraint\n",
    "import ai.timefold.solver.core.api.score.stream.ConstraintFactory\n",
    "import ai.timefold.solver.core.api.score.stream.ConstraintProvider\n",
    "import ai.timefold.solver.core.api.score.stream.Joiners\n",
    "import java.time.Duration\n",
    "\n",
    "class TimeTableConstraintProvider : ConstraintProvider {\n",
    "\n",
    "    override fun defineConstraints(constraintFactory: ConstraintFactory): Array<Constraint>? {\n",
    "        return arrayOf(\n",
    "            // Hard constraints\n",
    "            roomConflict(constraintFactory),\n",
    "            teacherConflict(constraintFactory),\n",
    "            studentGroupConflict(constraintFactory),\n",
    "            // Soft constraints\n",
    "            teacherRoomStability(constraintFactory),\n",
    "            teacherTimeEfficiency(constraintFactory),\n",
    "            studentGroupSubjectVariety(constraintFactory)\n",
    "        )\n",
    "    }\n",
    "\n",
    "    fun roomConflict(constraintFactory: ConstraintFactory): Constraint {\n",
    "        // A room can accommodate at most one lesson at the same time.\n",
    "        return constraintFactory\n",
    "            // Select each pair of 2 different lessons ...\n",
    "            .forEachUniquePair(\n",
    "                Lesson::class.java,\n",
    "                // ... in the same timeslot ...\n",
    "                Joiners.equal(Lesson::timeslot),\n",
    "                // ... in the same room ...\n",
    "                Joiners.equal(Lesson::room)\n",
    "            )\n",
    "            // ... and penalize each pair with a hard weight.\n",
    "            .penalize(HardSoftScore.ONE_HARD)\n",
    "            .asConstraint(\"school-timetabling\", \"Room conflict\");\n",
    "    }\n",
    "\n",
    "    fun teacherConflict(constraintFactory: ConstraintFactory): Constraint {\n",
    "        // A teacher can teach at most one lesson at the same time.\n",
    "        return constraintFactory\n",
    "            .forEachUniquePair(\n",
    "                Lesson::class.java,\n",
    "                Joiners.equal(Lesson::timeslot),\n",
    "                Joiners.equal(Lesson::teacher)\n",
    "            )\n",
    "            .penalize(HardSoftScore.ONE_HARD)\n",
    "            .asConstraint(\"school-timetabling\", \"Teacher conflict\");\n",
    "    }\n",
    "\n",
    "    fun studentGroupConflict(constraintFactory: ConstraintFactory): Constraint {\n",
    "        // A student can attend at most one lesson at the same time.\n",
    "        return constraintFactory\n",
    "            .forEachUniquePair(\n",
    "                Lesson::class.java,\n",
    "                Joiners.equal(Lesson::timeslot),\n",
    "                Joiners.equal(Lesson::studentGroup)\n",
    "            )\n",
    "            .penalize(HardSoftScore.ONE_HARD)\n",
    "            .asConstraint(\"school-timetabling\", \"Student group conflict\");\n",
    "    }\n",
    "\n",
    "    fun teacherRoomStability(constraintFactory: ConstraintFactory): Constraint {\n",
    "        // A teacher prefers to teach in a single room.\n",
    "        return constraintFactory\n",
    "            .forEachUniquePair(\n",
    "                Lesson::class.java,\n",
    "                Joiners.equal(Lesson::teacher)\n",
    "            )\n",
    "            .filter { lesson1: Lesson, lesson2: Lesson -> lesson1.room !== lesson2.room }\n",
    "            .penalize(HardSoftScore.ONE_SOFT)\n",
    "            .asConstraint(\"school-timetabling\", \"Teacher room stability\");\n",
    "    }\n",
    "\n",
    "    fun teacherTimeEfficiency(constraintFactory: ConstraintFactory): Constraint {\n",
    "        // A teacher prefers to teach sequential lessons and dislikes gaps between lessons.\n",
    "        return constraintFactory\n",
    "            .forEach(Lesson::class.java)\n",
    "            .join(Lesson::class.java,\n",
    "                Joiners.equal(Lesson::teacher),\n",
    "                Joiners.equal { lesson: Lesson -> lesson.timeslot?.dayOfWeek })\n",
    "            .filter { lesson1: Lesson, lesson2: Lesson ->\n",
    "                val between = Duration.between(\n",
    "                    lesson1.timeslot?.endTime,\n",
    "                    lesson2.timeslot?.startTime\n",
    "                )\n",
    "                !between.isNegative && between.compareTo(Duration.ofMinutes(30)) <= 0\n",
    "            }\n",
    "            .reward(HardSoftScore.ONE_SOFT)\n",
    "            .asConstraint(\"school-timetabling\", \"Teacher time efficiency\");\n",
    "    }\n",
    "\n",
    "    fun studentGroupSubjectVariety(constraintFactory: ConstraintFactory): Constraint {\n",
    "        // A student group dislikes sequential lessons on the same subject.\n",
    "        return constraintFactory\n",
    "            .forEach(Lesson::class.java)\n",
    "            .join(Lesson::class.java,\n",
    "                Joiners.equal(Lesson::subject),\n",
    "                Joiners.equal(Lesson::studentGroup),\n",
    "                Joiners.equal { lesson: Lesson -> lesson.timeslot?.dayOfWeek })\n",
    "            .filter { lesson1: Lesson, lesson2: Lesson ->\n",
    "                val between = Duration.between(\n",
    "                    lesson1.timeslot?.endTime,\n",
    "                    lesson2.timeslot?.startTime\n",
    "                )\n",
    "                !between.isNegative && between.compareTo(Duration.ofMinutes(30)) <= 0\n",
    "            }\n",
    "            .penalize(HardSoftScore.ONE_SOFT)\n",
    "            .asConstraint(\"school-timetabling\", \"Student group subject variety\");\n",
    "    }\n",
    "\n",
    "}"
   ],
   "metadata": {
    "collapsed": false,
    "ExecuteTime": {
     "end_time": "2024-01-03T05:23:36.433498489Z",
     "start_time": "2024-01-03T05:23:34.002800026Z"
    }
   }
  },
  {
   "cell_type": "markdown",
   "source": [
    "### TimeTable\n",
    "\n",
    "The timetable class represents a single dataset, typically a single school:"
   ],
   "metadata": {
    "collapsed": false
   }
  },
  {
   "cell_type": "code",
   "execution_count": 6,
   "outputs": [],
   "source": [
    "import ai.timefold.solver.core.api.domain.solution.PlanningEntityCollectionProperty\n",
    "import ai.timefold.solver.core.api.domain.solution.PlanningScore\n",
    "import ai.timefold.solver.core.api.domain.solution.PlanningSolution\n",
    "import ai.timefold.solver.core.api.domain.solution.ProblemFactCollectionProperty\n",
    "import ai.timefold.solver.core.api.domain.valuerange.ValueRangeProvider\n",
    "import ai.timefold.solver.core.api.score.buildin.hardsoft.HardSoftScore\n",
    "\n",
    "@PlanningSolution\n",
    "class TimeTable {\n",
    "\n",
    "    @ProblemFactCollectionProperty\n",
    "    @ValueRangeProvider\n",
    "    lateinit var timeslots: List<Timeslot>\n",
    "    @ProblemFactCollectionProperty\n",
    "    @ValueRangeProvider\n",
    "    lateinit var rooms: List<Room>\n",
    "    @PlanningEntityCollectionProperty\n",
    "    lateinit var lessons: List<Lesson>\n",
    "\n",
    "    @PlanningScore\n",
    "    var score: HardSoftScore? = null\n",
    "\n",
    "    // No-arg constructor required for Timefold\n",
    "    constructor() {}\n",
    "\n",
    "    constructor(timeslots: List<Timeslot>, rooms: List<Room>, lessons: List<Lesson>) {\n",
    "        this.timeslots = timeslots\n",
    "        this.rooms = rooms\n",
    "        this.lessons = lessons\n",
    "    }\n",
    "\n",
    "}"
   ],
   "metadata": {
    "collapsed": false,
    "ExecuteTime": {
     "end_time": "2024-01-03T05:23:36.612393889Z",
     "start_time": "2024-01-03T05:23:36.445659707Z"
    }
   }
  },
  {
   "cell_type": "markdown",
   "source": [
    "## Data generator\n",
    "\n",
    "Generate some data for a small school timetable:"
   ],
   "metadata": {
    "collapsed": false
   }
  },
  {
   "cell_type": "code",
   "execution_count": 7,
   "outputs": [],
   "source": [
    "fun generateDemoData(): TimeTable {\n",
    "    val timeslots: MutableList<Timeslot> = mutableListOf(\n",
    "            Timeslot(DayOfWeek.MONDAY, LocalTime.of(8, 30), LocalTime.of(9, 30)),\n",
    "            Timeslot(DayOfWeek.MONDAY, LocalTime.of(9, 30), LocalTime.of(10, 30)),\n",
    "            Timeslot(DayOfWeek.MONDAY, LocalTime.of(10, 30), LocalTime.of(11, 30)),\n",
    "            Timeslot(DayOfWeek.MONDAY, LocalTime.of(13, 30), LocalTime.of(14, 30)),\n",
    "            Timeslot(DayOfWeek.MONDAY, LocalTime.of(14, 30), LocalTime.of(15, 30)),\n",
    "    \n",
    "            Timeslot(DayOfWeek.TUESDAY, LocalTime.of(8, 30), LocalTime.of(9, 30)),\n",
    "            Timeslot(DayOfWeek.TUESDAY, LocalTime.of(9, 30), LocalTime.of(10, 30)),\n",
    "            Timeslot(DayOfWeek.TUESDAY, LocalTime.of(10, 30), LocalTime.of(11, 30)),\n",
    "            Timeslot(DayOfWeek.TUESDAY, LocalTime.of(13, 30), LocalTime.of(14, 30)),\n",
    "            Timeslot(DayOfWeek.TUESDAY, LocalTime.of(14, 30), LocalTime.of(15, 30)))\n",
    "    \n",
    "    \n",
    "    val rooms: MutableList<Room> = mutableListOf(\n",
    "            Room(\"Room A\"),\n",
    "            Room(\"Room B\"),\n",
    "            Room(\"Room C\"))\n",
    "    \n",
    "    var nextId: Long = 0\n",
    "    val lessons: MutableList<Lesson> = mutableListOf(\n",
    "            Lesson(nextId++, \"Math\", \"A. Turing\", \"9th grade\"),\n",
    "            Lesson(nextId++, \"Math\", \"A. Turing\", \"9th grade\"),\n",
    "            Lesson(nextId++, \"Physics\", \"M. Curie\", \"9th grade\"),\n",
    "            Lesson(nextId++, \"Chemistry\", \"M. Curie\", \"9th grade\"),\n",
    "            Lesson(nextId++, \"Biology\", \"C. Darwin\", \"9th grade\"),\n",
    "            Lesson(nextId++, \"History\", \"I. Jones\", \"9th grade\"),\n",
    "            Lesson(nextId++, \"English\", \"I. Jones\", \"9th grade\"),\n",
    "            Lesson(nextId++, \"English\", \"I. Jones\", \"9th grade\"),\n",
    "            Lesson(nextId++, \"Spanish\", \"P. Cruz\", \"9th grade\"),\n",
    "            Lesson(nextId++, \"Spanish\", \"P. Cruz\", \"9th grade\"),\n",
    "            Lesson(nextId++, \"Math\", \"A. Turing\", \"10th grade\"),\n",
    "            Lesson(nextId++, \"Math\", \"A. Turing\", \"10th grade\"),\n",
    "            Lesson(nextId++, \"Math\", \"A. Turing\", \"10th grade\"),\n",
    "            Lesson(nextId++, \"Physics\", \"M. Curie\", \"10th grade\"),\n",
    "            Lesson(nextId++, \"Chemistry\", \"M. Curie\", \"10th grade\"),\n",
    "            Lesson(nextId++, \"French\", \"M. Curie\", \"10th grade\"),\n",
    "            Lesson(nextId++, \"Geography\", \"C. Darwin\", \"10th grade\"),\n",
    "            Lesson(nextId++, \"History\", \"I. Jones\", \"10th grade\"),\n",
    "            Lesson(nextId++, \"English\", \"P. Cruz\", \"10th grade\"),\n",
    "            Lesson(nextId++, \"Spanish\", \"P. Cruz\", \"10th grade\"))\n",
    "    return TimeTable(timeslots, rooms, lessons)\n",
    "}"
   ],
   "metadata": {
    "collapsed": false,
    "ExecuteTime": {
     "end_time": "2024-01-03T05:23:37.582295644Z",
     "start_time": "2024-01-03T05:23:36.611508071Z"
    }
   }
  },
  {
   "cell_type": "markdown",
   "source": [
    "## Solve it\n",
    "\n",
    "Configure and run the solver:"
   ],
   "metadata": {
    "collapsed": false
   }
  },
  {
   "cell_type": "code",
   "execution_count": 8,
   "outputs": [
    {
     "name": "stdout",
     "output_type": "stream",
     "text": [
      "Loading the problem ...\n",
      "Solving the problem ...\n"
     ]
    }
   ],
   "source": [
    "import ai.timefold.solver.core.config.solver.SolverConfig\n",
    "import ai.timefold.solver.core.api.solver.SolverFactory\n",
    "import ai.timefold.solver.core.api.solver.Solver\n",
    "\n",
    "val solverFactory: SolverFactory<TimeTable> = SolverFactory.create(SolverConfig()\n",
    "        .withSolutionClass(TimeTable::class.java)\n",
    "        .withEntityClasses(Lesson::class.java)\n",
    "        .withConstraintProviderClass(TimeTableConstraintProvider::class.java)\n",
    "        // The solver runs only for 5 seconds on this small dataset.\n",
    "        // It's recommended to run for at least 5 minutes (\"5m\") otherwise.\n",
    "        .withTerminationSpentLimit(Duration.ofSeconds(5)))\n",
    "\n",
    "println(\"Loading the problem ...\")\n",
    "val problem: TimeTable = generateDemoData()\n",
    "\n",
    "println(\"Solving the problem ...\")\n",
    "val solver: Solver<TimeTable> = solverFactory.buildSolver()\n",
    "val solution: TimeTable = solver.solve(problem)"
   ],
   "metadata": {
    "collapsed": false,
    "ExecuteTime": {
     "end_time": "2024-01-03T05:23:43.642305093Z",
     "start_time": "2024-01-03T05:23:37.422585795Z"
    }
   }
  },
  {
   "cell_type": "markdown",
   "source": [
    "## Visualize the schedule\n",
    "\n",
    "Show the timetable:"
   ],
   "metadata": {
    "collapsed": false
   }
  },
  {
   "cell_type": "code",
   "execution_count": 10,
   "outputs": [
    {
     "data": {
      "text/html": "<p style='font-size: x-large'>Score: 0hard/9soft</p><table><tr><th/><th>Room A</th><th>Room B</th><th>Room C</th></tr><tr><th>MONDAY 08:30 - 09:30</th><td>History<br/>I. Jones<br/>9th grade</td><td>Spanish<br/>P. Cruz<br/>10th grade</td><td><br/><br/></td></tr><tr><th>MONDAY 09:30 - 10:30</th><td>English<br/>I. Jones<br/>9th grade</td><td>English<br/>P. Cruz<br/>10th grade</td><td><br/><br/></td></tr><tr><th>MONDAY 10:30 - 11:30</th><td><br/><br/></td><td>Spanish<br/>P. Cruz<br/>9th grade</td><td>Math<br/>A. Turing<br/>10th grade</td></tr><tr><th>MONDAY 13:30 - 14:30</th><td>Chemistry<br/>M. Curie<br/>10th grade</td><td>Spanish<br/>P. Cruz<br/>9th grade</td><td><br/><br/></td></tr><tr><th>MONDAY 14:30 - 15:30</th><td>Chemistry<br/>M. Curie<br/>9th grade</td><td><br/><br/></td><td>Math<br/>A. Turing<br/>10th grade</td></tr><tr><th>TUESDAY 08:30 - 09:30</th><td>Physics<br/>M. Curie<br/>10th grade</td><td><br/><br/></td><td>Math<br/>A. Turing<br/>9th grade</td></tr><tr><th>TUESDAY 09:30 - 10:30</th><td>French<br/>M. Curie<br/>10th grade</td><td><br/><br/></td><td>Biology<br/>C. Darwin<br/>9th grade</td></tr><tr><th>TUESDAY 10:30 - 11:30</th><td>Physics<br/>M. Curie<br/>9th grade</td><td><br/><br/></td><td>Geography<br/>C. Darwin<br/>10th grade</td></tr><tr><th>TUESDAY 13:30 - 14:30</th><td>English<br/>I. Jones<br/>9th grade</td><td><br/><br/></td><td>Math<br/>A. Turing<br/>10th grade</td></tr><tr><th>TUESDAY 14:30 - 15:30</th><td>History<br/>I. Jones<br/>10th grade</td><td><br/><br/></td><td>Math<br/>A. Turing<br/>9th grade</td></tr></table>"
     },
     "execution_count": 10,
     "metadata": {},
     "output_type": "execute_result"
    }
   ],
   "source": [
    "val lessonMap = solution.lessons.groupBy { lesson -> Pair(lesson.timeslot, lesson.room) }\n",
    "HTML(buildString {\n",
    "    append(\"<p style='font-size: x-large'>Score: ${solution.score}</p>\")\n",
    "    append(\"<table><tr><th/>\")\n",
    "    for (room in solution.rooms) {\n",
    "        append(\"<th>${room.name}</th>\")\n",
    "    }\n",
    "    append(\"</tr>\")\n",
    "    for (timeslot in solution.timeslots) {\n",
    "        append(\"<tr><th>${timeslot.dayOfWeek} ${timeslot.startTime} - ${timeslot.endTime}</th>\")\n",
    "        for (room in solution.rooms) {\n",
    "            val cellLessons = lessonMap.get(Pair(timeslot, room)) ?: emptyList()\n",
    "            append(\"<td>\")\n",
    "            append(cellLessons.map { it.subject }.joinToString(\", \"))\n",
    "            append(\"<br/>\")\n",
    "            append(cellLessons.map { it.teacher }.joinToString(\", \"))\n",
    "            append(\"<br/>\")\n",
    "            append(cellLessons.map { it.studentGroup }.joinToString(\", \"))\n",
    "            append(\"</td>\")\n",
    "        }\n",
    "        append(\"</tr>\")\n",
    "    }\n",
    "    append(\"</table>\")\n",
    "\n",
    "    val unassignedLessons = lessonMap.get(Pair(null, null))\n",
    "    if (unassignedLessons != null && unassignedLessons.isNotEmpty()) {\n",
    "        append(\"<p>Unassigned lessons</p>\")\n",
    "        append(\"<ul>\")\n",
    "        for (lesson in unassignedLessons) {\n",
    "            append(\"<li>${lesson.subject} - ${lesson.teacher} - ${lesson.studentGroup}</li>\")\n",
    "        }\n",
    "        append(\"</ul>\")\n",
    "    }\n",
    "})"
   ],
   "metadata": {
    "collapsed": false,
    "ExecuteTime": {
     "end_time": "2024-01-03T05:23:45.327458193Z",
     "start_time": "2024-01-03T05:23:44.143517631Z"
    }
   }
  },
  {
   "cell_type": "markdown",
   "source": [
    "## Analyze the score\n",
    "\n",
    "Let's get the score per constraint:"
   ],
   "metadata": {
    "collapsed": false
   }
  },
  {
   "cell_type": "code",
   "execution_count": 11,
   "outputs": [],
   "source": [
    "import ai.timefold.solver.core.api.solver.SolutionManager\n",
    "\n",
    "val solutionManager = SolutionManager.create(solverFactory)\n",
    "val scoreAnalysis = solutionManager.analyze(solution)"
   ],
   "metadata": {
    "collapsed": false,
    "ExecuteTime": {
     "end_time": "2024-01-03T05:23:45.620605212Z",
     "start_time": "2024-01-03T05:23:45.288388826Z"
    }
   }
  },
  {
   "cell_type": "markdown",
   "source": [
    "And visualize it:"
   ],
   "metadata": {
    "collapsed": false
   }
  },
  {
   "cell_type": "code",
   "execution_count": 12,
   "outputs": [
    {
     "data": {
      "text/html": "<p style='font-size: x-large'>Score: 0hard/9soft</p><ul><li>Teacher time efficiency: 9soft</li><li>Student group subject variety: 0</li><li>Teacher room stability: 0</li><li>Room conflict: 0</li><li>Student group conflict: 0</li><li>Teacher conflict: 0</li></ul>"
     },
     "execution_count": 12,
     "metadata": {},
     "output_type": "execute_result"
    }
   ],
   "source": [
    "HTML(buildString {\n",
    "    append(\"<p style='font-size: x-large'>Score: ${scoreAnalysis.score}</p>\")\n",
    "    append(\"<ul>\")\n",
    "    for (constraint in scoreAnalysis.constraintMap().values) {\n",
    "        append(\"<li>${constraint.constraintRef().constraintName}: ${constraint.score.toShortString()}</li>\")\n",
    "    }\n",
    "    append(\"</ul>\")\n",
    "})"
   ],
   "metadata": {
    "collapsed": false,
    "ExecuteTime": {
     "end_time": "2024-01-03T05:23:46.009212411Z",
     "start_time": "2024-01-03T05:23:45.627076500Z"
    }
   }
  },
  {
   "cell_type": "markdown",
   "source": [
    "## Run statistics\n",
    "\n",
    "For a big dataset, the schedule visualization is too verbose. Let's run some statistics on it:"
   ],
   "metadata": {
    "collapsed": false
   }
  },
  {
   "cell_type": "code",
   "outputs": [
    {
     "data": {
      "text/html": "            <iframe src='about:blank' style='border:none !important;' width='600' height='400' srcdoc=\"&lt;html lang=&quot;en&quot;>\n   &lt;head>\n       &lt;style> html, body { margin: 0; overflow: hidden; } &lt;/style>\n       &lt;script type=&quot;text/javascript&quot; data-lets-plot-script=&quot;library&quot; src=&quot;https://cdn.jsdelivr.net/gh/JetBrains/lets-plot@v4.0.1/js-package/distr/lets-plot.min.js&quot;>&lt;/script>\n   &lt;/head>\n   &lt;body>\n          &lt;div id=&quot;mvKEOe&quot;>&lt;/div>\n   &lt;script type=&quot;text/javascript&quot; data-lets-plot-script=&quot;plot&quot;>\n       var plotSpec={\n&quot;ggtitle&quot;:{\n&quot;text&quot;:&quot;Public Transport Usage in European Cities&quot;\n},\n&quot;mapping&quot;:{\n},\n&quot;data&quot;:{\n&quot;perc&quot;:[45.0,50.0,60.0,40.0,30.0],\n&quot;city&quot;:[&quot;London&quot;,&quot;Paris&quot;,&quot;Berlin&quot;,&quot;Madrid&quot;,&quot;Rome&quot;]\n},\n&quot;kind&quot;:&quot;plot&quot;,\n&quot;scales&quot;:[{\n&quot;aesthetic&quot;:&quot;x&quot;,\n&quot;discrete&quot;:true,\n&quot;name&quot;:&quot;City&quot;\n},{\n&quot;aesthetic&quot;:&quot;y&quot;,\n&quot;name&quot;:&quot;Public Transport Usage (%)&quot;,\n&quot;limits&quot;:[null,null]\n}],\n&quot;layers&quot;:[{\n&quot;mapping&quot;:{\n&quot;x&quot;:&quot;city&quot;,\n&quot;y&quot;:&quot;perc&quot;\n},\n&quot;stat&quot;:&quot;identity&quot;,\n&quot;sampling&quot;:&quot;none&quot;,\n&quot;position&quot;:&quot;dodge&quot;,\n&quot;geom&quot;:&quot;bar&quot;,\n&quot;data&quot;:{\n}\n}]\n};\n       var plotContainer = document.getElementById(&quot;mvKEOe&quot;);\n       LetsPlot.buildPlotFromProcessedSpecs(plotSpec, -1, -1, plotContainer);\n   &lt;/script>\n   &lt;/body>\n&lt;/html>\"></iframe>            \n        <svg id=6257cccc-aa17-4c3f-a4de-e6b987acb23f xmlns=\"http://www.w3.org/2000/svg\" xmlns:xlink=\"http://www.w3.org/1999/xlink\" class=\"plt-container\" width=\"600.0\" height=\"400.0\">\n  <style type=\"text/css\">\n  .plt-container {\n   font-family: Lucida Grande, sans-serif;\n   user-select: none;\n   -webkit-user-select: none;\n   -moz-user-select: none;\n   -ms-user-select: none;\n}\ntext {\n   text-rendering: optimizeLegibility;\n}\n#pSxgTiU .plot-title {\n   fill: #474747;\n   font-family: Lucida Grande, sans-serif;\n   font-size: 16.0px;\n   font-weight: normal;\n   font-style: normal;   \n}\n#pSxgTiU .plot-subtitle {\n   fill: #474747;\n   font-family: Lucida Grande, sans-serif;\n   font-size: 15.0px;\n   font-weight: normal;\n   font-style: normal;   \n}\n#pSxgTiU .plot-caption {\n   fill: #474747;\n   font-family: Lucida Grande, sans-serif;\n   font-size: 13.0px;\n   font-weight: normal;\n   font-style: normal;   \n}\n#pSxgTiU .legend-title {\n   fill: #474747;\n   font-family: Lucida Grande, sans-serif;\n   font-size: 15.0px;\n   font-weight: normal;\n   font-style: normal;   \n}\n#pSxgTiU .legend-item {\n   fill: #474747;\n   font-family: Lucida Grande, sans-serif;\n   font-size: 13.0px;\n   font-weight: normal;\n   font-style: normal;   \n}\n#pSxgTiU .axis-title-x {\n   fill: #474747;\n   font-family: Lucida Grande, sans-serif;\n   font-size: 15.0px;\n   font-weight: normal;\n   font-style: normal;   \n}\n#pSxgTiU .axis-text-x {\n   fill: #474747;\n   font-family: Lucida Grande, sans-serif;\n   font-size: 13.0px;\n   font-weight: normal;\n   font-style: normal;   \n}\n#diekQfQ .axis-tooltip-text-x {\n   fill: #ffffff;\n   font-family: Lucida Grande, sans-serif;\n   font-size: 13.0px;\n   font-weight: normal;\n   font-style: normal;   \n}\n#pSxgTiU .axis-title-y {\n   fill: #474747;\n   font-family: Lucida Grande, sans-serif;\n   font-size: 15.0px;\n   font-weight: normal;\n   font-style: normal;   \n}\n#pSxgTiU .axis-text-y {\n   fill: #474747;\n   font-family: Lucida Grande, sans-serif;\n   font-size: 13.0px;\n   font-weight: normal;\n   font-style: normal;   \n}\n#diekQfQ .axis-tooltip-text-y {\n   fill: #ffffff;\n   font-family: Lucida Grande, sans-serif;\n   font-size: 13.0px;\n   font-weight: normal;\n   font-style: normal;   \n}\n#pSxgTiU .facet-strip-text-x {\n   fill: #474747;\n   font-family: Lucida Grande, sans-serif;\n   font-size: 13.0px;\n   font-weight: normal;\n   font-style: normal;   \n}\n#pSxgTiU .facet-strip-text-y {\n   fill: #474747;\n   font-family: Lucida Grande, sans-serif;\n   font-size: 13.0px;\n   font-weight: normal;\n   font-style: normal;   \n}\n#diekQfQ .tooltip-text {\n   fill: #474747;\n   font-family: Lucida Grande, sans-serif;\n   font-size: 13.0px;\n   font-weight: normal;\n   font-style: normal;   \n}\n#diekQfQ .tooltip-title {\n   fill: #474747;\n   font-family: Lucida Grande, sans-serif;\n   font-size: 13.0px;\n   font-weight: bold;\n   font-style: normal;   \n}\n#diekQfQ .tooltip-label {\n   fill: #474747;\n   font-family: Lucida Grande, sans-serif;\n   font-size: 13.0px;\n   font-weight: bold;\n   font-style: normal;   \n}\n\n  </style>\n  <g id=\"pSxgTiU\">\n    <path fill-rule=\"evenodd\" fill=\"rgb(255,255,255)\" fill-opacity=\"1.0\" d=\"M0.0 0.0 L0.0 400.0 L600.0 400.0 L600.0 0.0 Z\">\n    </path>\n    <g transform=\"translate(23.0 34.0 ) \">\n      <g transform=\"translate(21.961210910936405 320.0 ) \">\n        <line x1=\"66.84437979394175\" y1=\"-0.0\" x2=\"66.84437979394175\" y2=\"-320.0\" stroke=\"rgb(233,233,233)\" stroke-opacity=\"1.0\" stroke-width=\"1.0\">\n        </line>\n        <line x1=\"169.68188716923675\" y1=\"-0.0\" x2=\"169.68188716923675\" y2=\"-320.0\" stroke=\"rgb(233,233,233)\" stroke-opacity=\"1.0\" stroke-width=\"1.0\">\n        </line>\n        <line x1=\"272.5193945445318\" y1=\"-0.0\" x2=\"272.5193945445318\" y2=\"-320.0\" stroke=\"rgb(233,233,233)\" stroke-opacity=\"1.0\" stroke-width=\"1.0\">\n        </line>\n        <line x1=\"375.3569019198268\" y1=\"-0.0\" x2=\"375.3569019198268\" y2=\"-320.0\" stroke=\"rgb(233,233,233)\" stroke-opacity=\"1.0\" stroke-width=\"1.0\">\n        </line>\n        <line x1=\"478.1944092951218\" y1=\"-0.0\" x2=\"478.1944092951218\" y2=\"-320.0\" stroke=\"rgb(233,233,233)\" stroke-opacity=\"1.0\" stroke-width=\"1.0\">\n        </line>\n        <g transform=\"translate(66.84437979394175 0.0 ) \">\n          <line stroke-width=\"1.0\" stroke=\"rgb(71,71,71)\" stroke-opacity=\"1.0\" x2=\"0.0\" y2=\"4.0\">\n          </line>\n          <g transform=\"translate(0.0 7.0 ) \">\n            <text class=\"axis-text-x\" text-anchor=\"middle\" dy=\"0.7em\">\n            London\n            </text>\n          </g>\n        </g>\n        <g transform=\"translate(169.68188716923675 0.0 ) \">\n          <line stroke-width=\"1.0\" stroke=\"rgb(71,71,71)\" stroke-opacity=\"1.0\" x2=\"0.0\" y2=\"4.0\">\n          </line>\n          <g transform=\"translate(0.0 7.0 ) \">\n            <text class=\"axis-text-x\" text-anchor=\"middle\" dy=\"0.7em\">\n            Paris\n            </text>\n          </g>\n        </g>\n        <g transform=\"translate(272.5193945445318 0.0 ) \">\n          <line stroke-width=\"1.0\" stroke=\"rgb(71,71,71)\" stroke-opacity=\"1.0\" x2=\"0.0\" y2=\"4.0\">\n          </line>\n          <g transform=\"translate(0.0 7.0 ) \">\n            <text class=\"axis-text-x\" text-anchor=\"middle\" dy=\"0.7em\">\n            Berlin\n            </text>\n          </g>\n        </g>\n        <g transform=\"translate(375.3569019198268 0.0 ) \">\n          <line stroke-width=\"1.0\" stroke=\"rgb(71,71,71)\" stroke-opacity=\"1.0\" x2=\"0.0\" y2=\"4.0\">\n          </line>\n          <g transform=\"translate(0.0 7.0 ) \">\n            <text class=\"axis-text-x\" text-anchor=\"middle\" dy=\"0.7em\">\n            Madrid\n            </text>\n          </g>\n        </g>\n        <g transform=\"translate(478.1944092951218 0.0 ) \">\n          <line stroke-width=\"1.0\" stroke=\"rgb(71,71,71)\" stroke-opacity=\"1.0\" x2=\"0.0\" y2=\"4.0\">\n          </line>\n          <g transform=\"translate(0.0 7.0 ) \">\n            <text class=\"axis-text-x\" text-anchor=\"middle\" dy=\"0.7em\">\n            Rome\n            </text>\n          </g>\n        </g>\n        <line x1=\"0.0\" y1=\"0.0\" x2=\"545.0387890890636\" y2=\"0.0\" stroke-width=\"1.0\" stroke=\"rgb(71,71,71)\" stroke-opacity=\"1.0\">\n        </line>\n      </g>\n      <g transform=\"translate(21.961210910936405 0.0 ) \">\n        <line x1=\"0.0\" y1=\"269.2063492063492\" x2=\"545.0387890890636\" y2=\"269.2063492063492\" stroke=\"rgb(233,233,233)\" stroke-opacity=\"1.0\" stroke-width=\"1.0\">\n        </line>\n        <line x1=\"0.0\" y1=\"218.41269841269843\" x2=\"545.0387890890636\" y2=\"218.41269841269843\" stroke=\"rgb(233,233,233)\" stroke-opacity=\"1.0\" stroke-width=\"1.0\">\n        </line>\n        <line x1=\"0.0\" y1=\"167.61904761904762\" x2=\"545.0387890890636\" y2=\"167.61904761904762\" stroke=\"rgb(233,233,233)\" stroke-opacity=\"1.0\" stroke-width=\"1.0\">\n        </line>\n        <line x1=\"0.0\" y1=\"116.82539682539684\" x2=\"545.0387890890636\" y2=\"116.82539682539684\" stroke=\"rgb(233,233,233)\" stroke-opacity=\"1.0\" stroke-width=\"1.0\">\n        </line>\n        <line x1=\"0.0\" y1=\"66.03174603174605\" x2=\"545.0387890890636\" y2=\"66.03174603174605\" stroke=\"rgb(233,233,233)\" stroke-opacity=\"1.0\" stroke-width=\"1.0\">\n        </line>\n        <line x1=\"0.0\" y1=\"15.23809523809524\" x2=\"545.0387890890636\" y2=\"15.23809523809524\" stroke=\"rgb(233,233,233)\" stroke-opacity=\"1.0\" stroke-width=\"1.0\">\n        </line>\n        <g transform=\"translate(0.0 320.0 ) \">\n          <g transform=\"translate(-3.0 0.0 ) \">\n            <text class=\"axis-text-y\" text-anchor=\"end\" dy=\"0.35em\">\n            0\n            </text>\n          </g>\n        </g>\n        <g transform=\"translate(0.0 269.2063492063492 ) \">\n          <g transform=\"translate(-3.0 0.0 ) \">\n            <text class=\"axis-text-y\" text-anchor=\"end\" dy=\"0.35em\">\n            10\n            </text>\n          </g>\n        </g>\n        <g transform=\"translate(0.0 218.41269841269843 ) \">\n          <g transform=\"translate(-3.0 0.0 ) \">\n            <text class=\"axis-text-y\" text-anchor=\"end\" dy=\"0.35em\">\n            20\n            </text>\n          </g>\n        </g>\n        <g transform=\"translate(0.0 167.61904761904762 ) \">\n          <g transform=\"translate(-3.0 0.0 ) \">\n            <text class=\"axis-text-y\" text-anchor=\"end\" dy=\"0.35em\">\n            30\n            </text>\n          </g>\n        </g>\n        <g transform=\"translate(0.0 116.82539682539684 ) \">\n          <g transform=\"translate(-3.0 0.0 ) \">\n            <text class=\"axis-text-y\" text-anchor=\"end\" dy=\"0.35em\">\n            40\n            </text>\n          </g>\n        </g>\n        <g transform=\"translate(0.0 66.03174603174605 ) \">\n          <g transform=\"translate(-3.0 0.0 ) \">\n            <text class=\"axis-text-y\" text-anchor=\"end\" dy=\"0.35em\">\n            50\n            </text>\n          </g>\n        </g>\n        <g transform=\"translate(0.0 15.23809523809524 ) \">\n          <g transform=\"translate(-3.0 0.0 ) \">\n            <text class=\"axis-text-y\" text-anchor=\"end\" dy=\"0.35em\">\n            60\n            </text>\n          </g>\n        </g>\n      </g>\n      <g transform=\"translate(21.961210910936405 0.0 ) \" clip-path=\"url(#cM17Ztj)\" clip-bounds-jfx=\"[rect (0.0, 0.0), (545.0387890890636, 320.0)]\">\n        <defs>\n          <clipPath id=\"cM17Ztj\">\n            <rect x=\"0.0\" y=\"0.0\" width=\"545.0387890890636\" height=\"320.0\">\n            </rect>\n          </clipPath>\n        </defs>\n        <rect x=\"431.917530976239\" y=\"167.61904761904762\" height=\"152.38095238095238\" width=\"92.5537566377655\" stroke=\"rgb(255,255,255)\" stroke-opacity=\"1.0\" fill=\"rgb(17,142,216)\" fill-opacity=\"1.0\" stroke-width=\"1.6500000000000001\">\n        </rect>\n        <rect x=\"329.080023600944\" y=\"116.82539682539684\" height=\"203.17460317460316\" width=\"92.5537566377655\" stroke=\"rgb(255,255,255)\" stroke-opacity=\"1.0\" fill=\"rgb(17,142,216)\" fill-opacity=\"1.0\" stroke-width=\"1.6500000000000001\">\n        </rect>\n        <rect x=\"226.242516225649\" y=\"15.23809523809524\" height=\"304.76190476190476\" width=\"92.5537566377655\" stroke=\"rgb(255,255,255)\" stroke-opacity=\"1.0\" fill=\"rgb(17,142,216)\" fill-opacity=\"1.0\" stroke-width=\"1.6500000000000001\">\n        </rect>\n        <rect x=\"123.40500885035402\" y=\"66.03174603174605\" height=\"253.96825396825395\" width=\"92.5537566377655\" stroke=\"rgb(255,255,255)\" stroke-opacity=\"1.0\" fill=\"rgb(17,142,216)\" fill-opacity=\"1.0\" stroke-width=\"1.6500000000000001\">\n        </rect>\n        <rect x=\"20.567501475059004\" y=\"91.42857142857144\" height=\"228.57142857142856\" width=\"92.5537566377655\" stroke=\"rgb(255,255,255)\" stroke-opacity=\"1.0\" fill=\"rgb(17,142,216)\" fill-opacity=\"1.0\" stroke-width=\"1.6500000000000001\">\n        </rect>\n      </g>\n    </g>\n    <g transform=\"translate(44.9612109109364 15.2 ) \">\n      <text class=\"plot-title\" y=\"0.0\">\n      Public Transport Usage in European Cities\n      </text>\n    </g>\n    <g transform=\"translate(14.5 194.0 ) rotate(-90.0 ) \">\n      <text class=\"axis-title-y\" y=\"0.0\" text-anchor=\"middle\">\n      Public Transport Usage (%)\n      </text>\n    </g>\n    <g transform=\"translate(317.4806054554682 391.5 ) \">\n      <text class=\"axis-title-x\" y=\"0.0\" text-anchor=\"middle\">\n      City\n      </text>\n    </g>\n    <path fill=\"rgb(0,0,0)\" fill-opacity=\"0.0\" stroke=\"rgb(71,71,71)\" stroke-opacity=\"1.0\" stroke-width=\"0.0\" d=\"M0.0 0.0 L0.0 400.0 L600.0 400.0 L600.0 0.0 Z\">\n    </path>\n  </g>\n  <g id=\"diekQfQ\">\n  </g>\n</svg>\n        <script>document.getElementById(\"6257cccc-aa17-4c3f-a4de-e6b987acb23f\").style.display = \"none\";</script>",
      "application/plot+json": {
       "output_type": "lets_plot_spec",
       "output": {
        "ggtitle": {
         "text": "Public Transport Usage in European Cities"
        },
        "mapping": {},
        "data": {
         "perc": [
          45.0,
          50.0,
          60.0,
          40.0,
          30.0
         ],
         "city": [
          "London",
          "Paris",
          "Berlin",
          "Madrid",
          "Rome"
         ]
        },
        "kind": "plot",
        "scales": [
         {
          "aesthetic": "x",
          "discrete": true,
          "name": "City"
         },
         {
          "aesthetic": "y",
          "name": "Public Transport Usage (%)",
          "limits": [
           null,
           null
          ]
         }
        ],
        "layers": [
         {
          "mapping": {
           "x": "city",
           "y": "perc"
          },
          "stat": "identity",
          "sampling": "none",
          "position": "dodge",
          "geom": "bar"
         }
        ]
       },
       "apply_color_scheme": true,
       "swing_enabled": true
      }
     },
     "execution_count": 26,
     "metadata": {},
     "output_type": "execute_result"
    }
   ],
   "source": [
    "%use kandy"
   ],
   "metadata": {
    "collapsed": false,
    "ExecuteTime": {
     "end_time": "2024-01-03T05:38:35.270208009Z",
     "start_time": "2024-01-03T05:38:32.915185622Z"
    }
   },
   "execution_count": 26
  },
  {
   "cell_type": "code",
   "outputs": [
    {
     "data": {
      "text/html": "            <iframe src='about:blank' style='border:none !important;' width='600' height='400' srcdoc=\"&lt;html lang=&quot;en&quot;>\n   &lt;head>\n       &lt;style> html, body { margin: 0; overflow: hidden; } &lt;/style>\n       &lt;script type=&quot;text/javascript&quot; data-lets-plot-script=&quot;library&quot; src=&quot;https://cdn.jsdelivr.net/gh/JetBrains/lets-plot@v4.0.1/js-package/distr/lets-plot.min.js&quot;>&lt;/script>\n   &lt;/head>\n   &lt;body>\n          &lt;div id=&quot;GUS2YN&quot;>&lt;/div>\n   &lt;script type=&quot;text/javascript&quot; data-lets-plot-script=&quot;plot&quot;>\n       var plotSpec={\n&quot;ggtitle&quot;:{\n&quot;text&quot;:&quot;Lessons per teacher per weekday&quot;\n},\n&quot;mapping&quot;:{\n},\n&quot;data&quot;:{\n},\n&quot;kind&quot;:&quot;plot&quot;,\n&quot;scales&quot;:[{\n&quot;aesthetic&quot;:&quot;y&quot;,\n&quot;discrete&quot;:true\n},{\n&quot;aesthetic&quot;:&quot;x&quot;,\n&quot;limits&quot;:[null,null]\n},{\n&quot;aesthetic&quot;:&quot;fill&quot;,\n&quot;scale_mapper_kind&quot;:&quot;color_hue&quot;\n}],\n&quot;layers&quot;:[{\n&quot;mapping&quot;:{\n&quot;y&quot;:&quot;Teacher&quot;,\n&quot;x&quot;:&quot;Lessons&quot;,\n&quot;fill&quot;:&quot;Weekday&quot;,\n&quot;group&quot;:&quot;&amp;merged_groups&quot;\n},\n&quot;stat&quot;:&quot;identity&quot;,\n&quot;orientation&quot;:&quot;y&quot;,\n&quot;data&quot;:{\n&quot;Weekday&quot;:[&quot;MONDAY&quot;,&quot;MONDAY&quot;,&quot;MONDAY&quot;,&quot;MONDAY&quot;,&quot;MONDAY&quot;,&quot;TUESDAY&quot;,&quot;TUESDAY&quot;,&quot;TUESDAY&quot;,&quot;TUESDAY&quot;,&quot;TUESDAY&quot;],\n&quot;&amp;merged_groups&quot;:[&quot;MONDAY&quot;,&quot;MONDAY&quot;,&quot;MONDAY&quot;,&quot;MONDAY&quot;,&quot;MONDAY&quot;,&quot;TUESDAY&quot;,&quot;TUESDAY&quot;,&quot;TUESDAY&quot;,&quot;TUESDAY&quot;,&quot;TUESDAY&quot;],\n&quot;Lessons&quot;:[2.0,2.0,0.0,2.0,4.0,3.0,3.0,2.0,2.0,0.0],\n&quot;Teacher&quot;:[&quot;A. Turing&quot;,&quot;M. Curie&quot;,&quot;C. Darwin&quot;,&quot;I. Jones&quot;,&quot;P. Cruz&quot;,&quot;A. Turing&quot;,&quot;M. Curie&quot;,&quot;C. Darwin&quot;,&quot;I. Jones&quot;,&quot;P. Cruz&quot;]\n},\n&quot;sampling&quot;:&quot;none&quot;,\n&quot;position&quot;:&quot;stack&quot;,\n&quot;geom&quot;:&quot;bar&quot;\n}]\n};\n       var plotContainer = document.getElementById(&quot;GUS2YN&quot;);\n       LetsPlot.buildPlotFromProcessedSpecs(plotSpec, -1, -1, plotContainer);\n   &lt;/script>\n   &lt;/body>\n&lt;/html>\"></iframe>            \n        <svg id=ac2856cd-c05f-48e5-9d05-e23f74dc25fa xmlns=\"http://www.w3.org/2000/svg\" xmlns:xlink=\"http://www.w3.org/1999/xlink\" class=\"plt-container\" width=\"600.0\" height=\"400.0\">\n  <style type=\"text/css\">\n  .plt-container {\n   font-family: Lucida Grande, sans-serif;\n   user-select: none;\n   -webkit-user-select: none;\n   -moz-user-select: none;\n   -ms-user-select: none;\n}\ntext {\n   text-rendering: optimizeLegibility;\n}\n#p5IKvwA .plot-title {\n   fill: #474747;\n   font-family: Lucida Grande, sans-serif;\n   font-size: 16.0px;\n   font-weight: normal;\n   font-style: normal;   \n}\n#p5IKvwA .plot-subtitle {\n   fill: #474747;\n   font-family: Lucida Grande, sans-serif;\n   font-size: 15.0px;\n   font-weight: normal;\n   font-style: normal;   \n}\n#p5IKvwA .plot-caption {\n   fill: #474747;\n   font-family: Lucida Grande, sans-serif;\n   font-size: 13.0px;\n   font-weight: normal;\n   font-style: normal;   \n}\n#p5IKvwA .legend-title {\n   fill: #474747;\n   font-family: Lucida Grande, sans-serif;\n   font-size: 15.0px;\n   font-weight: normal;\n   font-style: normal;   \n}\n#p5IKvwA .legend-item {\n   fill: #474747;\n   font-family: Lucida Grande, sans-serif;\n   font-size: 13.0px;\n   font-weight: normal;\n   font-style: normal;   \n}\n#p5IKvwA .axis-title-x {\n   fill: #474747;\n   font-family: Lucida Grande, sans-serif;\n   font-size: 15.0px;\n   font-weight: normal;\n   font-style: normal;   \n}\n#p5IKvwA .axis-text-x {\n   fill: #474747;\n   font-family: Lucida Grande, sans-serif;\n   font-size: 13.0px;\n   font-weight: normal;\n   font-style: normal;   \n}\n#dQHYZNV .axis-tooltip-text-x {\n   fill: #ffffff;\n   font-family: Lucida Grande, sans-serif;\n   font-size: 13.0px;\n   font-weight: normal;\n   font-style: normal;   \n}\n#p5IKvwA .axis-title-y {\n   fill: #474747;\n   font-family: Lucida Grande, sans-serif;\n   font-size: 15.0px;\n   font-weight: normal;\n   font-style: normal;   \n}\n#p5IKvwA .axis-text-y {\n   fill: #474747;\n   font-family: Lucida Grande, sans-serif;\n   font-size: 13.0px;\n   font-weight: normal;\n   font-style: normal;   \n}\n#dQHYZNV .axis-tooltip-text-y {\n   fill: #ffffff;\n   font-family: Lucida Grande, sans-serif;\n   font-size: 13.0px;\n   font-weight: normal;\n   font-style: normal;   \n}\n#p5IKvwA .facet-strip-text-x {\n   fill: #474747;\n   font-family: Lucida Grande, sans-serif;\n   font-size: 13.0px;\n   font-weight: normal;\n   font-style: normal;   \n}\n#p5IKvwA .facet-strip-text-y {\n   fill: #474747;\n   font-family: Lucida Grande, sans-serif;\n   font-size: 13.0px;\n   font-weight: normal;\n   font-style: normal;   \n}\n#dQHYZNV .tooltip-text {\n   fill: #474747;\n   font-family: Lucida Grande, sans-serif;\n   font-size: 13.0px;\n   font-weight: normal;\n   font-style: normal;   \n}\n#dQHYZNV .tooltip-title {\n   fill: #474747;\n   font-family: Lucida Grande, sans-serif;\n   font-size: 13.0px;\n   font-weight: bold;\n   font-style: normal;   \n}\n#dQHYZNV .tooltip-label {\n   fill: #474747;\n   font-family: Lucida Grande, sans-serif;\n   font-size: 13.0px;\n   font-weight: bold;\n   font-style: normal;   \n}\n\n  </style>\n  <g id=\"p5IKvwA\">\n    <path fill-rule=\"evenodd\" fill=\"rgb(255,255,255)\" fill-opacity=\"1.0\" d=\"M0.0 0.0 L0.0 400.0 L600.0 400.0 L600.0 0.0 Z\">\n    </path>\n    <g transform=\"translate(23.0 34.0 ) \">\n      <g transform=\"translate(74.83369294583221 320.0 ) \">\n        <line x1=\"71.3762197697082\" y1=\"-0.0\" x2=\"71.3762197697082\" y2=\"-320.0\" stroke=\"rgb(233,233,233)\" stroke-opacity=\"1.0\" stroke-width=\"1.0\">\n        </line>\n        <line x1=\"142.7524395394164\" y1=\"-0.0\" x2=\"142.7524395394164\" y2=\"-320.0\" stroke=\"rgb(233,233,233)\" stroke-opacity=\"1.0\" stroke-width=\"1.0\">\n        </line>\n        <line x1=\"214.1286593091246\" y1=\"-0.0\" x2=\"214.1286593091246\" y2=\"-320.0\" stroke=\"rgb(233,233,233)\" stroke-opacity=\"1.0\" stroke-width=\"1.0\">\n        </line>\n        <line x1=\"285.5048790788328\" y1=\"-0.0\" x2=\"285.5048790788328\" y2=\"-320.0\" stroke=\"rgb(233,233,233)\" stroke-opacity=\"1.0\" stroke-width=\"1.0\">\n        </line>\n        <line x1=\"356.881098848541\" y1=\"-0.0\" x2=\"356.881098848541\" y2=\"-320.0\" stroke=\"rgb(233,233,233)\" stroke-opacity=\"1.0\" stroke-width=\"1.0\">\n        </line>\n        <g transform=\"translate(0.0 0.0 ) \">\n          <line stroke-width=\"1.0\" stroke=\"rgb(71,71,71)\" stroke-opacity=\"1.0\" x2=\"0.0\" y2=\"4.0\">\n          </line>\n          <g transform=\"translate(0.0 7.0 ) \">\n            <text class=\"axis-text-x\" text-anchor=\"middle\" dy=\"0.7em\">\n            0\n            </text>\n          </g>\n        </g>\n        <g transform=\"translate(71.3762197697082 0.0 ) \">\n          <line stroke-width=\"1.0\" stroke=\"rgb(71,71,71)\" stroke-opacity=\"1.0\" x2=\"0.0\" y2=\"4.0\">\n          </line>\n          <g transform=\"translate(0.0 7.0 ) \">\n            <text class=\"axis-text-x\" text-anchor=\"middle\" dy=\"0.7em\">\n            1\n            </text>\n          </g>\n        </g>\n        <g transform=\"translate(142.7524395394164 0.0 ) \">\n          <line stroke-width=\"1.0\" stroke=\"rgb(71,71,71)\" stroke-opacity=\"1.0\" x2=\"0.0\" y2=\"4.0\">\n          </line>\n          <g transform=\"translate(0.0 7.0 ) \">\n            <text class=\"axis-text-x\" text-anchor=\"middle\" dy=\"0.7em\">\n            2\n            </text>\n          </g>\n        </g>\n        <g transform=\"translate(214.1286593091246 0.0 ) \">\n          <line stroke-width=\"1.0\" stroke=\"rgb(71,71,71)\" stroke-opacity=\"1.0\" x2=\"0.0\" y2=\"4.0\">\n          </line>\n          <g transform=\"translate(0.0 7.0 ) \">\n            <text class=\"axis-text-x\" text-anchor=\"middle\" dy=\"0.7em\">\n            3\n            </text>\n          </g>\n        </g>\n        <g transform=\"translate(285.5048790788328 0.0 ) \">\n          <line stroke-width=\"1.0\" stroke=\"rgb(71,71,71)\" stroke-opacity=\"1.0\" x2=\"0.0\" y2=\"4.0\">\n          </line>\n          <g transform=\"translate(0.0 7.0 ) \">\n            <text class=\"axis-text-x\" text-anchor=\"middle\" dy=\"0.7em\">\n            4\n            </text>\n          </g>\n        </g>\n        <g transform=\"translate(356.881098848541 0.0 ) \">\n          <line stroke-width=\"1.0\" stroke=\"rgb(71,71,71)\" stroke-opacity=\"1.0\" x2=\"0.0\" y2=\"4.0\">\n          </line>\n          <g transform=\"translate(0.0 7.0 ) \">\n            <text class=\"axis-text-x\" text-anchor=\"middle\" dy=\"0.7em\">\n            5\n            </text>\n          </g>\n        </g>\n        <line x1=\"0.0\" y1=\"0.0\" x2=\"374.7251537909681\" y2=\"0.0\" stroke-width=\"1.0\" stroke=\"rgb(71,71,71)\" stroke-opacity=\"1.0\">\n        </line>\n      </g>\n      <g transform=\"translate(74.83369294583221 0.0 ) \">\n        <line x1=\"0.0\" y1=\"280.7547169811321\" x2=\"374.7251537909681\" y2=\"280.7547169811321\" stroke=\"rgb(233,233,233)\" stroke-opacity=\"1.0\" stroke-width=\"1.0\">\n        </line>\n        <line x1=\"0.0\" y1=\"220.37735849056608\" x2=\"374.7251537909681\" y2=\"220.37735849056608\" stroke=\"rgb(233,233,233)\" stroke-opacity=\"1.0\" stroke-width=\"1.0\">\n        </line>\n        <line x1=\"0.0\" y1=\"160.00000000000006\" x2=\"374.7251537909681\" y2=\"160.00000000000006\" stroke=\"rgb(233,233,233)\" stroke-opacity=\"1.0\" stroke-width=\"1.0\">\n        </line>\n        <line x1=\"0.0\" y1=\"99.622641509434\" x2=\"374.7251537909681\" y2=\"99.622641509434\" stroke=\"rgb(233,233,233)\" stroke-opacity=\"1.0\" stroke-width=\"1.0\">\n        </line>\n        <line x1=\"0.0\" y1=\"39.24528301886798\" x2=\"374.7251537909681\" y2=\"39.24528301886798\" stroke=\"rgb(233,233,233)\" stroke-opacity=\"1.0\" stroke-width=\"1.0\">\n        </line>\n        <g transform=\"translate(0.0 280.7547169811321 ) \">\n          <g transform=\"translate(-3.0 0.0 ) \">\n            <text class=\"axis-text-y\" text-anchor=\"end\" dy=\"0.35em\">\n            A. Turing\n            </text>\n          </g>\n        </g>\n        <g transform=\"translate(0.0 220.37735849056608 ) \">\n          <g transform=\"translate(-3.0 0.0 ) \">\n            <text class=\"axis-text-y\" text-anchor=\"end\" dy=\"0.35em\">\n            M. Curie\n            </text>\n          </g>\n        </g>\n        <g transform=\"translate(0.0 160.00000000000006 ) \">\n          <g transform=\"translate(-3.0 0.0 ) \">\n            <text class=\"axis-text-y\" text-anchor=\"end\" dy=\"0.35em\">\n            C. Darwin\n            </text>\n          </g>\n        </g>\n        <g transform=\"translate(0.0 99.622641509434 ) \">\n          <g transform=\"translate(-3.0 0.0 ) \">\n            <text class=\"axis-text-y\" text-anchor=\"end\" dy=\"0.35em\">\n            I. Jones\n            </text>\n          </g>\n        </g>\n        <g transform=\"translate(0.0 39.24528301886798 ) \">\n          <g transform=\"translate(-3.0 0.0 ) \">\n            <text class=\"axis-text-y\" text-anchor=\"end\" dy=\"0.35em\">\n            P. Cruz\n            </text>\n          </g>\n        </g>\n      </g>\n      <g transform=\"translate(74.83369294583221 0.0 ) \" clip-path=\"url(#cLfGyal)\" clip-bounds-jfx=\"[rect (0.0, 0.0), (374.7251537909681, 320.0)]\">\n        <defs>\n          <clipPath id=\"cLfGyal\">\n            <rect x=\"0.0\" y=\"0.0\" width=\"374.7251537909681\" height=\"320.0\">\n            </rect>\n          </clipPath>\n        </defs>\n        <rect x=\"285.5048790788328\" y=\"11.075471698113233\" height=\"56.339622641509465\" width=\"0.10000000000002274\" stroke=\"rgb(255,255,255)\" stroke-opacity=\"1.0\" fill=\"rgb(201,115,230)\" fill-opacity=\"1.0\" stroke-width=\"1.6500000000000001\">\n        </rect>\n        <rect x=\"142.7524395394164\" y=\"72.45283018867931\" height=\"54.33962264150941\" width=\"142.7524395394164\" stroke=\"rgb(255,255,255)\" stroke-opacity=\"1.0\" fill=\"rgb(201,115,230)\" fill-opacity=\"1.0\" stroke-width=\"1.6500000000000001\">\n        </rect>\n        <rect x=\"0.0\" y=\"132.8301886792453\" height=\"54.339622641509465\" width=\"142.7524395394164\" stroke=\"rgb(255,255,255)\" stroke-opacity=\"1.0\" fill=\"rgb(201,115,230)\" fill-opacity=\"1.0\" stroke-width=\"1.6500000000000001\">\n        </rect>\n        <rect x=\"142.7524395394164\" y=\"193.20754716981133\" height=\"54.339622641509436\" width=\"214.1286593091246\" stroke=\"rgb(255,255,255)\" stroke-opacity=\"1.0\" fill=\"rgb(201,115,230)\" fill-opacity=\"1.0\" stroke-width=\"1.6500000000000001\">\n        </rect>\n        <rect x=\"142.7524395394164\" y=\"253.5849056603774\" height=\"54.339622641509436\" width=\"214.1286593091246\" stroke=\"rgb(255,255,255)\" stroke-opacity=\"1.0\" fill=\"rgb(201,115,230)\" fill-opacity=\"1.0\" stroke-width=\"1.6500000000000001\">\n        </rect>\n        <rect x=\"0.0\" y=\"12.075471698113233\" height=\"54.339622641509465\" width=\"285.5048790788328\" stroke=\"rgb(255,255,255)\" stroke-opacity=\"1.0\" fill=\"rgb(143,230,115)\" fill-opacity=\"1.0\" stroke-width=\"1.6500000000000001\">\n        </rect>\n        <rect x=\"0.0\" y=\"72.45283018867931\" height=\"54.33962264150941\" width=\"142.7524395394164\" stroke=\"rgb(255,255,255)\" stroke-opacity=\"1.0\" fill=\"rgb(143,230,115)\" fill-opacity=\"1.0\" stroke-width=\"1.6500000000000001\">\n        </rect>\n        <rect x=\"0.0\" y=\"131.8301886792453\" height=\"56.339622641509465\" width=\"0.1\" stroke=\"rgb(255,255,255)\" stroke-opacity=\"1.0\" fill=\"rgb(143,230,115)\" fill-opacity=\"1.0\" stroke-width=\"1.6500000000000001\">\n        </rect>\n        <rect x=\"0.0\" y=\"193.20754716981133\" height=\"54.339622641509436\" width=\"142.7524395394164\" stroke=\"rgb(255,255,255)\" stroke-opacity=\"1.0\" fill=\"rgb(143,230,115)\" fill-opacity=\"1.0\" stroke-width=\"1.6500000000000001\">\n        </rect>\n        <rect x=\"0.0\" y=\"253.5849056603774\" height=\"54.339622641509436\" width=\"142.7524395394164\" stroke=\"rgb(255,255,255)\" stroke-opacity=\"1.0\" fill=\"rgb(143,230,115)\" fill-opacity=\"1.0\" stroke-width=\"1.6500000000000001\">\n        </rect>\n      </g>\n    </g>\n    <g transform=\"translate(97.83369294583221 15.2 ) \">\n      <text class=\"plot-title\" y=\"0.0\">\n      Lessons per teacher per weekday\n      </text>\n    </g>\n    <g transform=\"translate(14.5 194.0 ) rotate(-90.0 ) \">\n      <text class=\"axis-title-y\" y=\"0.0\" text-anchor=\"middle\">\n      Teacher\n      </text>\n    </g>\n    <g transform=\"translate(285.1962698413163 391.5 ) \">\n      <text class=\"axis-title-x\" y=\"0.0\" text-anchor=\"middle\">\n      Lessons\n      </text>\n    </g>\n    <g transform=\"translate(482.55884673680026 149.75 ) \">\n      <rect x=\"5.0\" y=\"5.0\" height=\"78.5\" width=\"107.44115326319974\" stroke=\"rgb(71,71,71)\" stroke-opacity=\"1.0\" stroke-width=\"0.0\" fill=\"rgb(255,255,255)\" fill-opacity=\"1.0\">\n      </rect>\n      <g transform=\"translate(10.0 10.0 ) \">\n        <g transform=\"translate(0.0 10.5 ) \">\n          <text class=\"legend-title\" y=\"0.0\">\n          Weekday\n          </text>\n        </g>\n        <g transform=\"translate(0.0 22.5 ) \">\n          <g transform=\"\">\n            <g>\n              <rect x=\"0.0\" y=\"0.0\" height=\"23.0\" width=\"23.0\" stroke-width=\"0.0\" fill=\"rgb(255,255,255)\" fill-opacity=\"1.0\">\n              </rect>\n              <g transform=\"translate(1.0 1.0 ) \">\n                <g>\n                  <rect x=\"0.0\" y=\"0.0\" height=\"21.0\" width=\"21.0\" stroke=\"rgb(255,255,255)\" stroke-opacity=\"1.0\" fill=\"rgb(143,230,115)\" fill-opacity=\"1.0\" stroke-width=\"1.5\">\n                  </rect>\n                </g>\n              </g>\n              <rect x=\"0.0\" y=\"0.0\" height=\"23.0\" width=\"23.0\" stroke=\"rgb(255,255,255)\" stroke-opacity=\"1.0\" stroke-width=\"1.0\" fill-opacity=\"0.0\">\n              </rect>\n            </g>\n            <g transform=\"translate(26.9903027277341 16.05 ) \">\n              <text class=\"legend-item\" y=\"0.0\">\n              MONDAY\n              </text>\n            </g>\n          </g>\n          <g transform=\"translate(0.0 23.0 ) \">\n            <g>\n              <rect x=\"0.0\" y=\"0.0\" height=\"23.0\" width=\"23.0\" stroke-width=\"0.0\" fill=\"rgb(255,255,255)\" fill-opacity=\"1.0\">\n              </rect>\n              <g transform=\"translate(1.0 1.0 ) \">\n                <g>\n                  <rect x=\"0.0\" y=\"0.0\" height=\"21.0\" width=\"21.0\" stroke=\"rgb(255,255,255)\" stroke-opacity=\"1.0\" fill=\"rgb(201,115,230)\" fill-opacity=\"1.0\" stroke-width=\"1.5\">\n                  </rect>\n                </g>\n              </g>\n              <rect x=\"0.0\" y=\"0.0\" height=\"23.0\" width=\"23.0\" stroke=\"rgb(255,255,255)\" stroke-opacity=\"1.0\" stroke-width=\"1.0\" fill-opacity=\"0.0\">\n              </rect>\n            </g>\n            <g transform=\"translate(26.9903027277341 16.05 ) \">\n              <text class=\"legend-item\" y=\"0.0\">\n              TUESDAY\n              </text>\n            </g>\n          </g>\n        </g>\n      </g>\n    </g>\n    <path fill=\"rgb(0,0,0)\" fill-opacity=\"0.0\" stroke=\"rgb(71,71,71)\" stroke-opacity=\"1.0\" stroke-width=\"0.0\" d=\"M0.0 0.0 L0.0 400.0 L600.0 400.0 L600.0 0.0 Z\">\n    </path>\n  </g>\n  <g id=\"dQHYZNV\">\n  </g>\n</svg>\n        <script>document.getElementById(\"ac2856cd-c05f-48e5-9d05-e23f74dc25fa\").style.display = \"none\";</script>",
      "application/plot+json": {
       "output_type": "lets_plot_spec",
       "output": {
        "ggtitle": {
         "text": "Lessons per teacher per weekday"
        },
        "mapping": {},
        "data": {},
        "kind": "plot",
        "scales": [
         {
          "aesthetic": "y",
          "discrete": true
         },
         {
          "aesthetic": "x",
          "limits": [
           null,
           null
          ]
         },
         {
          "aesthetic": "fill",
          "scale_mapper_kind": "color_hue"
         }
        ],
        "layers": [
         {
          "mapping": {
           "y": "Teacher",
           "x": "Lessons",
           "fill": "Weekday",
           "group": "&merged_groups"
          },
          "stat": "identity",
          "orientation": "y",
          "data": {
           "Weekday": [
            "MONDAY",
            "MONDAY",
            "MONDAY",
            "MONDAY",
            "MONDAY",
            "TUESDAY",
            "TUESDAY",
            "TUESDAY",
            "TUESDAY",
            "TUESDAY"
           ],
           "&merged_groups": [
            "MONDAY",
            "MONDAY",
            "MONDAY",
            "MONDAY",
            "MONDAY",
            "TUESDAY",
            "TUESDAY",
            "TUESDAY",
            "TUESDAY",
            "TUESDAY"
           ],
           "Lessons": [
            2.0,
            2.0,
            0.0,
            2.0,
            4.0,
            3.0,
            3.0,
            2.0,
            2.0,
            0.0
           ],
           "Teacher": [
            "A. Turing",
            "M. Curie",
            "C. Darwin",
            "I. Jones",
            "P. Cruz",
            "A. Turing",
            "M. Curie",
            "C. Darwin",
            "I. Jones",
            "P. Cruz"
           ]
          },
          "sampling": "none",
          "position": "stack",
          "geom": "bar"
         }
        ]
       },
       "apply_color_scheme": true,
       "swing_enabled": true
      }
     },
     "execution_count": 52,
     "metadata": {},
     "output_type": "execute_result"
    }
   ],
   "source": [
    "val teacherToLessonsMap = solution.lessons.groupBy {it.teacher}\n",
    "val teachers = teacherToLessonsMap.keys.distinct()\n",
    "val dayOfWeeks = listOf(DayOfWeek.MONDAY, DayOfWeek.TUESDAY)\n",
    "val lessonCounts = dayOfWeeks.flatMap { dayOfWeek ->\n",
    "    teachers.map { teacher ->\n",
    "        (teacherToLessonsMap[teacher] ?: emptyList())\n",
    "            .count { it.timeslot?.dayOfWeek == dayOfWeek }\n",
    "    }\n",
    "}\n",
    "\n",
    "val dataset = mapOf(\n",
    "    \"Teacher\" to teachers + teachers,\n",
    "    \"Lessons\" to lessonCounts,\n",
    "    \"Weekday\" to List(teachers.size) { DayOfWeek.MONDAY } + List(teachers.size) { DayOfWeek.TUESDAY }\n",
    ")\n",
    "\n",
    "dataset.plot {\n",
    "    layout.title = \"Lessons per teacher per weekday\"\n",
    "    groupBy(\"Weekday\") {\n",
    "        barsH {\n",
    "            y(\"Teacher\")\n",
    "            x(\"Lessons\")\n",
    "            fillColor(\"Weekday\") {\n",
    "                scale = categoricalColorHue()\n",
    "            }\n",
    "            position = Position.stack()\n",
    "        }\n",
    "    }\n",
    "}"
   ],
   "metadata": {
    "collapsed": false,
    "ExecuteTime": {
     "end_time": "2024-01-03T06:34:48.109113332Z",
     "start_time": "2024-01-03T06:34:47.734746583Z"
    }
   },
   "execution_count": 52
  },
  {
   "cell_type": "markdown",
   "source": [
    "## Conclusion\n",
    "\n",
    "To learn more, visit [timefold.ai](https://timefold.ai)."
   ],
   "metadata": {
    "collapsed": false
   }
  }
 ],
 "metadata": {
  "kernelspec": {
   "display_name": "Kotlin",
   "language": "kotlin",
   "name": "kotlin"
  },
  "language_info": {
   "name": "kotlin",
   "version": "1.9.0",
   "mimetype": "text/x-kotlin",
   "file_extension": ".kt",
   "pygments_lexer": "kotlin",
   "codemirror_mode": "text/x-kotlin",
   "nbconvert_exporter": ""
  }
 },
 "nbformat": 4,
 "nbformat_minor": 0
}
