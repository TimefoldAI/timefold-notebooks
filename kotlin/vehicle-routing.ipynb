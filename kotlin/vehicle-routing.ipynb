{
 "cells": [
  {
   "cell_type": "markdown",
   "source": [
    "# Vehicle routing with Timefold in a Kotlin notebook"
   ],
   "metadata": {
    "collapsed": false
   }
  },
  {
   "cell_type": "code",
   "execution_count": 1,
   "outputs": [],
   "source": [
    "@file:DependsOn(\"ai.timefold.solver:timefold-solver-core:1.5.0\")\n",
    "@file:DependsOn(\"com.fasterxml.jackson.module:jackson-module-kotlin:2.16.1\")"
   ],
   "metadata": {
    "collapsed": false,
    "ExecuteTime": {
     "end_time": "2024-01-06T20:46:19.939690775Z",
     "start_time": "2024-01-06T20:46:18.530480112Z"
    }
   }
  },
  {
   "cell_type": "markdown",
   "source": [
    "## Domain\n",
    "\n",
    "Create the domain data classes:\n",
    "\n",
    "### Location"
   ],
   "metadata": {
    "collapsed": false
   }
  },
  {
   "cell_type": "code",
   "execution_count": 2,
   "outputs": [],
   "source": [
    "data class Location(\n",
    "    val latitude: Double,\n",
    "    val longitude: Double)"
   ],
   "metadata": {
    "collapsed": false,
    "ExecuteTime": {
     "end_time": "2024-01-06T20:46:20.161397363Z",
     "start_time": "2024-01-06T20:46:19.941094237Z"
    }
   }
  },
  {
   "cell_type": "markdown",
   "source": [
    "### Visit"
   ],
   "metadata": {
    "collapsed": false
   }
  },
  {
   "cell_type": "code",
   "execution_count": 3,
   "outputs": [],
   "source": [
    "import java.time.Duration\n",
    "\n",
    "data class Visit(\n",
    "\n",
    "    val name: String,\n",
    "    val location: Location,\n",
    "    val demand: Int) {\n",
    "\n",
    "    override fun toString(): String = name\n",
    "}"
   ],
   "metadata": {
    "collapsed": false,
    "ExecuteTime": {
     "end_time": "2024-01-06T20:46:20.268942900Z",
     "start_time": "2024-01-06T20:46:20.162589275Z"
    }
   }
  },
  {
   "cell_type": "markdown",
   "source": [
    "### Vehicle"
   ],
   "metadata": {
    "collapsed": false
   }
  },
  {
   "cell_type": "code",
   "execution_count": 4,
   "outputs": [],
   "source": [
    "import ai.timefold.solver.core.api.domain.entity.PlanningEntity\n",
    "import ai.timefold.solver.core.api.domain.variable.PlanningVariable\n",
    "\n",
    "\n",
    "@PlanningEntity\n",
    "data class Vehicle(\n",
    "\n",
    "    val name: String,\n",
    "    val homeLocation: Location,\n",
    "    val capacity: Int) {\n",
    "\n",
    "    @PlanningVariable\n",
    "    var visits: List<Visit>? = null\n",
    "\n",
    "    override fun toString(): String = name\n",
    "}"
   ],
   "metadata": {
    "collapsed": false,
    "ExecuteTime": {
     "end_time": "2024-01-06T20:46:20.440474560Z",
     "start_time": "2024-01-06T20:46:20.269923613Z"
    }
   }
  },
  {
   "cell_type": "markdown",
   "source": [
    "## Constraints"
   ],
   "metadata": {
    "collapsed": false
   }
  },
  {
   "cell_type": "code",
   "execution_count": 5,
   "outputs": [],
   "source": [
    "import ai.timefold.solver.core.api.score.buildin.hardsoft.HardSoftScore\n",
    "import ai.timefold.solver.core.api.score.stream.Constraint\n",
    "import ai.timefold.solver.core.api.score.stream.ConstraintFactory\n",
    "import ai.timefold.solver.core.api.score.stream.ConstraintProvider\n",
    "import ai.timefold.solver.core.api.score.stream.Joiners\n",
    "import java.time.Duration\n",
    "\n",
    "class VehicleRoutingConstraintProvider : ConstraintProvider {\n",
    "\n",
    "    override fun defineConstraints(constraintFactory: ConstraintFactory): Array<Constraint>? {\n",
    "        return arrayOf(\n",
    "            // Hard constraints\n",
    "            // Soft constraints\n",
    "        )\n",
    "    }\n",
    "\n",
    "}"
   ],
   "metadata": {
    "collapsed": false,
    "ExecuteTime": {
     "end_time": "2024-01-06T20:46:20.571476382Z",
     "start_time": "2024-01-06T20:46:20.442328429Z"
    }
   }
  },
  {
   "cell_type": "markdown",
   "source": [
    "## Schedule"
   ],
   "metadata": {
    "collapsed": false
   }
  },
  {
   "cell_type": "code",
   "execution_count": 6,
   "outputs": [],
   "source": [
    "import ai.timefold.solver.core.api.domain.solution.PlanningEntityCollectionProperty\n",
    "import ai.timefold.solver.core.api.domain.solution.PlanningScore\n",
    "import ai.timefold.solver.core.api.domain.solution.PlanningSolution\n",
    "import ai.timefold.solver.core.api.domain.solution.ProblemFactCollectionProperty\n",
    "import ai.timefold.solver.core.api.domain.valuerange.ValueRangeProvider\n",
    "import ai.timefold.solver.core.api.score.buildin.hardsoft.HardSoftScore\n",
    "import kotlinx.serialization.Transient\n",
    "\n",
    "\n",
    "@PlanningSolution\n",
    "data class Schedule(\n",
    "    \n",
    "    @PlanningEntityCollectionProperty\n",
    "    val vehicles: List<Vehicle>,\n",
    "    @ProblemFactCollectionProperty\n",
    "    @ValueRangeProvider\n",
    "    val visits: List<Visit>) {\n",
    "\n",
    "    @PlanningScore\n",
    "    @Transient\n",
    "    var score: HardSoftScore? = null\n",
    "\n",
    "    // No-arg constructor required for Timefold\n",
    "    constructor() : this(emptyList(), emptyList())\n",
    "\n",
    "}"
   ],
   "metadata": {
    "collapsed": false,
    "ExecuteTime": {
     "end_time": "2024-01-06T20:46:20.731506221Z",
     "start_time": "2024-01-06T20:46:20.572677304Z"
    }
   }
  },
  {
   "cell_type": "markdown",
   "source": [
    "## Data generator"
   ],
   "metadata": {
    "collapsed": false
   }
  },
  {
   "cell_type": "code",
   "outputs": [
    {
     "data": {
      "text/plain": "Schedule(vehicles=[Vehicle 1], visits=[Anthisnes])"
     },
     "execution_count": 13,
     "metadata": {},
     "output_type": "execute_result"
    }
   ],
   "source": [
    "import java.io.File\n",
    "import com.fasterxml.jackson.module.kotlin.jacksonObjectMapper\n",
    "import com.fasterxml.jackson.module.kotlin.readValue\n",
    "\n",
    "val mapper = jacksonObjectMapper()\n",
    "val problem: Schedule =  mapper.readValue(File(\"vehicle-routing-data.json\"))\n",
    "\n",
    "\n",
    "\n",
    "problem"
   ],
   "metadata": {
    "collapsed": false,
    "ExecuteTime": {
     "end_time": "2024-01-06T20:55:32.232418233Z",
     "start_time": "2024-01-06T20:55:32.164730662Z"
    }
   },
   "execution_count": 13
  },
  {
   "cell_type": "markdown",
   "source": [
    "## Conclusion\n",
    "\n",
    "To learn more about planning optimization, visit [timefold.ai](https://timefold.ai)."
   ],
   "metadata": {
    "collapsed": false
   }
  }
 ],
 "metadata": {
  "kernelspec": {
   "display_name": "Kotlin",
   "language": "kotlin",
   "name": "kotlin"
  },
  "language_info": {
   "name": "kotlin",
   "version": "1.8.0",
   "mimetype": "text/x-kotlin",
   "file_extension": ".kt",
   "pygments_lexer": "kotlin",
   "codemirror_mode": "text/x-kotlin",
   "nbconvert_exporter": ""
  }
 },
 "nbformat": 4,
 "nbformat_minor": 0
}
