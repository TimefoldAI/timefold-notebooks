{
 "cells": [
  {
   "cell_type": "markdown",
   "source": [
    "# Vehicle routing with Timefold in a Kotlin notebook"
   ],
   "metadata": {
    "collapsed": false
   }
  },
  {
   "cell_type": "code",
   "execution_count": 28,
   "outputs": [],
   "source": [
    "@file:DependsOn(\"ai.timefold.solver:timefold-solver-core:1.5.0\")\n",
    "@file:DependsOn(\"com.fasterxml.jackson.module:jackson-module-kotlin:2.16.1\")"
   ],
   "metadata": {
    "collapsed": false,
    "ExecuteTime": {
     "end_time": "2024-02-13T21:21:07.511928591Z",
     "start_time": "2024-02-13T21:21:03.587967655Z"
    }
   }
  },
  {
   "cell_type": "markdown",
   "source": [
    "## Domain\n",
    "\n",
    "Create the domain data classes:\n",
    "\n",
    "### Location"
   ],
   "metadata": {
    "collapsed": false
   }
  },
  {
   "cell_type": "code",
   "execution_count": 29,
   "outputs": [],
   "source": [
    "import com.fasterxml.jackson.annotation.JsonFormat\n",
    "\n",
    "@JsonFormat(shape = JsonFormat.Shape.ARRAY)\n",
    "data class Location(\n",
    "    val latitude: Double,\n",
    "    val longitude: Double) {\n",
    "    \n",
    "    fun calcEuclideanDistanceTo(other: Location): Double {\n",
    "        val xDifference = latitude - other.latitude\n",
    "        val yDifference = longitude - other.longitude\n",
    "        return Math.sqrt(xDifference * xDifference + yDifference * yDifference)\n",
    "    }\n",
    "    \n",
    "}"
   ],
   "metadata": {
    "collapsed": false,
    "ExecuteTime": {
     "end_time": "2024-02-13T21:21:07.737223242Z",
     "start_time": "2024-02-13T21:21:07.495734057Z"
    }
   }
  },
  {
   "cell_type": "markdown",
   "source": [
    "### Visit"
   ],
   "metadata": {
    "collapsed": false
   }
  },
  {
   "cell_type": "code",
   "execution_count": 30,
   "outputs": [],
   "source": [
    "import java.time.Duration\n",
    "\n",
    "data class Visit(\n",
    "\n",
    "    val name: String,\n",
    "    val location: Location,\n",
    "    val load: Int) {\n",
    "\n",
    "    override fun toString(): String = name\n",
    "}"
   ],
   "metadata": {
    "collapsed": false,
    "ExecuteTime": {
     "end_time": "2024-02-13T21:21:07.868483726Z",
     "start_time": "2024-02-13T21:21:07.730542907Z"
    }
   }
  },
  {
   "cell_type": "markdown",
   "source": [
    "### Vehicle"
   ],
   "metadata": {
    "collapsed": false
   }
  },
  {
   "cell_type": "code",
   "outputs": [],
   "source": [
    "import ai.timefold.solver.core.api.domain.entity.PlanningEntity\n",
    "import ai.timefold.solver.core.api.domain.variable.PlanningListVariable\n",
    "\n",
    "\n",
    "@PlanningEntity\n",
    "data class Vehicle(\n",
    "\n",
    "    val name: String,\n",
    "    val homeLocation: Location,\n",
    "    val capacity: Int) {\n",
    "\n",
    "    @PlanningListVariable\n",
    "    var visits: MutableList<Visit> = ArrayList()\n",
    "    \n",
    "    // No-arg constructor required for Timefold\n",
    "    constructor() : this(\"\", Location(0.0, 0.0), 0)\n",
    "\n",
    "    override fun toString(): String = name\n",
    "}"
   ],
   "metadata": {
    "collapsed": false,
    "ExecuteTime": {
     "end_time": "2024-02-13T21:21:08.180391994Z",
     "start_time": "2024-02-13T21:21:07.880757628Z"
    }
   },
   "execution_count": 31
  },
  {
   "cell_type": "markdown",
   "source": [
    "## Constraints"
   ],
   "metadata": {
    "collapsed": false
   }
  },
  {
   "cell_type": "code",
   "execution_count": 32,
   "outputs": [],
   "source": [
    "import ai.timefold.solver.core.api.score.buildin.hardsoftlong.HardSoftLongScore\n",
    "import ai.timefold.solver.core.api.score.stream.Constraint\n",
    "import ai.timefold.solver.core.api.score.stream.ConstraintFactory\n",
    "import ai.timefold.solver.core.api.score.stream.ConstraintProvider\n",
    "import ai.timefold.solver.core.api.score.stream.Joiners\n",
    "import java.time.Duration\n",
    "\n",
    "class VehicleRoutingConstraintProvider : ConstraintProvider {\n",
    "\n",
    "    override fun defineConstraints(constraintFactory: ConstraintFactory): Array<Constraint>? {\n",
    "        return arrayOf(\n",
    "            // Hard constraints\n",
    "            capcity(constraintFactory),\n",
    "            // Soft constraints\n",
    "            minimizeDistance(constraintFactory)\n",
    "        )\n",
    "    }\n",
    "    \n",
    "    fun capcity(constraintFactory: ConstraintFactory): Constraint {\n",
    "        // TODO Not the most efficient implementation\n",
    "        return constraintFactory\n",
    "            .forEach(Vehicle::class.java)\n",
    "            .expand({ vehicle -> vehicle.visits.sumOf { it.load } })\n",
    "            .filter({ vehicle, load -> load > vehicle.capacity })\n",
    "            .penalizeLong(HardSoftLongScore.ONE_HARD,\n",
    "                { vehicle, load -> (load - vehicle.capacity).toLong() })\n",
    "            .asConstraint(\"vehicle-routing\", \"Capacity\");\n",
    "    }\n",
    "    \n",
    "    fun minimizeDistance(constraintFactory: ConstraintFactory): Constraint {\n",
    "        // TODO Not the most efficient implementation\n",
    "        return constraintFactory\n",
    "            .forEach(Vehicle::class.java)\n",
    "            .penalizeLong(HardSoftLongScore.ONE_SOFT, { vehicle ->\n",
    "                var distance: Double = 0.0\n",
    "                var previousLocation: Location = vehicle.homeLocation\n",
    "                for (visit in vehicle.visits) {\n",
    "                    distance += previousLocation.calcEuclideanDistanceTo(visit.location)\n",
    "                    previousLocation = visit.location\n",
    "                }\n",
    "                distance += previousLocation.calcEuclideanDistanceTo(vehicle.homeLocation)\n",
    "                (distance * 1_000_000.0).toLong()\n",
    "            })\n",
    "            .asConstraint(\"vehicle-routing\", \"Minimize distance\");\n",
    "    }\n",
    "\n",
    "}"
   ],
   "metadata": {
    "collapsed": false,
    "ExecuteTime": {
     "end_time": "2024-02-13T21:21:08.922546373Z",
     "start_time": "2024-02-13T21:21:08.177788441Z"
    }
   }
  },
  {
   "cell_type": "markdown",
   "source": [
    "## Schedule"
   ],
   "metadata": {
    "collapsed": false
   }
  },
  {
   "cell_type": "code",
   "execution_count": 33,
   "outputs": [],
   "source": [
    "import ai.timefold.solver.core.api.domain.solution.PlanningEntityCollectionProperty\n",
    "import ai.timefold.solver.core.api.domain.solution.PlanningScore\n",
    "import ai.timefold.solver.core.api.domain.solution.PlanningSolution\n",
    "import ai.timefold.solver.core.api.domain.solution.ProblemFactCollectionProperty\n",
    "import ai.timefold.solver.core.api.domain.valuerange.ValueRangeProvider\n",
    "import ai.timefold.solver.core.api.score.buildin.hardsoftlong.HardSoftLongScore\n",
    "import kotlinx.serialization.Transient\n",
    "\n",
    "\n",
    "@PlanningSolution\n",
    "data class Schedule(\n",
    "    \n",
    "    val name: String,\n",
    "    @PlanningEntityCollectionProperty\n",
    "    val vehicles: List<Vehicle>,\n",
    "    @ProblemFactCollectionProperty\n",
    "    @ValueRangeProvider\n",
    "    val visits: List<Visit>) {\n",
    "\n",
    "    @PlanningScore\n",
    "    @Transient\n",
    "    var score: HardSoftLongScore? = null\n",
    "\n",
    "    // No-arg constructor required for Timefold\n",
    "    constructor() : this(\"\", emptyList(), emptyList())\n",
    "\n",
    "}"
   ],
   "metadata": {
    "collapsed": false,
    "ExecuteTime": {
     "end_time": "2024-02-13T21:21:09.084089345Z",
     "start_time": "2024-02-13T21:21:08.927748393Z"
    }
   }
  },
  {
   "cell_type": "markdown",
   "source": [
    "## Read input data"
   ],
   "metadata": {
    "collapsed": false
   }
  },
  {
   "cell_type": "code",
   "outputs": [],
   "source": [
    "import java.io.File\n",
    "import com.fasterxml.jackson.module.kotlin.jacksonObjectMapper\n",
    "import com.fasterxml.jackson.module.kotlin.readValue\n",
    "\n",
    "val mapper = jacksonObjectMapper()\n",
    "val problem: Schedule =  mapper.readValue(File(\"vehicle-routing-data.json\"))"
   ],
   "metadata": {
    "collapsed": false,
    "ExecuteTime": {
     "end_time": "2024-02-13T21:21:09.221622085Z",
     "start_time": "2024-02-13T21:21:09.085482717Z"
    }
   },
   "execution_count": 34
  },
  {
   "cell_type": "markdown",
   "source": [
    "## Solve"
   ],
   "metadata": {
    "collapsed": false
   }
  },
  {
   "cell_type": "code",
   "outputs": [
    {
     "name": "stdout",
     "output_type": "stream",
     "text": [
      "Solving the problem ...\n",
      "Solving finished with score (0hard/-24014318soft).\n"
     ]
    }
   ],
   "source": [
    "import ai.timefold.solver.core.config.solver.SolverConfig\n",
    "import ai.timefold.solver.core.api.solver.SolverFactory\n",
    "import ai.timefold.solver.core.api.solver.Solver\n",
    "\n",
    "val solverFactory: SolverFactory<Schedule> = SolverFactory.create(SolverConfig()\n",
    "        .withSolutionClass(Schedule::class.java)\n",
    "        .withEntityClasses(Vehicle::class.java)\n",
    "        .withConstraintProviderClass(VehicleRoutingConstraintProvider::class.java)\n",
    "        // The solver runs only for 5 seconds on this small dataset.\n",
    "        // It's recommended to run for at least 5 minutes (\"5m\") otherwise.\n",
    "        .withTerminationSpentLimit(Duration.ofSeconds(30)))\n",
    "\n",
    "println(\"Solving the problem ...\")\n",
    "val solver: Solver<Schedule> = solverFactory.buildSolver()\n",
    "val solution: Schedule = solver.solve(problem)\n",
    "println(\"Solving finished with score (${solution.score}).\")"
   ],
   "metadata": {
    "collapsed": false,
    "ExecuteTime": {
     "end_time": "2024-02-13T21:21:14.434120076Z",
     "start_time": "2024-02-13T21:21:09.218165357Z"
    }
   },
   "execution_count": 35
  },
  {
   "cell_type": "markdown",
   "source": [
    "## Visualize the schedule"
   ],
   "metadata": {
    "collapsed": false
   }
  },
  {
   "cell_type": "code",
   "outputs": [
    {
     "data": {
      "text/html": "<p style='font-size: x-large'>Score: 0hard/-24014318soft</p><ul><li>Vehicle A: FONTAINE-L'EVEQUE, HEPPIGNIES, SAINT-MARTIN</li><li>Vehicle B: OLLIGNIES, MAULDE, GUIGNIES, BAVIKHOVE, WETTEREN</li><li>Vehicle C: SINT-KWINTENS-LENNIK, NAAST, BERSILLIES-L'ABBAYE, BOURLERS, DONSTIENNES, LES_BONS_VILLERS</li><li>Vehicle D: JURBISE, CHIEVRES, MAFFLE, GONDREGNIES, PEPINGEN</li><li>Vehicle E: VOSSEM, WARNANT-DREYE, EVELETTE, MONT_NAM., ORET, SOMZEE</li><li>Vehicle F: ANTHISNES, TAILLES, SELANGE, VAUX-LEZ-ROSIERES, POUPEHAN, AVE-ET-AUFFE</li><li>Vehicle G: HUMBEEK, HOFSTADE_BT., HAREN_BRUSSEL</li><li>Vehicle H: MERKSPLAS, ROSMEER, VILLERS-L'EVEQUE, GELINDEN</li><li>Vehicle I: TILFF, XHENDELESSE, BLERET</li><li>Vehicle J: KOMEN, ELVERDINGE, RENINGE, BULSKAMP, LISSEWEGE, DAMME, LANDEGEM, NIEUWKERKEN-WAAS</li></ul>"
     },
     "execution_count": 36,
     "metadata": {},
     "output_type": "execute_result"
    }
   ],
   "source": [
    "HTML(buildString {\n",
    "    append(\"<p style='font-size: x-large'>Score: ${solution.score}</p>\")\n",
    "    append(\"<ul>\")\n",
    "    for (vehicle in solution.vehicles) {\n",
    "        append(\"<li>${vehicle.name}: ${vehicle.visits.joinToString(\", \")}</li>\")\n",
    "    }\n",
    "    append(\"</ul>\")\n",
    "})"
   ],
   "metadata": {
    "collapsed": false,
    "ExecuteTime": {
     "end_time": "2024-02-13T21:21:14.599960662Z",
     "start_time": "2024-02-13T21:21:14.430877386Z"
    }
   },
   "execution_count": 36
  },
  {
   "cell_type": "markdown",
   "source": [
    "## Analyze the score\n",
    "\n",
    "Let's break down the score per constraint:"
   ],
   "metadata": {
    "collapsed": false
   }
  },
  {
   "cell_type": "code",
   "outputs": [],
   "source": [
    "import ai.timefold.solver.core.api.solver.SolutionManager\n",
    "\n",
    "val solutionManager = SolutionManager.create(solverFactory)\n",
    "val scoreAnalysis = solutionManager.analyze(solution)"
   ],
   "metadata": {
    "collapsed": false,
    "ExecuteTime": {
     "end_time": "2024-02-13T21:21:14.692225642Z",
     "start_time": "2024-02-13T21:21:14.595135620Z"
    }
   },
   "execution_count": 37
  },
  {
   "cell_type": "markdown",
   "source": [
    "And visualize it:"
   ],
   "metadata": {
    "collapsed": false
   }
  },
  {
   "cell_type": "code",
   "outputs": [
    {
     "data": {
      "text/html": "<p style='font-size: x-large'>Score: 0hard/-24014318soft</p><ul><li>Minimize distance: -24014318soft</li><li>Capacity: 0</li></ul>"
     },
     "execution_count": 38,
     "metadata": {},
     "output_type": "execute_result"
    }
   ],
   "source": [
    "HTML(buildString {\n",
    "    append(\"<p style='font-size: x-large'>Score: ${scoreAnalysis.score}</p>\")\n",
    "    append(\"<ul>\")\n",
    "    for (constraint in scoreAnalysis.constraintMap().values) {\n",
    "        append(\"<li>${constraint.constraintRef().constraintName}: ${constraint.score.toShortString()}</li>\")\n",
    "    }\n",
    "    append(\"</ul>\")\n",
    "})"
   ],
   "metadata": {
    "collapsed": false,
    "ExecuteTime": {
     "end_time": "2024-02-13T21:21:14.830660891Z",
     "start_time": "2024-02-13T21:21:14.684343561Z"
    }
   },
   "execution_count": 38
  },
  {
   "cell_type": "markdown",
   "source": [
    "## Statistics\n",
    "\n",
    "For a big dataset, a schedule visualization is often too verbose.\n",
    "Let's visualize the solution through statistics:"
   ],
   "metadata": {
    "collapsed": false
   }
  },
  {
   "cell_type": "code",
   "outputs": [],
   "source": [
    "%use kandy\n",
    "%use lets-plot\n",
    "%use lets-plot-gt\n",
    "\n",
    "### Map\n",
    "val locations = mutableListOf<Location>()\n",
    "solution.vehicles.forEach { vehicle ->\n",
    "    locations.add(vehicle.homeLocation)\n",
    "    locations.addAll(vehicle.visits.map { it.location })\n",
    "    locations.add(vehicle.homeLocation)\n",
    "}\n",
    "\n",
    "val dataset = mapOf(\n",
    "        \"latitude\" to locations.map { it.latitude },\n",
    "        \"longitude\" to locations.map { it.longitude },\n",
    ")\n",
    "\n",
    "letsPlot(dataset) + geomPath() { x = \"longitude\"; y = \"latitude\" }\n"
   ],
   "metadata": {
    "collapsed": false
   }
  },
  {
   "cell_type": "markdown",
   "source": [
    "### Visits per vehicle"
   ],
   "metadata": {
    "collapsed": false
   }
  },
  {
   "cell_type": "code",
   "outputs": [],
   "source": [
    "val vehicles = solution.vehicles.map { it.name }\n",
    "val visitCounts = solution.vehicles.map { it.visits.size }\n",
    "\n",
    "plot {\n",
    "    layout.title = \"Visits per vehicle\"\n",
    "    bars {\n",
    "        x(vehicles) { axis.name = \"Vehicle\" }\n",
    "        y(visitCounts) { axis.name = \"Visits\" }\n",
    "    }\n",
    "}"
   ],
   "metadata": {
    "collapsed": false
   }
  },
  {
   "cell_type": "markdown",
   "source": [
    "### Load per vehicle"
   ],
   "metadata": {
    "collapsed": false
   }
  },
  {
   "cell_type": "code",
   "outputs": [],
   "source": [
    "val vehicles = solution.vehicles.map { it.name }\n",
    "val load = solution.vehicles.map { it.visits.sumOf { it.load } }\n",
    "\n",
    "plot {\n",
    "    layout.title = \"Load per vehicle\"\n",
    "    bars {\n",
    "        x(vehicles) { axis.name = \"Vehicle\" }\n",
    "        y(load) { axis.name = \"Load\" }\n",
    "    }\n",
    "}"
   ],
   "metadata": {
    "collapsed": false
   }
  },
  {
   "cell_type": "markdown",
   "source": [
    "## Conclusion\n",
    "\n",
    "To learn more about planning optimization, visit [timefold.ai](https://timefold.ai)."
   ],
   "metadata": {
    "collapsed": false
   }
  }
 ],
 "metadata": {
  "kernelspec": {
   "display_name": "Kotlin",
   "language": "kotlin",
   "name": "kotlin"
  },
  "language_info": {
   "name": "kotlin",
   "version": "1.8.0",
   "mimetype": "text/x-kotlin",
   "file_extension": ".kt",
   "pygments_lexer": "kotlin",
   "codemirror_mode": "text/x-kotlin",
   "nbconvert_exporter": ""
  }
 },
 "nbformat": 4,
 "nbformat_minor": 0
}
