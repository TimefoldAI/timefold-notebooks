{
 "cells": [
  {
   "cell_type": "markdown",
   "source": [
    "# Vehicle routing with Timefold in a Kotlin notebook"
   ],
   "metadata": {
    "collapsed": false
   }
  },
  {
   "cell_type": "code",
   "execution_count": 32,
   "outputs": [],
   "source": [
    "@file:DependsOn(\"ai.timefold.solver:timefold-solver-core:1.7.0\")\n",
    "@file:DependsOn(\"com.fasterxml.jackson.module:jackson-module-kotlin:2.16.1\")"
   ],
   "metadata": {
    "collapsed": false,
    "ExecuteTime": {
     "end_time": "2024-02-13T21:32:53.394978494Z",
     "start_time": "2024-02-13T21:32:50.931953790Z"
    }
   }
  },
  {
   "cell_type": "markdown",
   "source": [
    "## Domain\n",
    "\n",
    "Create the domain data classes:\n",
    "\n",
    "### Location"
   ],
   "metadata": {
    "collapsed": false
   }
  },
  {
   "cell_type": "code",
   "execution_count": 33,
   "outputs": [],
   "source": [
    "import com.fasterxml.jackson.annotation.JsonFormat\n",
    "\n",
    "@JsonFormat(shape = JsonFormat.Shape.ARRAY)\n",
    "data class Location(\n",
    "    val latitude: Double,\n",
    "    val longitude: Double) {\n",
    "    \n",
    "    fun calcEuclideanDistanceTo(other: Location): Double {\n",
    "        val xDifference = latitude - other.latitude\n",
    "        val yDifference = longitude - other.longitude\n",
    "        return Math.sqrt(xDifference * xDifference + yDifference * yDifference)\n",
    "    }\n",
    "    \n",
    "}"
   ],
   "metadata": {
    "collapsed": false,
    "ExecuteTime": {
     "end_time": "2024-02-13T21:32:53.518607353Z",
     "start_time": "2024-02-13T21:32:53.397132381Z"
    }
   }
  },
  {
   "cell_type": "markdown",
   "source": [
    "### Visit"
   ],
   "metadata": {
    "collapsed": false
   }
  },
  {
   "cell_type": "code",
   "execution_count": 34,
   "outputs": [],
   "source": [
    "import java.time.Duration\n",
    "\n",
    "data class Visit(\n",
    "\n",
    "    val name: String,\n",
    "    val location: Location,\n",
    "    val load: Int) {\n",
    "\n",
    "    override fun toString(): String = name\n",
    "}"
   ],
   "metadata": {
    "collapsed": false,
    "ExecuteTime": {
     "end_time": "2024-02-13T21:32:53.583690620Z",
     "start_time": "2024-02-13T21:32:53.518449267Z"
    }
   }
  },
  {
   "cell_type": "markdown",
   "source": [
    "### Vehicle"
   ],
   "metadata": {
    "collapsed": false
   }
  },
  {
   "cell_type": "code",
   "outputs": [],
   "source": [
    "import ai.timefold.solver.core.api.domain.entity.PlanningEntity\n",
    "import ai.timefold.solver.core.api.domain.variable.PlanningListVariable\n",
    "\n",
    "\n",
    "@PlanningEntity\n",
    "data class Vehicle(\n",
    "\n",
    "    val name: String,\n",
    "    val homeLocation: Location,\n",
    "    val capacity: Int) {\n",
    "\n",
    "    @PlanningListVariable\n",
    "    var visits: MutableList<Visit> = ArrayList()\n",
    "    \n",
    "    // No-arg constructor required for Timefold\n",
    "    constructor() : this(\"\", Location(0.0, 0.0), 0)\n",
    "\n",
    "    override fun toString(): String = name\n",
    "}"
   ],
   "metadata": {
    "collapsed": false,
    "ExecuteTime": {
     "end_time": "2024-02-13T21:32:53.693124530Z",
     "start_time": "2024-02-13T21:32:53.583123125Z"
    }
   },
   "execution_count": 35
  },
  {
   "cell_type": "markdown",
   "source": [
    "## Constraints"
   ],
   "metadata": {
    "collapsed": false
   }
  },
  {
   "cell_type": "code",
   "execution_count": 36,
   "outputs": [],
   "source": [
    "import ai.timefold.solver.core.api.score.buildin.hardsoftlong.HardSoftLongScore\n",
    "import ai.timefold.solver.core.api.score.stream.Constraint\n",
    "import ai.timefold.solver.core.api.score.stream.ConstraintFactory\n",
    "import ai.timefold.solver.core.api.score.stream.ConstraintProvider\n",
    "import ai.timefold.solver.core.api.score.stream.Joiners\n",
    "import java.time.Duration\n",
    "\n",
    "class VehicleRoutingConstraintProvider : ConstraintProvider {\n",
    "\n",
    "    override fun defineConstraints(constraintFactory: ConstraintFactory): Array<Constraint>? {\n",
    "        return arrayOf(\n",
    "            // Hard constraints\n",
    "            capcity(constraintFactory),\n",
    "            // Soft constraints\n",
    "            minimizeDistance(constraintFactory)\n",
    "        )\n",
    "    }\n",
    "    \n",
    "    fun capcity(constraintFactory: ConstraintFactory): Constraint {\n",
    "        // TODO Not the most efficient implementation\n",
    "        return constraintFactory\n",
    "            .forEach(Vehicle::class.java)\n",
    "            .expand({ vehicle -> vehicle.visits.sumOf { it.load } })\n",
    "            .filter({ vehicle, load -> load > vehicle.capacity })\n",
    "            .penalizeLong(HardSoftLongScore.ONE_HARD,\n",
    "                { vehicle, load -> (load - vehicle.capacity).toLong() })\n",
    "            .asConstraint(\"vehicle-routing\", \"Capacity\");\n",
    "    }\n",
    "    \n",
    "    fun minimizeDistance(constraintFactory: ConstraintFactory): Constraint {\n",
    "        // TODO Not the most efficient implementation\n",
    "        return constraintFactory\n",
    "            .forEach(Vehicle::class.java)\n",
    "            .penalizeLong(HardSoftLongScore.ONE_SOFT, { vehicle ->\n",
    "                var distance: Double = 0.0\n",
    "                var previousLocation: Location = vehicle.homeLocation\n",
    "                for (visit in vehicle.visits) {\n",
    "                    distance += previousLocation.calcEuclideanDistanceTo(visit.location)\n",
    "                    previousLocation = visit.location\n",
    "                }\n",
    "                distance += previousLocation.calcEuclideanDistanceTo(vehicle.homeLocation)\n",
    "                (distance * 1_000_000.0).toLong()\n",
    "            })\n",
    "            .asConstraint(\"vehicle-routing\", \"Minimize distance\");\n",
    "    }\n",
    "\n",
    "}"
   ],
   "metadata": {
    "collapsed": false,
    "ExecuteTime": {
     "end_time": "2024-02-13T21:32:53.990380652Z",
     "start_time": "2024-02-13T21:32:53.693327338Z"
    }
   }
  },
  {
   "cell_type": "markdown",
   "source": [
    "## Schedule"
   ],
   "metadata": {
    "collapsed": false
   }
  },
  {
   "cell_type": "code",
   "execution_count": 37,
   "outputs": [],
   "source": [
    "import ai.timefold.solver.core.api.domain.solution.PlanningEntityCollectionProperty\n",
    "import ai.timefold.solver.core.api.domain.solution.PlanningScore\n",
    "import ai.timefold.solver.core.api.domain.solution.PlanningSolution\n",
    "import ai.timefold.solver.core.api.domain.solution.ProblemFactCollectionProperty\n",
    "import ai.timefold.solver.core.api.domain.valuerange.ValueRangeProvider\n",
    "import ai.timefold.solver.core.api.score.buildin.hardsoftlong.HardSoftLongScore\n",
    "import kotlinx.serialization.Transient\n",
    "\n",
    "\n",
    "@PlanningSolution\n",
    "data class Schedule(\n",
    "    \n",
    "    val name: String,\n",
    "    @PlanningEntityCollectionProperty\n",
    "    val vehicles: List<Vehicle>,\n",
    "    @ProblemFactCollectionProperty\n",
    "    @ValueRangeProvider\n",
    "    val visits: List<Visit>) {\n",
    "\n",
    "    @PlanningScore\n",
    "    @Transient\n",
    "    var score: HardSoftLongScore? = null\n",
    "\n",
    "    // No-arg constructor required for Timefold\n",
    "    constructor() : this(\"\", emptyList(), emptyList())\n",
    "\n",
    "}"
   ],
   "metadata": {
    "collapsed": false,
    "ExecuteTime": {
     "end_time": "2024-02-13T21:32:54.160359636Z",
     "start_time": "2024-02-13T21:32:53.990637573Z"
    }
   }
  },
  {
   "cell_type": "markdown",
   "source": [
    "## Read input data"
   ],
   "metadata": {
    "collapsed": false
   }
  },
  {
   "cell_type": "code",
   "outputs": [],
   "source": [
    "import java.io.File\n",
    "import com.fasterxml.jackson.module.kotlin.jacksonObjectMapper\n",
    "import com.fasterxml.jackson.module.kotlin.readValue\n",
    "\n",
    "val mapper = jacksonObjectMapper()\n",
    "val problem: Schedule =  mapper.readValue(File(\"vehicle-routing-data.json\"))"
   ],
   "metadata": {
    "collapsed": false,
    "ExecuteTime": {
     "end_time": "2024-02-13T21:32:54.265913883Z",
     "start_time": "2024-02-13T21:32:54.161623494Z"
    }
   },
   "execution_count": 38
  },
  {
   "cell_type": "markdown",
   "source": [
    "## Solve"
   ],
   "metadata": {
    "collapsed": false
   }
  },
  {
   "cell_type": "code",
   "outputs": [
    {
     "name": "stdout",
     "output_type": "stream",
     "text": [
      "Solving the problem ...\n",
      "Solving finished with score (0hard/-24014318soft).\n"
     ]
    }
   ],
   "source": [
    "import ai.timefold.solver.core.config.solver.SolverConfig\n",
    "import ai.timefold.solver.core.api.solver.SolverFactory\n",
    "import ai.timefold.solver.core.api.solver.Solver\n",
    "\n",
    "val solverFactory: SolverFactory<Schedule> = SolverFactory.create(SolverConfig()\n",
    "        .withSolutionClass(Schedule::class.java)\n",
    "        .withEntityClasses(Vehicle::class.java)\n",
    "        .withConstraintProviderClass(VehicleRoutingConstraintProvider::class.java)\n",
    "        // The solver runs only for 5 seconds on this small dataset.\n",
    "        // It's recommended to run for at least 5 minutes (\"5m\") otherwise.\n",
    "        .withTerminationSpentLimit(Duration.ofSeconds(30)))\n",
    "\n",
    "println(\"Solving the problem ...\")\n",
    "val solver: Solver<Schedule> = solverFactory.buildSolver()\n",
    "val solution: Schedule = solver.solve(problem)\n",
    "println(\"Solving finished with score (${solution.score}).\")"
   ],
   "metadata": {
    "collapsed": false,
    "ExecuteTime": {
     "end_time": "2024-02-13T21:33:24.479521178Z",
     "start_time": "2024-02-13T21:32:54.266430598Z"
    }
   },
   "execution_count": 39
  },
  {
   "cell_type": "markdown",
   "source": [
    "## Visualize the schedule"
   ],
   "metadata": {
    "collapsed": false
   }
  },
  {
   "cell_type": "code",
   "outputs": [
    {
     "data": {
      "text/html": "<p style='font-size: x-large'>Score: 0hard/-24014318soft</p><ul><li>Vehicle A: FONTAINE-L'EVEQUE, HEPPIGNIES, SAINT-MARTIN</li><li>Vehicle B: OLLIGNIES, MAULDE, GUIGNIES, BAVIKHOVE, WETTEREN</li><li>Vehicle C: SINT-KWINTENS-LENNIK, NAAST, BERSILLIES-L'ABBAYE, BOURLERS, DONSTIENNES, LES_BONS_VILLERS</li><li>Vehicle D: JURBISE, CHIEVRES, MAFFLE, GONDREGNIES, PEPINGEN</li><li>Vehicle E: VOSSEM, WARNANT-DREYE, EVELETTE, MONT_NAM., ORET, SOMZEE</li><li>Vehicle F: ANTHISNES, TAILLES, SELANGE, VAUX-LEZ-ROSIERES, POUPEHAN, AVE-ET-AUFFE</li><li>Vehicle G: HUMBEEK, HOFSTADE_BT., HAREN_BRUSSEL</li><li>Vehicle H: MERKSPLAS, ROSMEER, VILLERS-L'EVEQUE, GELINDEN</li><li>Vehicle I: TILFF, XHENDELESSE, BLERET</li><li>Vehicle J: KOMEN, ELVERDINGE, RENINGE, BULSKAMP, LISSEWEGE, DAMME, LANDEGEM, NIEUWKERKEN-WAAS</li></ul>"
     },
     "execution_count": 40,
     "metadata": {},
     "output_type": "execute_result"
    }
   ],
   "source": [
    "HTML(buildString {\n",
    "    append(\"<p style='font-size: x-large'>Score: ${solution.score}</p>\")\n",
    "    append(\"<ul>\")\n",
    "    for (vehicle in solution.vehicles) {\n",
    "        append(\"<li>${vehicle.name}: ${vehicle.visits.joinToString(\", \")}</li>\")\n",
    "    }\n",
    "    append(\"</ul>\")\n",
    "})"
   ],
   "metadata": {
    "collapsed": false,
    "ExecuteTime": {
     "end_time": "2024-02-13T21:33:25.012568024Z",
     "start_time": "2024-02-13T21:33:24.486134234Z"
    }
   },
   "execution_count": 40
  },
  {
   "cell_type": "markdown",
   "source": [
    "## Analyze the score\n",
    "\n",
    "Let's break down the score per constraint:"
   ],
   "metadata": {
    "collapsed": false
   }
  },
  {
   "cell_type": "code",
   "outputs": [],
   "source": [
    "import ai.timefold.solver.core.api.solver.SolutionManager\n",
    "\n",
    "val solutionManager = SolutionManager.create(solverFactory)\n",
    "val scoreAnalysis = solutionManager.analyze(solution)"
   ],
   "metadata": {
    "collapsed": false,
    "ExecuteTime": {
     "end_time": "2024-02-13T21:33:25.336586639Z",
     "start_time": "2024-02-13T21:33:25.022899045Z"
    }
   },
   "execution_count": 41
  },
  {
   "cell_type": "markdown",
   "source": [
    "And visualize it:"
   ],
   "metadata": {
    "collapsed": false
   }
  },
  {
   "cell_type": "code",
   "outputs": [
    {
     "data": {
      "text/html": "<p style='font-size: x-large'>Score: 0hard/-24014318soft</p><ul><li>Minimize distance: -24014318soft</li><li>Capacity: 0</li></ul>"
     },
     "execution_count": 42,
     "metadata": {},
     "output_type": "execute_result"
    }
   ],
   "source": [
    "HTML(buildString {\n",
    "    append(\"<p style='font-size: x-large'>Score: ${scoreAnalysis.score}</p>\")\n",
    "    append(\"<ul>\")\n",
    "    for (constraint in scoreAnalysis.constraintMap().values) {\n",
    "        append(\"<li>${constraint.constraintRef().constraintName}: ${constraint.score.toShortString()}</li>\")\n",
    "    }\n",
    "    append(\"</ul>\")\n",
    "})"
   ],
   "metadata": {
    "collapsed": false,
    "ExecuteTime": {
     "end_time": "2024-02-13T21:33:25.609351323Z",
     "start_time": "2024-02-13T21:33:25.312877061Z"
    }
   },
   "execution_count": 42
  },
  {
   "cell_type": "markdown",
   "source": [
    "## Visualization\n",
    "\n",
    "Let's visualize the solution:"
   ],
   "metadata": {
    "collapsed": false
   }
  },
  {
   "cell_type": "code",
   "outputs": [
    {
     "data": {
      "text/html": "   <div id=\"grey1Y\"></div>\n   <script type=\"text/javascript\" data-lets-plot-script=\"library\">\n       if(!window.letsPlotCallQueue) {\n           window.letsPlotCallQueue = [];\n       }; \n       window.letsPlotCall = function(f) {\n           window.letsPlotCallQueue.push(f);\n       };\n       (function() {\n           var script = document.createElement(\"script\");\n           script.type = \"text/javascript\";\n           script.src = \"https://cdn.jsdelivr.net/gh/JetBrains/lets-plot@v4.1.0/js-package/distr/lets-plot.min.js\";\n           script.onload = function() {\n               window.letsPlotCall = function(f) {f();};\n               window.letsPlotCallQueue.forEach(function(f) {f();});\n               window.letsPlotCallQueue = [];\n               \n               \n           };\n           script.onerror = function(event) {\n               window.letsPlotCall = function(f) {};\n               window.letsPlotCallQueue = [];\n               var div = document.createElement(\"div\");\n               div.style.color = 'darkred';\n               div.textContent = 'Error loading Lets-Plot JS';\n               document.getElementById(\"grey1Y\").appendChild(div);\n           };\n           var e = document.getElementById(\"grey1Y\");\n           e.appendChild(script);\n       })();\n   </script>"
     },
     "metadata": {},
     "output_type": "display_data"
    }
   ],
   "source": [
    "%use lets-plot\n",
    "%use lets-plot-gt"
   ],
   "metadata": {
    "collapsed": false,
    "ExecuteTime": {
     "end_time": "2024-02-13T21:33:34.303663889Z",
     "start_time": "2024-02-13T21:33:25.610485707Z"
    }
   },
   "execution_count": 43
  },
  {
   "cell_type": "markdown",
   "source": [
    "### Map"
   ],
   "metadata": {
    "collapsed": false
   }
  },
  {
   "cell_type": "code",
   "outputs": [
    {
     "data": {
      "text/html": "   <div id=\"fWkQOQ\"></div>\n   <script type=\"text/javascript\" data-lets-plot-script=\"plot\">\n       (function() {\n           var plotSpec={\n\"mapping\":{\n},\n\"data\":{\n\"latitude\":[50.8427501,50.4100558,50.4814121,50.5009515,50.8427501,50.8427501,50.6876172,50.6165736,50.5499808,50.8753581,51.0005742,50.8427501,50.8427501,50.8068661,50.5504316,50.2624949,50.025208,50.2849958,50.5427462,50.8427501,50.8427501,50.5208191,50.5661351,50.6200815,50.6271045,50.7360287,50.8427501,50.8427501,50.8346073,50.5951652,50.411922,50.3534706,50.2998711,50.2950667,50.8427501,50.8427501,50.4812987,50.2273877,49.6096472,49.9102794,49.8122243,50.1085676,50.8427501,50.8427501,50.9667658,50.9912912,50.8919578,50.8427501,50.8427501,51.361787,50.8460854,50.7044254,50.7670559,50.8427501,50.8427501,50.5695196,50.6061517,50.688785,50.8427501,50.8427501,50.77614,50.8848669,50.9477884,51.0432467,51.2948381,51.2365829,51.0566021,51.1936164,50.8427501],\n\"longitude\":[4.3515499,4.3249526,4.4932598,4.6473657,4.3515499,4.3515499,3.8574228,3.5470846,3.3727285,3.3113744,3.8693544,4.3515499,4.3515499,4.1538281,4.0964803,4.1523037,4.3409814,4.3106966,4.4476802,4.3515499,4.3515499,3.9017078,3.7853169,3.8018102,3.9115699,4.1360863,4.3515499,4.3515499,4.557627,5.2276287,5.173705,4.9014191,4.6155651,4.4831638,4.3515499,4.3515499,5.5198048,5.7437507,5.8560275,5.5659053,5.0029,5.1429583,4.3515499,4.3515499,4.3834362,4.492735,4.4182942,4.3515499,4.3515499,4.861625,5.5750235,5.4399729,5.2628934,4.3515499,4.3515499,5.5844061,5.7830075,5.2859129,4.3515499,4.3515499,3.007366,2.8162074,2.7891722,2.6501345,3.1994146,3.3400765,3.573045,4.1787815,4.3515499]\n},\n\"kind\":\"plot\",\n\"scales\":[],\n\"layers\":[{\n\"mapping\":{\n\"x\":\"longitude\",\n\"y\":\"latitude\"\n},\n\"stat\":\"identity\",\n\"position\":\"identity\",\n\"geom\":\"path\",\n\"data\":{\n}\n}]\n};\n           var plotContainer = document.getElementById(\"fWkQOQ\");\n           window.letsPlotCall(function() {{\n               LetsPlot.buildPlotFromProcessedSpecs(plotSpec, -1, -1, plotContainer);\n           }});\n       })();    \n   </script>"
     },
     "execution_count": 44,
     "metadata": {},
     "output_type": "execute_result"
    }
   ],
   "source": [
    "val locations = mutableListOf<Location>()\n",
    "solution.vehicles.forEach { vehicle ->\n",
    "    locations.add(vehicle.homeLocation)\n",
    "    locations.addAll(vehicle.visits.map { it.location })\n",
    "    locations.add(vehicle.homeLocation)\n",
    "}\n",
    "\n",
    "val dataset = mapOf(\n",
    "        \"latitude\" to locations.map { it.latitude },\n",
    "        \"longitude\" to locations.map { it.longitude },\n",
    ")\n",
    "\n",
    "letsPlot(dataset) + geomPath() { x = \"longitude\"; y = \"latitude\" }"
   ],
   "metadata": {
    "collapsed": false,
    "ExecuteTime": {
     "end_time": "2024-02-13T21:33:34.619270176Z",
     "start_time": "2024-02-13T21:33:34.303991228Z"
    }
   },
   "execution_count": 44
  },
  {
   "cell_type": "markdown",
   "source": [
    "## Statistics\n",
    "\n",
    "For a big dataset, a schedule visualization is often too verbose.\n",
    "Let's visualize the solution through statistics:"
   ],
   "metadata": {
    "collapsed": false
   }
  },
  {
   "cell_type": "code",
   "outputs": [],
   "source": [
    "%use kandy"
   ],
   "metadata": {
    "collapsed": false,
    "ExecuteTime": {
     "end_time": "2024-02-13T21:33:38.534630196Z",
     "start_time": "2024-02-13T21:33:34.615546267Z"
    }
   },
   "execution_count": 45
  },
  {
   "cell_type": "markdown",
   "source": [
    "### Visits per vehicle"
   ],
   "metadata": {
    "collapsed": false
   }
  },
  {
   "cell_type": "code",
   "outputs": [
    {
     "data": {
      "text/html": "            <iframe src='about:blank' style='border:none !important;' width='600' height='400' srcdoc=\"&lt;html lang=&quot;en&quot;>\n   &lt;head>\n       &lt;style> html, body { margin: 0; overflow: hidden; } &lt;/style>\n       &lt;script type=&quot;text/javascript&quot; data-lets-plot-script=&quot;library&quot; src=&quot;https://cdn.jsdelivr.net/gh/JetBrains/lets-plot@v4.0.1/js-package/distr/lets-plot.min.js&quot;>&lt;/script>\n   &lt;/head>\n   &lt;body>\n          &lt;div id=&quot;WeWKZ7&quot;>&lt;/div>\n   &lt;script type=&quot;text/javascript&quot; data-lets-plot-script=&quot;plot&quot;>\n       var plotSpec={\n&quot;ggtitle&quot;:{\n&quot;text&quot;:&quot;Visits per vehicle&quot;\n},\n&quot;mapping&quot;:{\n},\n&quot;data&quot;:{\n},\n&quot;kind&quot;:&quot;plot&quot;,\n&quot;scales&quot;:[{\n&quot;aesthetic&quot;:&quot;x&quot;,\n&quot;discrete&quot;:true,\n&quot;name&quot;:&quot;Vehicle&quot;\n},{\n&quot;aesthetic&quot;:&quot;y&quot;,\n&quot;name&quot;:&quot;Visits&quot;,\n&quot;limits&quot;:[null,null]\n}],\n&quot;layers&quot;:[{\n&quot;mapping&quot;:{\n&quot;x&quot;:&quot;x&quot;,\n&quot;y&quot;:&quot;y&quot;\n},\n&quot;stat&quot;:&quot;identity&quot;,\n&quot;data&quot;:{\n&quot;x&quot;:[&quot;Vehicle A&quot;,&quot;Vehicle B&quot;,&quot;Vehicle C&quot;,&quot;Vehicle D&quot;,&quot;Vehicle E&quot;,&quot;Vehicle F&quot;,&quot;Vehicle G&quot;,&quot;Vehicle H&quot;,&quot;Vehicle I&quot;,&quot;Vehicle J&quot;],\n&quot;y&quot;:[3.0,5.0,6.0,5.0,6.0,6.0,3.0,4.0,3.0,8.0]\n},\n&quot;sampling&quot;:&quot;none&quot;,\n&quot;position&quot;:&quot;dodge&quot;,\n&quot;geom&quot;:&quot;bar&quot;\n}]\n};\n       var plotContainer = document.getElementById(&quot;WeWKZ7&quot;);\n       LetsPlot.buildPlotFromProcessedSpecs(plotSpec, -1, -1, plotContainer);\n   &lt;/script>\n   &lt;/body>\n&lt;/html>\"></iframe>            \n        <svg id=dcaec0fc-780a-45a4-aae7-229aec24ea6c xmlns=\"http://www.w3.org/2000/svg\" xmlns:xlink=\"http://www.w3.org/1999/xlink\" class=\"plt-container\" width=\"600.0\" height=\"400.0\">\n  <style type=\"text/css\">\n  .plt-container {\n   font-family: Lucida Grande, sans-serif;\n   user-select: none;\n   -webkit-user-select: none;\n   -moz-user-select: none;\n   -ms-user-select: none;\n}\ntext {\n   text-rendering: optimizeLegibility;\n}\n#puOM3m7 .plot-title {\n   fill: #474747;\n   font-family: Lucida Grande, sans-serif;\n   font-size: 16.0px;\n   font-weight: normal;\n   font-style: normal;   \n}\n#puOM3m7 .plot-subtitle {\n   fill: #474747;\n   font-family: Lucida Grande, sans-serif;\n   font-size: 15.0px;\n   font-weight: normal;\n   font-style: normal;   \n}\n#puOM3m7 .plot-caption {\n   fill: #474747;\n   font-family: Lucida Grande, sans-serif;\n   font-size: 13.0px;\n   font-weight: normal;\n   font-style: normal;   \n}\n#puOM3m7 .legend-title {\n   fill: #474747;\n   font-family: Lucida Grande, sans-serif;\n   font-size: 15.0px;\n   font-weight: normal;\n   font-style: normal;   \n}\n#puOM3m7 .legend-item {\n   fill: #474747;\n   font-family: Lucida Grande, sans-serif;\n   font-size: 13.0px;\n   font-weight: normal;\n   font-style: normal;   \n}\n#puOM3m7 .axis-title-x {\n   fill: #474747;\n   font-family: Lucida Grande, sans-serif;\n   font-size: 15.0px;\n   font-weight: normal;\n   font-style: normal;   \n}\n#puOM3m7 .axis-text-x {\n   fill: #474747;\n   font-family: Lucida Grande, sans-serif;\n   font-size: 13.0px;\n   font-weight: normal;\n   font-style: normal;   \n}\n#dwLZhII .axis-tooltip-text-x {\n   fill: #ffffff;\n   font-family: Lucida Grande, sans-serif;\n   font-size: 13.0px;\n   font-weight: normal;\n   font-style: normal;   \n}\n#puOM3m7 .axis-title-y {\n   fill: #474747;\n   font-family: Lucida Grande, sans-serif;\n   font-size: 15.0px;\n   font-weight: normal;\n   font-style: normal;   \n}\n#puOM3m7 .axis-text-y {\n   fill: #474747;\n   font-family: Lucida Grande, sans-serif;\n   font-size: 13.0px;\n   font-weight: normal;\n   font-style: normal;   \n}\n#dwLZhII .axis-tooltip-text-y {\n   fill: #ffffff;\n   font-family: Lucida Grande, sans-serif;\n   font-size: 13.0px;\n   font-weight: normal;\n   font-style: normal;   \n}\n#puOM3m7 .facet-strip-text-x {\n   fill: #474747;\n   font-family: Lucida Grande, sans-serif;\n   font-size: 13.0px;\n   font-weight: normal;\n   font-style: normal;   \n}\n#puOM3m7 .facet-strip-text-y {\n   fill: #474747;\n   font-family: Lucida Grande, sans-serif;\n   font-size: 13.0px;\n   font-weight: normal;\n   font-style: normal;   \n}\n#dwLZhII .tooltip-text {\n   fill: #474747;\n   font-family: Lucida Grande, sans-serif;\n   font-size: 13.0px;\n   font-weight: normal;\n   font-style: normal;   \n}\n#dwLZhII .tooltip-title {\n   fill: #474747;\n   font-family: Lucida Grande, sans-serif;\n   font-size: 13.0px;\n   font-weight: bold;\n   font-style: normal;   \n}\n#dwLZhII .tooltip-label {\n   fill: #474747;\n   font-family: Lucida Grande, sans-serif;\n   font-size: 13.0px;\n   font-weight: bold;\n   font-style: normal;   \n}\n\n  </style>\n  <g id=\"puOM3m7\">\n    <path fill-rule=\"evenodd\" fill=\"rgb(255,255,255)\" fill-opacity=\"1.0\" d=\"M0.0 0.0 L0.0 400.0 L600.0 400.0 L600.0 0.0 Z\">\n    </path>\n    <g transform=\"translate(23.0 34.0 ) \">\n      <g transform=\"translate(13.980605455468202 264.6440659298154 ) \">\n        <line x1=\"34.89928217999473\" y1=\"-0.0\" x2=\"34.89928217999473\" y2=\"-264.6440659298154\" stroke=\"rgb(233,233,233)\" stroke-opacity=\"1.0\" stroke-width=\"1.0\">\n        </line>\n        <line x1=\"88.59048553383278\" y1=\"-0.0\" x2=\"88.59048553383278\" y2=\"-264.6440659298154\" stroke=\"rgb(233,233,233)\" stroke-opacity=\"1.0\" stroke-width=\"1.0\">\n        </line>\n        <line x1=\"142.2816888876708\" y1=\"-0.0\" x2=\"142.2816888876708\" y2=\"-264.6440659298154\" stroke=\"rgb(233,233,233)\" stroke-opacity=\"1.0\" stroke-width=\"1.0\">\n        </line>\n        <line x1=\"195.97289224150887\" y1=\"-0.0\" x2=\"195.97289224150887\" y2=\"-264.6440659298154\" stroke=\"rgb(233,233,233)\" stroke-opacity=\"1.0\" stroke-width=\"1.0\">\n        </line>\n        <line x1=\"249.6640955953469\" y1=\"-0.0\" x2=\"249.6640955953469\" y2=\"-264.6440659298154\" stroke=\"rgb(233,233,233)\" stroke-opacity=\"1.0\" stroke-width=\"1.0\">\n        </line>\n        <line x1=\"303.35529894918494\" y1=\"-0.0\" x2=\"303.35529894918494\" y2=\"-264.6440659298154\" stroke=\"rgb(233,233,233)\" stroke-opacity=\"1.0\" stroke-width=\"1.0\">\n        </line>\n        <line x1=\"357.046502303023\" y1=\"-0.0\" x2=\"357.046502303023\" y2=\"-264.6440659298154\" stroke=\"rgb(233,233,233)\" stroke-opacity=\"1.0\" stroke-width=\"1.0\">\n        </line>\n        <line x1=\"410.737705656861\" y1=\"-0.0\" x2=\"410.737705656861\" y2=\"-264.6440659298154\" stroke=\"rgb(233,233,233)\" stroke-opacity=\"1.0\" stroke-width=\"1.0\">\n        </line>\n        <line x1=\"464.42890901069904\" y1=\"-0.0\" x2=\"464.42890901069904\" y2=\"-264.6440659298154\" stroke=\"rgb(233,233,233)\" stroke-opacity=\"1.0\" stroke-width=\"1.0\">\n        </line>\n        <line x1=\"518.1201123645371\" y1=\"-0.0\" x2=\"518.1201123645371\" y2=\"-264.6440659298154\" stroke=\"rgb(233,233,233)\" stroke-opacity=\"1.0\" stroke-width=\"1.0\">\n        </line>\n        <g transform=\"translate(34.89928217999473 0.0 ) \">\n          <line stroke-width=\"1.0\" stroke=\"rgb(71,71,71)\" stroke-opacity=\"1.0\" x2=\"0.0\" y2=\"4.0\">\n          </line>\n          <g transform=\"translate(0.0 7.0 ) rotate(90.0 ) \">\n            <text class=\"axis-text-x\" dy=\"0.35em\">\n            Vehicle A\n            </text>\n          </g>\n        </g>\n        <g transform=\"translate(88.59048553383278 0.0 ) \">\n          <line stroke-width=\"1.0\" stroke=\"rgb(71,71,71)\" stroke-opacity=\"1.0\" x2=\"0.0\" y2=\"4.0\">\n          </line>\n          <g transform=\"translate(0.0 7.0 ) rotate(90.0 ) \">\n            <text class=\"axis-text-x\" dy=\"0.35em\">\n            Vehicle B\n            </text>\n          </g>\n        </g>\n        <g transform=\"translate(142.2816888876708 0.0 ) \">\n          <line stroke-width=\"1.0\" stroke=\"rgb(71,71,71)\" stroke-opacity=\"1.0\" x2=\"0.0\" y2=\"4.0\">\n          </line>\n          <g transform=\"translate(0.0 7.0 ) rotate(90.0 ) \">\n            <text class=\"axis-text-x\" dy=\"0.35em\">\n            Vehicle C\n            </text>\n          </g>\n        </g>\n        <g transform=\"translate(195.97289224150887 0.0 ) \">\n          <line stroke-width=\"1.0\" stroke=\"rgb(71,71,71)\" stroke-opacity=\"1.0\" x2=\"0.0\" y2=\"4.0\">\n          </line>\n          <g transform=\"translate(0.0 7.0 ) rotate(90.0 ) \">\n            <text class=\"axis-text-x\" dy=\"0.35em\">\n            Vehicle D\n            </text>\n          </g>\n        </g>\n        <g transform=\"translate(249.6640955953469 0.0 ) \">\n          <line stroke-width=\"1.0\" stroke=\"rgb(71,71,71)\" stroke-opacity=\"1.0\" x2=\"0.0\" y2=\"4.0\">\n          </line>\n          <g transform=\"translate(0.0 7.0 ) rotate(90.0 ) \">\n            <text class=\"axis-text-x\" dy=\"0.35em\">\n            Vehicle E\n            </text>\n          </g>\n        </g>\n        <g transform=\"translate(303.35529894918494 0.0 ) \">\n          <line stroke-width=\"1.0\" stroke=\"rgb(71,71,71)\" stroke-opacity=\"1.0\" x2=\"0.0\" y2=\"4.0\">\n          </line>\n          <g transform=\"translate(0.0 7.0 ) rotate(90.0 ) \">\n            <text class=\"axis-text-x\" dy=\"0.35em\">\n            Vehicle F\n            </text>\n          </g>\n        </g>\n        <g transform=\"translate(357.046502303023 0.0 ) \">\n          <line stroke-width=\"1.0\" stroke=\"rgb(71,71,71)\" stroke-opacity=\"1.0\" x2=\"0.0\" y2=\"4.0\">\n          </line>\n          <g transform=\"translate(0.0 7.0 ) rotate(90.0 ) \">\n            <text class=\"axis-text-x\" dy=\"0.35em\">\n            Vehicle G\n            </text>\n          </g>\n        </g>\n        <g transform=\"translate(410.737705656861 0.0 ) \">\n          <line stroke-width=\"1.0\" stroke=\"rgb(71,71,71)\" stroke-opacity=\"1.0\" x2=\"0.0\" y2=\"4.0\">\n          </line>\n          <g transform=\"translate(0.0 7.0 ) rotate(90.0 ) \">\n            <text class=\"axis-text-x\" dy=\"0.35em\">\n            Vehicle H\n            </text>\n          </g>\n        </g>\n        <g transform=\"translate(464.42890901069904 0.0 ) \">\n          <line stroke-width=\"1.0\" stroke=\"rgb(71,71,71)\" stroke-opacity=\"1.0\" x2=\"0.0\" y2=\"4.0\">\n          </line>\n          <g transform=\"translate(0.0 7.0 ) rotate(90.0 ) \">\n            <text class=\"axis-text-x\" dy=\"0.35em\">\n            Vehicle I\n            </text>\n          </g>\n        </g>\n        <g transform=\"translate(518.1201123645371 0.0 ) \">\n          <line stroke-width=\"1.0\" stroke=\"rgb(71,71,71)\" stroke-opacity=\"1.0\" x2=\"0.0\" y2=\"4.0\">\n          </line>\n          <g transform=\"translate(0.0 7.0 ) rotate(90.0 ) \">\n            <text class=\"axis-text-x\" dy=\"0.35em\">\n            Vehicle J\n            </text>\n          </g>\n        </g>\n        <line x1=\"0.0\" y1=\"0.0\" x2=\"553.0193945445318\" y2=\"0.0\" stroke-width=\"1.0\" stroke=\"rgb(71,71,71)\" stroke-opacity=\"1.0\">\n        </line>\n      </g>\n      <g transform=\"translate(13.980605455468202 0.0 ) \">\n        <line x1=\"0.0\" y1=\"201.63357404176412\" x2=\"553.0193945445318\" y2=\"201.63357404176412\" stroke=\"rgb(233,233,233)\" stroke-opacity=\"1.0\" stroke-width=\"1.0\">\n        </line>\n        <line x1=\"0.0\" y1=\"138.62308215371283\" x2=\"553.0193945445318\" y2=\"138.62308215371283\" stroke=\"rgb(233,233,233)\" stroke-opacity=\"1.0\" stroke-width=\"1.0\">\n        </line>\n        <line x1=\"0.0\" y1=\"75.61259026566154\" x2=\"553.0193945445318\" y2=\"75.61259026566154\" stroke=\"rgb(233,233,233)\" stroke-opacity=\"1.0\" stroke-width=\"1.0\">\n        </line>\n        <line x1=\"0.0\" y1=\"12.602098377610275\" x2=\"553.0193945445318\" y2=\"12.602098377610275\" stroke=\"rgb(233,233,233)\" stroke-opacity=\"1.0\" stroke-width=\"1.0\">\n        </line>\n        <g transform=\"translate(0.0 264.6440659298154 ) \">\n          <g transform=\"translate(-3.0 0.0 ) \">\n            <text class=\"axis-text-y\" text-anchor=\"end\" dy=\"0.35em\">\n            0\n            </text>\n          </g>\n        </g>\n        <g transform=\"translate(0.0 201.63357404176412 ) \">\n          <g transform=\"translate(-3.0 0.0 ) \">\n            <text class=\"axis-text-y\" text-anchor=\"end\" dy=\"0.35em\">\n            2\n            </text>\n          </g>\n        </g>\n        <g transform=\"translate(0.0 138.62308215371283 ) \">\n          <g transform=\"translate(-3.0 0.0 ) \">\n            <text class=\"axis-text-y\" text-anchor=\"end\" dy=\"0.35em\">\n            4\n            </text>\n          </g>\n        </g>\n        <g transform=\"translate(0.0 75.61259026566154 ) \">\n          <g transform=\"translate(-3.0 0.0 ) \">\n            <text class=\"axis-text-y\" text-anchor=\"end\" dy=\"0.35em\">\n            6\n            </text>\n          </g>\n        </g>\n        <g transform=\"translate(0.0 12.602098377610275 ) \">\n          <g transform=\"translate(-3.0 0.0 ) \">\n            <text class=\"axis-text-y\" text-anchor=\"end\" dy=\"0.35em\">\n            8\n            </text>\n          </g>\n        </g>\n      </g>\n      <g transform=\"translate(13.980605455468202 0.0 ) \" clip-path=\"url(#cVKalDT)\" clip-bounds-jfx=\"[rect (0.0, 0.0), (553.0193945445318, 264.6440659298154)]\">\n        <defs>\n          <clipPath id=\"cVKalDT\">\n            <rect x=\"0.0\" y=\"0.0\" width=\"553.0193945445318\" height=\"264.6440659298154\">\n            </rect>\n          </clipPath>\n        </defs>\n        <rect x=\"493.95907085531\" y=\"12.602098377610275\" height=\"252.0419675522051\" width=\"48.32208301845429\" stroke=\"rgb(255,255,255)\" stroke-opacity=\"1.0\" fill=\"rgb(17,142,216)\" fill-opacity=\"1.0\" stroke-width=\"1.6500000000000001\">\n        </rect>\n        <rect x=\"440.2678675014719\" y=\"170.12832809773846\" height=\"94.51573783207692\" width=\"48.32208301845418\" stroke=\"rgb(255,255,255)\" stroke-opacity=\"1.0\" fill=\"rgb(17,142,216)\" fill-opacity=\"1.0\" stroke-width=\"1.6500000000000001\">\n        </rect>\n        <rect x=\"386.5766641476339\" y=\"138.62308215371283\" height=\"126.02098377610255\" width=\"48.32208301845424\" stroke=\"rgb(255,255,255)\" stroke-opacity=\"1.0\" fill=\"rgb(17,142,216)\" fill-opacity=\"1.0\" stroke-width=\"1.6500000000000001\">\n        </rect>\n        <rect x=\"332.88546079379586\" y=\"170.12832809773846\" height=\"94.51573783207692\" width=\"48.32208301845424\" stroke=\"rgb(255,255,255)\" stroke-opacity=\"1.0\" fill=\"rgb(17,142,216)\" fill-opacity=\"1.0\" stroke-width=\"1.6500000000000001\">\n        </rect>\n        <rect x=\"279.1942574399578\" y=\"75.61259026566154\" height=\"189.03147566415385\" width=\"48.32208301845424\" stroke=\"rgb(255,255,255)\" stroke-opacity=\"1.0\" fill=\"rgb(17,142,216)\" fill-opacity=\"1.0\" stroke-width=\"1.6500000000000001\">\n        </rect>\n        <rect x=\"225.5030540861198\" y=\"75.61259026566154\" height=\"189.03147566415385\" width=\"48.32208301845424\" stroke=\"rgb(255,255,255)\" stroke-opacity=\"1.0\" fill=\"rgb(17,142,216)\" fill-opacity=\"1.0\" stroke-width=\"1.6500000000000001\">\n        </rect>\n        <rect x=\"171.8118507322817\" y=\"107.1178362096872\" height=\"157.52622972012819\" width=\"48.32208301845424\" stroke=\"rgb(255,255,255)\" stroke-opacity=\"1.0\" fill=\"rgb(17,142,216)\" fill-opacity=\"1.0\" stroke-width=\"1.6500000000000001\">\n        </rect>\n        <rect x=\"118.12064737844369\" y=\"75.61259026566154\" height=\"189.03147566415385\" width=\"48.322083018454265\" stroke=\"rgb(255,255,255)\" stroke-opacity=\"1.0\" fill=\"rgb(17,142,216)\" fill-opacity=\"1.0\" stroke-width=\"1.6500000000000001\">\n        </rect>\n        <rect x=\"64.42944402460566\" y=\"107.1178362096872\" height=\"157.52622972012819\" width=\"48.32208301845424\" stroke=\"rgb(255,255,255)\" stroke-opacity=\"1.0\" fill=\"rgb(17,142,216)\" fill-opacity=\"1.0\" stroke-width=\"1.6500000000000001\">\n        </rect>\n        <rect x=\"10.73824067076761\" y=\"170.12832809773846\" height=\"94.51573783207692\" width=\"48.32208301845424\" stroke=\"rgb(255,255,255)\" stroke-opacity=\"1.0\" fill=\"rgb(17,142,216)\" fill-opacity=\"1.0\" stroke-width=\"1.6500000000000001\">\n        </rect>\n      </g>\n    </g>\n    <g transform=\"translate(36.9806054554682 15.2 ) \">\n      <text class=\"plot-title\" y=\"0.0\">\n      Visits per vehicle\n      </text>\n    </g>\n    <g transform=\"translate(14.5 166.3220329649077 ) rotate(-90.0 ) \">\n      <text class=\"axis-title-y\" y=\"0.0\" text-anchor=\"middle\">\n      Visits\n      </text>\n    </g>\n    <g transform=\"translate(313.4903027277341 391.5 ) \">\n      <text class=\"axis-title-x\" y=\"0.0\" text-anchor=\"middle\">\n      Vehicle\n      </text>\n    </g>\n    <path fill=\"rgb(0,0,0)\" fill-opacity=\"0.0\" stroke=\"rgb(71,71,71)\" stroke-opacity=\"1.0\" stroke-width=\"0.0\" d=\"M0.0 0.0 L0.0 400.0 L600.0 400.0 L600.0 0.0 Z\">\n    </path>\n  </g>\n  <g id=\"dwLZhII\">\n  </g>\n</svg>\n        <script>document.getElementById(\"dcaec0fc-780a-45a4-aae7-229aec24ea6c\").style.display = \"none\";</script>",
      "application/plot+json": {
       "output_type": "lets_plot_spec",
       "output": {
        "ggtitle": {
         "text": "Visits per vehicle"
        },
        "mapping": {},
        "data": {},
        "kind": "plot",
        "scales": [
         {
          "aesthetic": "x",
          "discrete": true,
          "name": "Vehicle"
         },
         {
          "aesthetic": "y",
          "name": "Visits",
          "limits": [
           null,
           null
          ]
         }
        ],
        "layers": [
         {
          "mapping": {
           "x": "x",
           "y": "y"
          },
          "stat": "identity",
          "data": {
           "x": [
            "Vehicle A",
            "Vehicle B",
            "Vehicle C",
            "Vehicle D",
            "Vehicle E",
            "Vehicle F",
            "Vehicle G",
            "Vehicle H",
            "Vehicle I",
            "Vehicle J"
           ],
           "y": [
            3.0,
            5.0,
            6.0,
            5.0,
            6.0,
            6.0,
            3.0,
            4.0,
            3.0,
            8.0
           ]
          },
          "sampling": "none",
          "position": "dodge",
          "geom": "bar"
         }
        ]
       },
       "apply_color_scheme": true,
       "swing_enabled": true
      }
     },
     "execution_count": 46,
     "metadata": {},
     "output_type": "execute_result"
    }
   ],
   "source": [
    "val vehicles = solution.vehicles.map { it.name }\n",
    "val visitCounts = solution.vehicles.map { it.visits.size }\n",
    "\n",
    "plot {\n",
    "    layout.title = \"Visits per vehicle\"\n",
    "    bars {\n",
    "        x(vehicles) { axis.name = \"Vehicle\" }\n",
    "        y(visitCounts) { axis.name = \"Visits\" }\n",
    "    }\n",
    "}"
   ],
   "metadata": {
    "collapsed": false,
    "ExecuteTime": {
     "end_time": "2024-02-13T21:33:38.768017969Z",
     "start_time": "2024-02-13T21:33:38.535411752Z"
    }
   },
   "execution_count": 46
  },
  {
   "cell_type": "markdown",
   "source": [
    "### Load per vehicle"
   ],
   "metadata": {
    "collapsed": false
   }
  },
  {
   "cell_type": "code",
   "outputs": [
    {
     "data": {
      "text/html": "            <iframe src='about:blank' style='border:none !important;' width='600' height='400' srcdoc=\"&lt;html lang=&quot;en&quot;>\n   &lt;head>\n       &lt;style> html, body { margin: 0; overflow: hidden; } &lt;/style>\n       &lt;script type=&quot;text/javascript&quot; data-lets-plot-script=&quot;library&quot; src=&quot;https://cdn.jsdelivr.net/gh/JetBrains/lets-plot@v4.0.1/js-package/distr/lets-plot.min.js&quot;>&lt;/script>\n   &lt;/head>\n   &lt;body>\n          &lt;div id=&quot;FJ1gMN&quot;>&lt;/div>\n   &lt;script type=&quot;text/javascript&quot; data-lets-plot-script=&quot;plot&quot;>\n       var plotSpec={\n&quot;ggtitle&quot;:{\n&quot;text&quot;:&quot;Load per vehicle&quot;\n},\n&quot;mapping&quot;:{\n},\n&quot;data&quot;:{\n},\n&quot;kind&quot;:&quot;plot&quot;,\n&quot;scales&quot;:[{\n&quot;aesthetic&quot;:&quot;x&quot;,\n&quot;discrete&quot;:true,\n&quot;name&quot;:&quot;Vehicle&quot;\n},{\n&quot;aesthetic&quot;:&quot;y&quot;,\n&quot;name&quot;:&quot;Load&quot;,\n&quot;limits&quot;:[null,null]\n}],\n&quot;layers&quot;:[{\n&quot;mapping&quot;:{\n&quot;x&quot;:&quot;x&quot;,\n&quot;y&quot;:&quot;y&quot;\n},\n&quot;stat&quot;:&quot;identity&quot;,\n&quot;data&quot;:{\n&quot;x&quot;:[&quot;Vehicle A&quot;,&quot;Vehicle B&quot;,&quot;Vehicle C&quot;,&quot;Vehicle D&quot;,&quot;Vehicle E&quot;,&quot;Vehicle F&quot;,&quot;Vehicle G&quot;,&quot;Vehicle H&quot;,&quot;Vehicle I&quot;,&quot;Vehicle J&quot;],\n&quot;y&quot;:[89.0,93.0,98.0,89.0,99.0,100.0,76.0,94.0,98.0,98.0]\n},\n&quot;sampling&quot;:&quot;none&quot;,\n&quot;position&quot;:&quot;dodge&quot;,\n&quot;geom&quot;:&quot;bar&quot;\n}]\n};\n       var plotContainer = document.getElementById(&quot;FJ1gMN&quot;);\n       LetsPlot.buildPlotFromProcessedSpecs(plotSpec, -1, -1, plotContainer);\n   &lt;/script>\n   &lt;/body>\n&lt;/html>\"></iframe>            \n        <svg id=7318d237-8290-4eb4-8d34-b8ec9b88d919 xmlns=\"http://www.w3.org/2000/svg\" xmlns:xlink=\"http://www.w3.org/1999/xlink\" class=\"plt-container\" width=\"600.0\" height=\"400.0\">\n  <style type=\"text/css\">\n  .plt-container {\n   font-family: Lucida Grande, sans-serif;\n   user-select: none;\n   -webkit-user-select: none;\n   -moz-user-select: none;\n   -ms-user-select: none;\n}\ntext {\n   text-rendering: optimizeLegibility;\n}\n#pjxo5IJ .plot-title {\n   fill: #474747;\n   font-family: Lucida Grande, sans-serif;\n   font-size: 16.0px;\n   font-weight: normal;\n   font-style: normal;   \n}\n#pjxo5IJ .plot-subtitle {\n   fill: #474747;\n   font-family: Lucida Grande, sans-serif;\n   font-size: 15.0px;\n   font-weight: normal;\n   font-style: normal;   \n}\n#pjxo5IJ .plot-caption {\n   fill: #474747;\n   font-family: Lucida Grande, sans-serif;\n   font-size: 13.0px;\n   font-weight: normal;\n   font-style: normal;   \n}\n#pjxo5IJ .legend-title {\n   fill: #474747;\n   font-family: Lucida Grande, sans-serif;\n   font-size: 15.0px;\n   font-weight: normal;\n   font-style: normal;   \n}\n#pjxo5IJ .legend-item {\n   fill: #474747;\n   font-family: Lucida Grande, sans-serif;\n   font-size: 13.0px;\n   font-weight: normal;\n   font-style: normal;   \n}\n#pjxo5IJ .axis-title-x {\n   fill: #474747;\n   font-family: Lucida Grande, sans-serif;\n   font-size: 15.0px;\n   font-weight: normal;\n   font-style: normal;   \n}\n#pjxo5IJ .axis-text-x {\n   fill: #474747;\n   font-family: Lucida Grande, sans-serif;\n   font-size: 13.0px;\n   font-weight: normal;\n   font-style: normal;   \n}\n#dbzvdY1 .axis-tooltip-text-x {\n   fill: #ffffff;\n   font-family: Lucida Grande, sans-serif;\n   font-size: 13.0px;\n   font-weight: normal;\n   font-style: normal;   \n}\n#pjxo5IJ .axis-title-y {\n   fill: #474747;\n   font-family: Lucida Grande, sans-serif;\n   font-size: 15.0px;\n   font-weight: normal;\n   font-style: normal;   \n}\n#pjxo5IJ .axis-text-y {\n   fill: #474747;\n   font-family: Lucida Grande, sans-serif;\n   font-size: 13.0px;\n   font-weight: normal;\n   font-style: normal;   \n}\n#dbzvdY1 .axis-tooltip-text-y {\n   fill: #ffffff;\n   font-family: Lucida Grande, sans-serif;\n   font-size: 13.0px;\n   font-weight: normal;\n   font-style: normal;   \n}\n#pjxo5IJ .facet-strip-text-x {\n   fill: #474747;\n   font-family: Lucida Grande, sans-serif;\n   font-size: 13.0px;\n   font-weight: normal;\n   font-style: normal;   \n}\n#pjxo5IJ .facet-strip-text-y {\n   fill: #474747;\n   font-family: Lucida Grande, sans-serif;\n   font-size: 13.0px;\n   font-weight: normal;\n   font-style: normal;   \n}\n#dbzvdY1 .tooltip-text {\n   fill: #474747;\n   font-family: Lucida Grande, sans-serif;\n   font-size: 13.0px;\n   font-weight: normal;\n   font-style: normal;   \n}\n#dbzvdY1 .tooltip-title {\n   fill: #474747;\n   font-family: Lucida Grande, sans-serif;\n   font-size: 13.0px;\n   font-weight: bold;\n   font-style: normal;   \n}\n#dbzvdY1 .tooltip-label {\n   fill: #474747;\n   font-family: Lucida Grande, sans-serif;\n   font-size: 13.0px;\n   font-weight: bold;\n   font-style: normal;   \n}\n\n  </style>\n  <g id=\"pjxo5IJ\">\n    <path fill-rule=\"evenodd\" fill=\"rgb(255,255,255)\" fill-opacity=\"1.0\" d=\"M0.0 0.0 L0.0 400.0 L600.0 400.0 L600.0 0.0 Z\">\n    </path>\n    <g transform=\"translate(23.0 34.0 ) \">\n      <g transform=\"translate(29.941816366404606 264.6440659298154 ) \">\n        <line x1=\"33.89202129726573\" y1=\"-0.0\" x2=\"33.89202129726573\" y2=\"-264.6440659298154\" stroke=\"rgb(233,233,233)\" stroke-opacity=\"1.0\" stroke-width=\"1.0\">\n        </line>\n        <line x1=\"86.03359252382839\" y1=\"-0.0\" x2=\"86.03359252382839\" y2=\"-264.6440659298154\" stroke=\"rgb(233,233,233)\" stroke-opacity=\"1.0\" stroke-width=\"1.0\">\n        </line>\n        <line x1=\"138.17516375039105\" y1=\"-0.0\" x2=\"138.17516375039105\" y2=\"-264.6440659298154\" stroke=\"rgb(233,233,233)\" stroke-opacity=\"1.0\" stroke-width=\"1.0\">\n        </line>\n        <line x1=\"190.3167349769537\" y1=\"-0.0\" x2=\"190.3167349769537\" y2=\"-264.6440659298154\" stroke=\"rgb(233,233,233)\" stroke-opacity=\"1.0\" stroke-width=\"1.0\">\n        </line>\n        <line x1=\"242.45830620351637\" y1=\"-0.0\" x2=\"242.45830620351637\" y2=\"-264.6440659298154\" stroke=\"rgb(233,233,233)\" stroke-opacity=\"1.0\" stroke-width=\"1.0\">\n        </line>\n        <line x1=\"294.599877430079\" y1=\"-0.0\" x2=\"294.599877430079\" y2=\"-264.6440659298154\" stroke=\"rgb(233,233,233)\" stroke-opacity=\"1.0\" stroke-width=\"1.0\">\n        </line>\n        <line x1=\"346.7414486566417\" y1=\"-0.0\" x2=\"346.7414486566417\" y2=\"-264.6440659298154\" stroke=\"rgb(233,233,233)\" stroke-opacity=\"1.0\" stroke-width=\"1.0\">\n        </line>\n        <line x1=\"398.8830198832044\" y1=\"-0.0\" x2=\"398.8830198832044\" y2=\"-264.6440659298154\" stroke=\"rgb(233,233,233)\" stroke-opacity=\"1.0\" stroke-width=\"1.0\">\n        </line>\n        <line x1=\"451.024591109767\" y1=\"-0.0\" x2=\"451.024591109767\" y2=\"-264.6440659298154\" stroke=\"rgb(233,233,233)\" stroke-opacity=\"1.0\" stroke-width=\"1.0\">\n        </line>\n        <line x1=\"503.16616233632965\" y1=\"-0.0\" x2=\"503.16616233632965\" y2=\"-264.6440659298154\" stroke=\"rgb(233,233,233)\" stroke-opacity=\"1.0\" stroke-width=\"1.0\">\n        </line>\n        <g transform=\"translate(33.89202129726573 0.0 ) \">\n          <line stroke-width=\"1.0\" stroke=\"rgb(71,71,71)\" stroke-opacity=\"1.0\" x2=\"0.0\" y2=\"4.0\">\n          </line>\n          <g transform=\"translate(0.0 7.0 ) rotate(90.0 ) \">\n            <text class=\"axis-text-x\" dy=\"0.35em\">\n            Vehicle A\n            </text>\n          </g>\n        </g>\n        <g transform=\"translate(86.03359252382839 0.0 ) \">\n          <line stroke-width=\"1.0\" stroke=\"rgb(71,71,71)\" stroke-opacity=\"1.0\" x2=\"0.0\" y2=\"4.0\">\n          </line>\n          <g transform=\"translate(0.0 7.0 ) rotate(90.0 ) \">\n            <text class=\"axis-text-x\" dy=\"0.35em\">\n            Vehicle B\n            </text>\n          </g>\n        </g>\n        <g transform=\"translate(138.17516375039105 0.0 ) \">\n          <line stroke-width=\"1.0\" stroke=\"rgb(71,71,71)\" stroke-opacity=\"1.0\" x2=\"0.0\" y2=\"4.0\">\n          </line>\n          <g transform=\"translate(0.0 7.0 ) rotate(90.0 ) \">\n            <text class=\"axis-text-x\" dy=\"0.35em\">\n            Vehicle C\n            </text>\n          </g>\n        </g>\n        <g transform=\"translate(190.3167349769537 0.0 ) \">\n          <line stroke-width=\"1.0\" stroke=\"rgb(71,71,71)\" stroke-opacity=\"1.0\" x2=\"0.0\" y2=\"4.0\">\n          </line>\n          <g transform=\"translate(0.0 7.0 ) rotate(90.0 ) \">\n            <text class=\"axis-text-x\" dy=\"0.35em\">\n            Vehicle D\n            </text>\n          </g>\n        </g>\n        <g transform=\"translate(242.45830620351637 0.0 ) \">\n          <line stroke-width=\"1.0\" stroke=\"rgb(71,71,71)\" stroke-opacity=\"1.0\" x2=\"0.0\" y2=\"4.0\">\n          </line>\n          <g transform=\"translate(0.0 7.0 ) rotate(90.0 ) \">\n            <text class=\"axis-text-x\" dy=\"0.35em\">\n            Vehicle E\n            </text>\n          </g>\n        </g>\n        <g transform=\"translate(294.599877430079 0.0 ) \">\n          <line stroke-width=\"1.0\" stroke=\"rgb(71,71,71)\" stroke-opacity=\"1.0\" x2=\"0.0\" y2=\"4.0\">\n          </line>\n          <g transform=\"translate(0.0 7.0 ) rotate(90.0 ) \">\n            <text class=\"axis-text-x\" dy=\"0.35em\">\n            Vehicle F\n            </text>\n          </g>\n        </g>\n        <g transform=\"translate(346.7414486566417 0.0 ) \">\n          <line stroke-width=\"1.0\" stroke=\"rgb(71,71,71)\" stroke-opacity=\"1.0\" x2=\"0.0\" y2=\"4.0\">\n          </line>\n          <g transform=\"translate(0.0 7.0 ) rotate(90.0 ) \">\n            <text class=\"axis-text-x\" dy=\"0.35em\">\n            Vehicle G\n            </text>\n          </g>\n        </g>\n        <g transform=\"translate(398.8830198832044 0.0 ) \">\n          <line stroke-width=\"1.0\" stroke=\"rgb(71,71,71)\" stroke-opacity=\"1.0\" x2=\"0.0\" y2=\"4.0\">\n          </line>\n          <g transform=\"translate(0.0 7.0 ) rotate(90.0 ) \">\n            <text class=\"axis-text-x\" dy=\"0.35em\">\n            Vehicle H\n            </text>\n          </g>\n        </g>\n        <g transform=\"translate(451.024591109767 0.0 ) \">\n          <line stroke-width=\"1.0\" stroke=\"rgb(71,71,71)\" stroke-opacity=\"1.0\" x2=\"0.0\" y2=\"4.0\">\n          </line>\n          <g transform=\"translate(0.0 7.0 ) rotate(90.0 ) \">\n            <text class=\"axis-text-x\" dy=\"0.35em\">\n            Vehicle I\n            </text>\n          </g>\n        </g>\n        <g transform=\"translate(503.16616233632965 0.0 ) \">\n          <line stroke-width=\"1.0\" stroke=\"rgb(71,71,71)\" stroke-opacity=\"1.0\" x2=\"0.0\" y2=\"4.0\">\n          </line>\n          <g transform=\"translate(0.0 7.0 ) rotate(90.0 ) \">\n            <text class=\"axis-text-x\" dy=\"0.35em\">\n            Vehicle J\n            </text>\n          </g>\n        </g>\n        <line x1=\"0.0\" y1=\"0.0\" x2=\"537.0581836335954\" y2=\"0.0\" stroke-width=\"1.0\" stroke=\"rgb(71,71,71)\" stroke-opacity=\"1.0\">\n        </line>\n      </g>\n      <g transform=\"translate(29.941816366404606 0.0 ) \">\n        <line x1=\"0.0\" y1=\"214.23567241937437\" x2=\"537.0581836335954\" y2=\"214.23567241937437\" stroke=\"rgb(233,233,233)\" stroke-opacity=\"1.0\" stroke-width=\"1.0\">\n        </line>\n        <line x1=\"0.0\" y1=\"163.82727890893335\" x2=\"537.0581836335954\" y2=\"163.82727890893335\" stroke=\"rgb(233,233,233)\" stroke-opacity=\"1.0\" stroke-width=\"1.0\">\n        </line>\n        <line x1=\"0.0\" y1=\"113.4188853984923\" x2=\"537.0581836335954\" y2=\"113.4188853984923\" stroke=\"rgb(233,233,233)\" stroke-opacity=\"1.0\" stroke-width=\"1.0\">\n        </line>\n        <line x1=\"0.0\" y1=\"63.01049188805129\" x2=\"537.0581836335954\" y2=\"63.01049188805129\" stroke=\"rgb(233,233,233)\" stroke-opacity=\"1.0\" stroke-width=\"1.0\">\n        </line>\n        <line x1=\"0.0\" y1=\"12.602098377610275\" x2=\"537.0581836335954\" y2=\"12.602098377610275\" stroke=\"rgb(233,233,233)\" stroke-opacity=\"1.0\" stroke-width=\"1.0\">\n        </line>\n        <g transform=\"translate(0.0 264.6440659298154 ) \">\n          <g transform=\"translate(-3.0 0.0 ) \">\n            <text class=\"axis-text-y\" text-anchor=\"end\" dy=\"0.35em\">\n            0\n            </text>\n          </g>\n        </g>\n        <g transform=\"translate(0.0 214.23567241937437 ) \">\n          <g transform=\"translate(-3.0 0.0 ) \">\n            <text class=\"axis-text-y\" text-anchor=\"end\" dy=\"0.35em\">\n            20\n            </text>\n          </g>\n        </g>\n        <g transform=\"translate(0.0 163.82727890893335 ) \">\n          <g transform=\"translate(-3.0 0.0 ) \">\n            <text class=\"axis-text-y\" text-anchor=\"end\" dy=\"0.35em\">\n            40\n            </text>\n          </g>\n        </g>\n        <g transform=\"translate(0.0 113.4188853984923 ) \">\n          <g transform=\"translate(-3.0 0.0 ) \">\n            <text class=\"axis-text-y\" text-anchor=\"end\" dy=\"0.35em\">\n            60\n            </text>\n          </g>\n        </g>\n        <g transform=\"translate(0.0 63.01049188805129 ) \">\n          <g transform=\"translate(-3.0 0.0 ) \">\n            <text class=\"axis-text-y\" text-anchor=\"end\" dy=\"0.35em\">\n            80\n            </text>\n          </g>\n        </g>\n        <g transform=\"translate(0.0 12.602098377610275 ) \">\n          <g transform=\"translate(-3.0 0.0 ) \">\n            <text class=\"axis-text-y\" text-anchor=\"end\" dy=\"0.35em\">\n            100\n            </text>\n          </g>\n        </g>\n      </g>\n      <g transform=\"translate(29.941816366404606 0.0 ) \" clip-path=\"url(#ch6U6y0)\" clip-bounds-jfx=\"[rect (0.0, 0.0), (537.0581836335954, 264.6440659298154)]\">\n        <defs>\n          <clipPath id=\"ch6U6y0\">\n            <rect x=\"0.0\" y=\"0.0\" width=\"537.0581836335954\" height=\"264.6440659298154\">\n            </rect>\n          </clipPath>\n        </defs>\n        <rect x=\"479.7024552843765\" y=\"17.642937728654374\" height=\"247.001128201161\" width=\"46.927414103906415\" stroke=\"rgb(255,255,255)\" stroke-opacity=\"1.0\" fill=\"rgb(17,142,216)\" fill-opacity=\"1.0\" stroke-width=\"1.6500000000000001\">\n        </rect>\n        <rect x=\"427.56088405781384\" y=\"17.642937728654374\" height=\"247.001128201161\" width=\"46.92741410390636\" stroke=\"rgb(255,255,255)\" stroke-opacity=\"1.0\" fill=\"rgb(17,142,216)\" fill-opacity=\"1.0\" stroke-width=\"1.6500000000000001\">\n        </rect>\n        <rect x=\"375.41931283125115\" y=\"27.72461643074257\" height=\"236.9194494990728\" width=\"46.927414103906415\" stroke=\"rgb(255,255,255)\" stroke-opacity=\"1.0\" fill=\"rgb(17,142,216)\" fill-opacity=\"1.0\" stroke-width=\"1.6500000000000001\">\n        </rect>\n        <rect x=\"323.2777416046885\" y=\"73.09217059013949\" height=\"191.5518953396759\" width=\"46.92741410390636\" stroke=\"rgb(255,255,255)\" stroke-opacity=\"1.0\" fill=\"rgb(17,142,216)\" fill-opacity=\"1.0\" stroke-width=\"1.6500000000000001\">\n        </rect>\n        <rect x=\"271.1361703781258\" y=\"12.602098377610275\" height=\"252.0419675522051\" width=\"46.927414103906415\" stroke=\"rgb(255,255,255)\" stroke-opacity=\"1.0\" fill=\"rgb(17,142,216)\" fill-opacity=\"1.0\" stroke-width=\"1.6500000000000001\">\n        </rect>\n        <rect x=\"218.99459915156316\" y=\"15.122518053132325\" height=\"249.52154787668306\" width=\"46.927414103906386\" stroke=\"rgb(255,255,255)\" stroke-opacity=\"1.0\" fill=\"rgb(17,142,216)\" fill-opacity=\"1.0\" stroke-width=\"1.6500000000000001\">\n        </rect>\n        <rect x=\"166.8530279250005\" y=\"40.32671480835282\" height=\"224.31735112146256\" width=\"46.927414103906386\" stroke=\"rgb(255,255,255)\" stroke-opacity=\"1.0\" fill=\"rgb(17,142,216)\" fill-opacity=\"1.0\" stroke-width=\"1.6500000000000001\">\n        </rect>\n        <rect x=\"114.71145669843786\" y=\"17.642937728654374\" height=\"247.001128201161\" width=\"46.9274141039064\" stroke=\"rgb(255,255,255)\" stroke-opacity=\"1.0\" fill=\"rgb(17,142,216)\" fill-opacity=\"1.0\" stroke-width=\"1.6500000000000001\">\n        </rect>\n        <rect x=\"62.569885471875196\" y=\"30.24503610626462\" height=\"234.39902982355076\" width=\"46.9274141039064\" stroke=\"rgb(255,255,255)\" stroke-opacity=\"1.0\" fill=\"rgb(17,142,216)\" fill-opacity=\"1.0\" stroke-width=\"1.6500000000000001\">\n        </rect>\n        <rect x=\"10.428314245312531\" y=\"40.32671480835282\" height=\"224.31735112146256\" width=\"46.927414103906386\" stroke=\"rgb(255,255,255)\" stroke-opacity=\"1.0\" fill=\"rgb(17,142,216)\" fill-opacity=\"1.0\" stroke-width=\"1.6500000000000001\">\n        </rect>\n      </g>\n    </g>\n    <g transform=\"translate(52.94181636640461 15.2 ) \">\n      <text class=\"plot-title\" y=\"0.0\">\n      Load per vehicle\n      </text>\n    </g>\n    <g transform=\"translate(14.5 166.3220329649077 ) rotate(-90.0 ) \">\n      <text class=\"axis-title-y\" y=\"0.0\" text-anchor=\"middle\">\n      Load\n      </text>\n    </g>\n    <g transform=\"translate(321.4709081832023 391.5 ) \">\n      <text class=\"axis-title-x\" y=\"0.0\" text-anchor=\"middle\">\n      Vehicle\n      </text>\n    </g>\n    <path fill=\"rgb(0,0,0)\" fill-opacity=\"0.0\" stroke=\"rgb(71,71,71)\" stroke-opacity=\"1.0\" stroke-width=\"0.0\" d=\"M0.0 0.0 L0.0 400.0 L600.0 400.0 L600.0 0.0 Z\">\n    </path>\n  </g>\n  <g id=\"dbzvdY1\">\n  </g>\n</svg>\n        <script>document.getElementById(\"7318d237-8290-4eb4-8d34-b8ec9b88d919\").style.display = \"none\";</script>",
      "application/plot+json": {
       "output_type": "lets_plot_spec",
       "output": {
        "ggtitle": {
         "text": "Load per vehicle"
        },
        "mapping": {},
        "data": {},
        "kind": "plot",
        "scales": [
         {
          "aesthetic": "x",
          "discrete": true,
          "name": "Vehicle"
         },
         {
          "aesthetic": "y",
          "name": "Load",
          "limits": [
           null,
           null
          ]
         }
        ],
        "layers": [
         {
          "mapping": {
           "x": "x",
           "y": "y"
          },
          "stat": "identity",
          "data": {
           "x": [
            "Vehicle A",
            "Vehicle B",
            "Vehicle C",
            "Vehicle D",
            "Vehicle E",
            "Vehicle F",
            "Vehicle G",
            "Vehicle H",
            "Vehicle I",
            "Vehicle J"
           ],
           "y": [
            89.0,
            93.0,
            98.0,
            89.0,
            99.0,
            100.0,
            76.0,
            94.0,
            98.0,
            98.0
           ]
          },
          "sampling": "none",
          "position": "dodge",
          "geom": "bar"
         }
        ]
       },
       "apply_color_scheme": true,
       "swing_enabled": true
      }
     },
     "execution_count": 47,
     "metadata": {},
     "output_type": "execute_result"
    }
   ],
   "source": [
    "val vehicles = solution.vehicles.map { it.name }\n",
    "val load = solution.vehicles.map { it.visits.sumOf { it.load } }\n",
    "\n",
    "plot {\n",
    "    layout.title = \"Load per vehicle\"\n",
    "    bars {\n",
    "        x(vehicles) { axis.name = \"Vehicle\" }\n",
    "        y(load) { axis.name = \"Load\" }\n",
    "    }\n",
    "}"
   ],
   "metadata": {
    "collapsed": false,
    "ExecuteTime": {
     "end_time": "2024-02-13T21:33:39.103661009Z",
     "start_time": "2024-02-13T21:33:38.763399200Z"
    }
   },
   "execution_count": 47
  },
  {
   "cell_type": "markdown",
   "source": [
    "## Conclusion\n",
    "\n",
    "To learn more about planning optimization, visit [timefold.ai](https://timefold.ai)."
   ],
   "metadata": {
    "collapsed": false
   }
  }
 ],
 "metadata": {
  "kernelspec": {
   "display_name": "Kotlin",
   "language": "kotlin",
   "name": "kotlin"
  },
  "language_info": {
   "name": "kotlin",
   "version": "1.8.0",
   "mimetype": "text/x-kotlin",
   "file_extension": ".kt",
   "pygments_lexer": "kotlin",
   "codemirror_mode": "text/x-kotlin",
   "nbconvert_exporter": ""
  }
 },
 "nbformat": 4,
 "nbformat_minor": 0
}
